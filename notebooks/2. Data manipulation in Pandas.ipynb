{
 "cells": [
  {
   "cell_type": "markdown",
   "metadata": {
    "collapsed": true
   },
   "source": [
    "<span>\n",
    "<img src=\"http://www.sobigdata.eu/sites/default/files/logo-SoBigData-DEFINITIVO.png\" width=\"180px\" align=\"right\"/>\n",
    "</span>\n",
    "<span>\n",
    "<b>Author:</b> <a href=\"http://about.giuliorossetti.net\">Giulio Rossetti</a><br/>\n",
    "<b>Python version:</b>  3.x<br/>\n",
    "<b>Last update:</b> 22/01/2018\n",
    "</span>"
   ]
  },
  {
   "cell_type": "markdown",
   "metadata": {
    "collapsed": true
   },
   "source": [
    "<a id='top'></a>\n",
    "# *Data Manipulation with Pandas*\n",
    "This notebook contains an overview of basic Pandas functionalities.\n",
    "\n",
    "**Note:** this notebook is purposely not 100% comprehensive, it only discusses the basic things you need to get started."
   ]
  },
  {
   "cell_type": "markdown",
   "metadata": {},
   "source": [
    "## Table of Contents\n",
    "1. [Series](#series) \n",
    "    1. [Create](#sa)\n",
    "    2. [Index and Slice](#sb)\n",
    "    3. [Adding/Merging](#sc)\n",
    "2. [DataFrames](#dataframes) \n",
    "    1. [Create and Access](#da)\n",
    "    2. [Load a DataFrame from csv file](#db)\n",
    "    3. [Reshape](#dc)\n",
    "        1. [Index and Slice Columns](#dc1)\n",
    "        2. [Select/Index Rows](#dc2)\n",
    "        3. [Create and Delete Columns/Rows](#dc3)\n",
    "        4. [Subset](#dc4)\n",
    "        5. [Conditional Selection](#dc5)\n",
    "        6. [Re-setting and Setting Index](#dc6)\n",
    "        7. [Multi-indexing](#dc7)\n",
    "    4. [Data Transformation](#de)\n",
    "        1. [Missing Values](#de1)\n",
    "        2. [GroupBy](#de2)\n",
    "        3. [Concatenation](#de3)\n",
    "        4. [Merging](#de4)\n",
    "        5. [Joining](#de5)\n",
    "        6. [Miscellanea](#de6)"
   ]
  },
  {
   "cell_type": "code",
   "execution_count": 2,
   "metadata": {
    "ExecuteTime": {
     "end_time": "2023-09-01T06:54:13.866669Z",
     "start_time": "2023-09-01T06:54:12.715699Z"
    }
   },
   "outputs": [],
   "source": [
    "import numpy as np\n",
    "import pandas as pd"
   ]
  },
  {
   "cell_type": "markdown",
   "metadata": {},
   "source": [
    "<a id='series'></a>\n",
    "## 1. Series ([to top](#top))\n",
    "\n",
    "Pandas Series are **one-dimensional** labeled arrays capable of holding any data type (integers, strings, floating point numbers...) <br/>\n",
    "The axis labels are collectively referred to as the **index**. "
   ]
  },
  {
   "cell_type": "markdown",
   "metadata": {},
   "source": [
    "<a id='sa'></a>\n",
    "### 1.A Create ([to top](#top))\n",
    "Pandas Series can be build by leveraging different data types"
   ]
  },
  {
   "cell_type": "markdown",
   "metadata": {},
   "source": [
    "From numerical data"
   ]
  },
  {
   "cell_type": "code",
   "execution_count": 3,
   "metadata": {
    "ExecuteTime": {
     "end_time": "2023-09-01T06:54:15.627731Z",
     "start_time": "2023-09-01T06:54:15.610264Z"
    }
   },
   "outputs": [
    {
     "data": {
      "text/plain": "0    10\n1    20\n2    30\ndtype: int64"
     },
     "execution_count": 3,
     "metadata": {},
     "output_type": "execute_result"
    }
   ],
   "source": [
    "my_data = [10,20,30]\n",
    "pd.Series(data=my_data)"
   ]
  },
  {
   "cell_type": "markdown",
   "metadata": {},
   "source": [
    "From numerical data and corresponding index (row labels)"
   ]
  },
  {
   "cell_type": "code",
   "execution_count": 4,
   "metadata": {
    "ExecuteTime": {
     "end_time": "2023-09-01T06:54:16.465074Z",
     "start_time": "2023-09-01T06:54:16.443474Z"
    }
   },
   "outputs": [
    {
     "data": {
      "text/plain": "A    10\nB    20\nC    30\ndtype: int64"
     },
     "execution_count": 4,
     "metadata": {},
     "output_type": "execute_result"
    }
   ],
   "source": [
    "labels = ['A','B','C']\n",
    "pd.Series(data=my_data, index=labels)"
   ]
  },
  {
   "cell_type": "markdown",
   "metadata": {},
   "source": [
    "Just using a pre-defined dictionary"
   ]
  },
  {
   "cell_type": "code",
   "execution_count": 5,
   "metadata": {
    "ExecuteTime": {
     "end_time": "2023-09-01T06:54:16.964267Z",
     "start_time": "2023-09-01T06:54:16.940967Z"
    }
   },
   "outputs": [
    {
     "data": {
      "text/plain": "A    10\nB    20\nC    30\ndtype: int64"
     },
     "execution_count": 5,
     "metadata": {},
     "output_type": "execute_result"
    }
   ],
   "source": [
    "d = {'A':10,'B':20,'C':30}\n",
    "pd.Series(d)"
   ]
  },
  {
   "cell_type": "markdown",
   "metadata": {},
   "source": [
    "<a id='sb'></a>\n",
    "### 1.B Index and Slice ([to top](#top))\n",
    "Series can be indexed and sliced"
   ]
  },
  {
   "cell_type": "code",
   "execution_count": 6,
   "metadata": {
    "ExecuteTime": {
     "end_time": "2023-09-01T06:54:17.463888Z",
     "start_time": "2023-09-01T06:54:17.441952Z"
    }
   },
   "outputs": [
    {
     "name": "stdout",
     "output_type": "stream",
     "text": [
      "by name, A: 1\n",
      "by positional value in the series, A: 1\n",
      "by range, B:D\n",
      "B    2\n",
      "C    3\n",
      "D    4\n",
      "dtype: int64\n"
     ]
    }
   ],
   "source": [
    "ser = pd.Series([1, 2, 3, 4], ['A', 'B', 'C', 'D'])\n",
    "\n",
    "print(\"by name, A:\", ser['A'])\n",
    "print(\"by positional value in the series, A:\", ser[0])\n",
    "print(\"by range, B:D\\n\", ser[1:4], sep='')"
   ]
  },
  {
   "cell_type": "markdown",
   "metadata": {},
   "source": [
    "<a id='sc'></a>\n",
    "### 1.C Adding/Merging  ([to top](#top))\n",
    "Series havin having common indices can be combined"
   ]
  },
  {
   "cell_type": "code",
   "execution_count": 7,
   "metadata": {
    "ExecuteTime": {
     "end_time": "2023-09-01T06:54:17.981077Z",
     "start_time": "2023-09-01T06:54:17.961025Z"
    }
   },
   "outputs": [],
   "source": [
    "ser1 = pd.Series([1, 2, 3, 4], ['A', 'B', 'C', 'D'])\n",
    "ser2 = pd.Series([1, 2, 5, 4], ['A', 'B', 'E', 'D'])\n",
    "ser3 = ser1+ser2"
   ]
  },
  {
   "cell_type": "markdown",
   "metadata": {},
   "source": [
    "After adding the two series, the result looks like this..."
   ]
  },
  {
   "cell_type": "code",
   "execution_count": 8,
   "metadata": {
    "ExecuteTime": {
     "end_time": "2023-09-01T06:54:19.102803Z",
     "start_time": "2023-09-01T06:54:19.077852Z"
    }
   },
   "outputs": [
    {
     "data": {
      "text/plain": "A    2.0\nB    4.0\nC    NaN\nD    8.0\nE    NaN\ndtype: float64"
     },
     "execution_count": 8,
     "metadata": {},
     "output_type": "execute_result"
    }
   ],
   "source": [
    "ser3"
   ]
  },
  {
   "cell_type": "markdown",
   "metadata": {},
   "source": [
    "Python tries to add values where it finds common index name, and puts NaN where indices are missing <br/>\n",
    "The same happens for all possible operations (e.g., product)"
   ]
  },
  {
   "cell_type": "code",
   "execution_count": 9,
   "metadata": {
    "ExecuteTime": {
     "end_time": "2023-09-01T06:54:20.407375Z",
     "start_time": "2023-09-01T06:54:20.379231Z"
    }
   },
   "outputs": [
    {
     "data": {
      "text/plain": "A     1.0\nB     4.0\nC     NaN\nD    16.0\nE     NaN\ndtype: float64"
     },
     "execution_count": 9,
     "metadata": {},
     "output_type": "execute_result"
    }
   ],
   "source": [
    "ser1*ser2"
   ]
  },
  {
   "cell_type": "markdown",
   "metadata": {},
   "source": [
    "<a id='dataframes'></a>\n",
    "## 2. DataFrame ([to top](#top))\n",
    "A DataFrame is a **2-dimensional** labeled data structure with columns of potentially different types. <br/>\n",
    "You can think of it like a spreadsheet or SQL table, or a dict of Series objects. <br/>\n",
    "It is generally the most commonly used pandas object."
   ]
  },
  {
   "cell_type": "code",
   "execution_count": 10,
   "metadata": {
    "ExecuteTime": {
     "end_time": "2023-09-01T06:54:26.228781Z",
     "start_time": "2023-09-01T06:54:26.203137Z"
    }
   },
   "outputs": [],
   "source": [
    "from numpy.random import randn as rn"
   ]
  },
  {
   "cell_type": "markdown",
   "metadata": {},
   "source": [
    "<a id='da'></a>\n",
    "### 2.A Create and Access ([to top](#top))\n",
    "We start generating some random data..."
   ]
  },
  {
   "cell_type": "code",
   "execution_count": 11,
   "metadata": {
    "ExecuteTime": {
     "end_time": "2023-09-01T06:54:26.987225Z",
     "start_time": "2023-09-01T06:54:26.961536Z"
    }
   },
   "outputs": [
    {
     "data": {
      "text/plain": "array([[ 0.83382043,  1.19876384, -0.47880057,  0.51627293],\n       [ 0.90107883, -1.55162389, -1.10126283,  1.14827971],\n       [ 0.37635361,  0.01216237,  0.30119291,  0.16196442],\n       [ 0.87776844,  0.36719598, -0.4499829 , -0.40011891],\n       [-0.2574982 ,  0.12833491,  1.24433062,  1.00199119]])"
     },
     "execution_count": 11,
     "metadata": {},
     "output_type": "execute_result"
    }
   ],
   "source": [
    "np.random.seed()\n",
    "matrix_data = rn(5,4)\n",
    "matrix_data"
   ]
  },
  {
   "cell_type": "markdown",
   "metadata": {},
   "source": [
    "Now we can transform such random matrix in a DataFrame"
   ]
  },
  {
   "cell_type": "code",
   "execution_count": 12,
   "metadata": {
    "ExecuteTime": {
     "end_time": "2023-09-01T06:54:28.946751Z",
     "start_time": "2023-09-01T06:54:28.921190Z"
    }
   },
   "outputs": [
    {
     "data": {
      "text/plain": "          W         X         Y         Z\nA  0.833820  1.198764 -0.478801  0.516273\nB  0.901079 -1.551624 -1.101263  1.148280\nC  0.376354  0.012162  0.301193  0.161964\nD  0.877768  0.367196 -0.449983 -0.400119\nE -0.257498  0.128335  1.244331  1.001991",
      "text/html": "<div>\n<style scoped>\n    .dataframe tbody tr th:only-of-type {\n        vertical-align: middle;\n    }\n\n    .dataframe tbody tr th {\n        vertical-align: top;\n    }\n\n    .dataframe thead th {\n        text-align: right;\n    }\n</style>\n<table border=\"1\" class=\"dataframe\">\n  <thead>\n    <tr style=\"text-align: right;\">\n      <th></th>\n      <th>W</th>\n      <th>X</th>\n      <th>Y</th>\n      <th>Z</th>\n    </tr>\n  </thead>\n  <tbody>\n    <tr>\n      <th>A</th>\n      <td>0.833820</td>\n      <td>1.198764</td>\n      <td>-0.478801</td>\n      <td>0.516273</td>\n    </tr>\n    <tr>\n      <th>B</th>\n      <td>0.901079</td>\n      <td>-1.551624</td>\n      <td>-1.101263</td>\n      <td>1.148280</td>\n    </tr>\n    <tr>\n      <th>C</th>\n      <td>0.376354</td>\n      <td>0.012162</td>\n      <td>0.301193</td>\n      <td>0.161964</td>\n    </tr>\n    <tr>\n      <th>D</th>\n      <td>0.877768</td>\n      <td>0.367196</td>\n      <td>-0.449983</td>\n      <td>-0.400119</td>\n    </tr>\n    <tr>\n      <th>E</th>\n      <td>-0.257498</td>\n      <td>0.128335</td>\n      <td>1.244331</td>\n      <td>1.001991</td>\n    </tr>\n  </tbody>\n</table>\n</div>"
     },
     "execution_count": 12,
     "metadata": {},
     "output_type": "execute_result"
    }
   ],
   "source": [
    "row_labels = ['A','B','C','D','E']\n",
    "column_headings = ['W','X','Y','Z']\n",
    "\n",
    "df = pd.DataFrame(data=matrix_data, index=row_labels, columns=column_headings)\n",
    "df"
   ]
  },
  {
   "cell_type": "markdown",
   "metadata": {},
   "source": [
    "<a id='db'></a>\n",
    "### 2.B Load a DataFrame from csv file ([to top](#top))\n",
    "Datasets formatted as csv files can be easily loaded into a DataFrame"
   ]
  },
  {
   "cell_type": "code",
   "execution_count": 13,
   "metadata": {
    "ExecuteTime": {
     "end_time": "2023-09-01T06:54:39.689425Z",
     "start_time": "2023-09-01T06:54:39.658989Z"
    }
   },
   "outputs": [],
   "source": [
    "glasgow = pd.read_csv(\"../data/words_glasgow.csv\")"
   ]
  },
  {
   "cell_type": "code",
   "execution_count": 14,
   "metadata": {
    "ExecuteTime": {
     "end_time": "2023-09-01T06:54:42.665676Z",
     "start_time": "2023-09-01T06:54:42.643299Z"
    }
   },
   "outputs": [
    {
     "data": {
      "text/plain": "         word  length  arousal  valence  dominance  concreteness  \\\n0    abattoir       8    4.200    2.864      4.333         5.455   \n1       abbey       5    3.125    5.781      4.667         5.906   \n2  abbreviate      10    3.273    5.250      5.235         3.286   \n3    abdicate       8    4.194    3.767      4.419         3.367   \n4  abdication      10    3.846    3.880      4.800         3.292   \n\n   imageability  familiarity    aoa  semsize  gender  polysemy  \\\n0         4.391        2.382  6.760    4.652   5.391         0   \n1         5.344        3.324  5.177    5.121   3.303         0   \n2         3.177        5.121  5.543    2.667   3.971         0   \n3         2.516        3.971  6.233    4.679   5.167         0   \n4         2.571        3.097  6.407    5.083   4.571         0   \n\n   web_corpus_freq  \n0         160074.0  \n1        4224864.0  \n2         140105.0  \n3         124123.0  \n4         128143.0  ",
      "text/html": "<div>\n<style scoped>\n    .dataframe tbody tr th:only-of-type {\n        vertical-align: middle;\n    }\n\n    .dataframe tbody tr th {\n        vertical-align: top;\n    }\n\n    .dataframe thead th {\n        text-align: right;\n    }\n</style>\n<table border=\"1\" class=\"dataframe\">\n  <thead>\n    <tr style=\"text-align: right;\">\n      <th></th>\n      <th>word</th>\n      <th>length</th>\n      <th>arousal</th>\n      <th>valence</th>\n      <th>dominance</th>\n      <th>concreteness</th>\n      <th>imageability</th>\n      <th>familiarity</th>\n      <th>aoa</th>\n      <th>semsize</th>\n      <th>gender</th>\n      <th>polysemy</th>\n      <th>web_corpus_freq</th>\n    </tr>\n  </thead>\n  <tbody>\n    <tr>\n      <th>0</th>\n      <td>abattoir</td>\n      <td>8</td>\n      <td>4.200</td>\n      <td>2.864</td>\n      <td>4.333</td>\n      <td>5.455</td>\n      <td>4.391</td>\n      <td>2.382</td>\n      <td>6.760</td>\n      <td>4.652</td>\n      <td>5.391</td>\n      <td>0</td>\n      <td>160074.0</td>\n    </tr>\n    <tr>\n      <th>1</th>\n      <td>abbey</td>\n      <td>5</td>\n      <td>3.125</td>\n      <td>5.781</td>\n      <td>4.667</td>\n      <td>5.906</td>\n      <td>5.344</td>\n      <td>3.324</td>\n      <td>5.177</td>\n      <td>5.121</td>\n      <td>3.303</td>\n      <td>0</td>\n      <td>4224864.0</td>\n    </tr>\n    <tr>\n      <th>2</th>\n      <td>abbreviate</td>\n      <td>10</td>\n      <td>3.273</td>\n      <td>5.250</td>\n      <td>5.235</td>\n      <td>3.286</td>\n      <td>3.177</td>\n      <td>5.121</td>\n      <td>5.543</td>\n      <td>2.667</td>\n      <td>3.971</td>\n      <td>0</td>\n      <td>140105.0</td>\n    </tr>\n    <tr>\n      <th>3</th>\n      <td>abdicate</td>\n      <td>8</td>\n      <td>4.194</td>\n      <td>3.767</td>\n      <td>4.419</td>\n      <td>3.367</td>\n      <td>2.516</td>\n      <td>3.971</td>\n      <td>6.233</td>\n      <td>4.679</td>\n      <td>5.167</td>\n      <td>0</td>\n      <td>124123.0</td>\n    </tr>\n    <tr>\n      <th>4</th>\n      <td>abdication</td>\n      <td>10</td>\n      <td>3.846</td>\n      <td>3.880</td>\n      <td>4.800</td>\n      <td>3.292</td>\n      <td>2.571</td>\n      <td>3.097</td>\n      <td>6.407</td>\n      <td>5.083</td>\n      <td>4.571</td>\n      <td>0</td>\n      <td>128143.0</td>\n    </tr>\n  </tbody>\n</table>\n</div>"
     },
     "execution_count": 14,
     "metadata": {},
     "output_type": "execute_result"
    }
   ],
   "source": [
    "glasgow.head()"
   ]
  },
  {
   "cell_type": "markdown",
   "metadata": {},
   "source": [
    "Simple statistics can be obtained through the *describe* method"
   ]
  },
  {
   "cell_type": "code",
   "execution_count": 15,
   "metadata": {
    "ExecuteTime": {
     "end_time": "2023-09-01T06:54:47.054361Z",
     "start_time": "2023-09-01T06:54:47.005520Z"
    }
   },
   "outputs": [
    {
     "data": {
      "text/plain": "            length      arousal      valence    dominance  concreteness  \\\ncount  4682.000000  4682.000000  4682.000000  4682.000000   4682.000000   \nmean      6.348355     4.678129     5.086797     5.044939      4.566273   \nstd       2.006230     1.097163     1.594344     0.930669      1.433689   \nmin       2.000000     2.057000     1.030000     1.941000      1.636000   \n25%       5.000000     3.849000     4.115000     4.529000      3.242000   \n50%       6.000000     4.571000     5.290000     5.123000      4.471000   \n75%       8.000000     5.419000     6.088000     5.600000      5.971000   \nmax      16.000000     8.177000     8.647000     8.371000      6.938000   \n\n       imageability  familiarity          aoa      semsize       gender  \\\ncount   4682.000000  4682.000000  4682.000000  4682.000000  4682.000000   \nmean       4.723018     5.271335     4.143427     4.136403     4.099933   \nstd        1.363110     0.921218     1.252770     1.023293     0.912293   \nmin        1.737000     1.647000     1.219000     1.375000     1.000000   \n25%        3.519250     4.706000     3.114000     3.438000     3.606000   \n50%        4.677000     5.438000     4.177000     4.186500     4.121000   \n75%        6.032000     5.969000     5.152000     4.882000     4.656000   \nmax        6.941000     6.939000     6.971000     6.912000     6.971000   \n\n          polysemy  web_corpus_freq  \ncount  4682.000000     4.668000e+03  \nmean      0.080948     2.988976e+07  \nstd       0.272785     8.490144e+07  \nmin       0.000000     1.277000e+04  \n25%       0.000000     1.671100e+06  \n50%       0.000000     5.702982e+06  \n75%       0.000000     2.232705e+07  \nmax       1.000000     2.022460e+09  ",
      "text/html": "<div>\n<style scoped>\n    .dataframe tbody tr th:only-of-type {\n        vertical-align: middle;\n    }\n\n    .dataframe tbody tr th {\n        vertical-align: top;\n    }\n\n    .dataframe thead th {\n        text-align: right;\n    }\n</style>\n<table border=\"1\" class=\"dataframe\">\n  <thead>\n    <tr style=\"text-align: right;\">\n      <th></th>\n      <th>length</th>\n      <th>arousal</th>\n      <th>valence</th>\n      <th>dominance</th>\n      <th>concreteness</th>\n      <th>imageability</th>\n      <th>familiarity</th>\n      <th>aoa</th>\n      <th>semsize</th>\n      <th>gender</th>\n      <th>polysemy</th>\n      <th>web_corpus_freq</th>\n    </tr>\n  </thead>\n  <tbody>\n    <tr>\n      <th>count</th>\n      <td>4682.000000</td>\n      <td>4682.000000</td>\n      <td>4682.000000</td>\n      <td>4682.000000</td>\n      <td>4682.000000</td>\n      <td>4682.000000</td>\n      <td>4682.000000</td>\n      <td>4682.000000</td>\n      <td>4682.000000</td>\n      <td>4682.000000</td>\n      <td>4682.000000</td>\n      <td>4.668000e+03</td>\n    </tr>\n    <tr>\n      <th>mean</th>\n      <td>6.348355</td>\n      <td>4.678129</td>\n      <td>5.086797</td>\n      <td>5.044939</td>\n      <td>4.566273</td>\n      <td>4.723018</td>\n      <td>5.271335</td>\n      <td>4.143427</td>\n      <td>4.136403</td>\n      <td>4.099933</td>\n      <td>0.080948</td>\n      <td>2.988976e+07</td>\n    </tr>\n    <tr>\n      <th>std</th>\n      <td>2.006230</td>\n      <td>1.097163</td>\n      <td>1.594344</td>\n      <td>0.930669</td>\n      <td>1.433689</td>\n      <td>1.363110</td>\n      <td>0.921218</td>\n      <td>1.252770</td>\n      <td>1.023293</td>\n      <td>0.912293</td>\n      <td>0.272785</td>\n      <td>8.490144e+07</td>\n    </tr>\n    <tr>\n      <th>min</th>\n      <td>2.000000</td>\n      <td>2.057000</td>\n      <td>1.030000</td>\n      <td>1.941000</td>\n      <td>1.636000</td>\n      <td>1.737000</td>\n      <td>1.647000</td>\n      <td>1.219000</td>\n      <td>1.375000</td>\n      <td>1.000000</td>\n      <td>0.000000</td>\n      <td>1.277000e+04</td>\n    </tr>\n    <tr>\n      <th>25%</th>\n      <td>5.000000</td>\n      <td>3.849000</td>\n      <td>4.115000</td>\n      <td>4.529000</td>\n      <td>3.242000</td>\n      <td>3.519250</td>\n      <td>4.706000</td>\n      <td>3.114000</td>\n      <td>3.438000</td>\n      <td>3.606000</td>\n      <td>0.000000</td>\n      <td>1.671100e+06</td>\n    </tr>\n    <tr>\n      <th>50%</th>\n      <td>6.000000</td>\n      <td>4.571000</td>\n      <td>5.290000</td>\n      <td>5.123000</td>\n      <td>4.471000</td>\n      <td>4.677000</td>\n      <td>5.438000</td>\n      <td>4.177000</td>\n      <td>4.186500</td>\n      <td>4.121000</td>\n      <td>0.000000</td>\n      <td>5.702982e+06</td>\n    </tr>\n    <tr>\n      <th>75%</th>\n      <td>8.000000</td>\n      <td>5.419000</td>\n      <td>6.088000</td>\n      <td>5.600000</td>\n      <td>5.971000</td>\n      <td>6.032000</td>\n      <td>5.969000</td>\n      <td>5.152000</td>\n      <td>4.882000</td>\n      <td>4.656000</td>\n      <td>0.000000</td>\n      <td>2.232705e+07</td>\n    </tr>\n    <tr>\n      <th>max</th>\n      <td>16.000000</td>\n      <td>8.177000</td>\n      <td>8.647000</td>\n      <td>8.371000</td>\n      <td>6.938000</td>\n      <td>6.941000</td>\n      <td>6.939000</td>\n      <td>6.971000</td>\n      <td>6.912000</td>\n      <td>6.971000</td>\n      <td>1.000000</td>\n      <td>2.022460e+09</td>\n    </tr>\n  </tbody>\n</table>\n</div>"
     },
     "execution_count": 15,
     "metadata": {},
     "output_type": "execute_result"
    }
   ],
   "source": [
    "glasgow.describe()"
   ]
  },
  {
   "cell_type": "markdown",
   "metadata": {},
   "source": [
    "Or with the *info* one"
   ]
  },
  {
   "cell_type": "code",
   "execution_count": 16,
   "metadata": {
    "ExecuteTime": {
     "end_time": "2023-09-01T06:54:51.372950Z",
     "start_time": "2023-09-01T06:54:51.351983Z"
    }
   },
   "outputs": [
    {
     "name": "stdout",
     "output_type": "stream",
     "text": [
      "<class 'pandas.core.frame.DataFrame'>\n",
      "RangeIndex: 4682 entries, 0 to 4681\n",
      "Data columns (total 13 columns):\n",
      " #   Column           Non-Null Count  Dtype  \n",
      "---  ------           --------------  -----  \n",
      " 0   word             4682 non-null   object \n",
      " 1   length           4682 non-null   int64  \n",
      " 2   arousal          4682 non-null   float64\n",
      " 3   valence          4682 non-null   float64\n",
      " 4   dominance        4682 non-null   float64\n",
      " 5   concreteness     4682 non-null   float64\n",
      " 6   imageability     4682 non-null   float64\n",
      " 7   familiarity      4682 non-null   float64\n",
      " 8   aoa              4682 non-null   float64\n",
      " 9   semsize          4682 non-null   float64\n",
      " 10  gender           4682 non-null   float64\n",
      " 11  polysemy         4682 non-null   int64  \n",
      " 12  web_corpus_freq  4668 non-null   float64\n",
      "dtypes: float64(10), int64(2), object(1)\n",
      "memory usage: 475.6+ KB\n"
     ]
    }
   ],
   "source": [
    "glasgow.info()"
   ]
  },
  {
   "cell_type": "markdown",
   "metadata": {},
   "source": [
    "<a id='dc'></a>\n",
    "### 2.C Reshape ([to top](#top))\n",
    "DataFrame structures can be reshaped in several ways in order to facilitate the analysis of the data they describe "
   ]
  },
  {
   "cell_type": "markdown",
   "metadata": {},
   "source": [
    "<a id='dc1'></a>\n",
    "### 2.C.a Index and Slice Columns ([to top](#top))"
   ]
  },
  {
   "cell_type": "markdown",
   "metadata": {},
   "source": [
    "Slicing a single column produces a Series..."
   ]
  },
  {
   "cell_type": "code",
   "execution_count": 18,
   "metadata": {
    "ExecuteTime": {
     "end_time": "2023-09-01T06:55:21.311988Z",
     "start_time": "2023-09-01T06:55:21.302413Z"
    }
   },
   "outputs": [
    {
     "data": {
      "text/plain": "0        8\n1        5\n2       10\n3        8\n4       10\n        ..\n4677     8\n4678     4\n4679     4\n4680     3\n4681     7\nName: length, Length: 4682, dtype: int64"
     },
     "execution_count": 18,
     "metadata": {},
     "output_type": "execute_result"
    }
   ],
   "source": [
    "glasgow['length']"
   ]
  },
  {
   "cell_type": "code",
   "execution_count": 20,
   "metadata": {
    "ExecuteTime": {
     "end_time": "2023-09-01T06:55:35.907494Z",
     "start_time": "2023-09-01T06:55:35.897302Z"
    }
   },
   "outputs": [
    {
     "data": {
      "text/plain": "pandas.core.series.Series"
     },
     "execution_count": 20,
     "metadata": {},
     "output_type": "execute_result"
    }
   ],
   "source": [
    "type(glasgow['length'])"
   ]
  },
  {
   "cell_type": "markdown",
   "metadata": {},
   "source": [
    "An alternative syntax to access a single column is the *dot* notation"
   ]
  },
  {
   "cell_type": "code",
   "execution_count": 21,
   "metadata": {
    "ExecuteTime": {
     "end_time": "2023-09-01T06:55:45.164041Z",
     "start_time": "2023-09-01T06:55:45.144089Z"
    }
   },
   "outputs": [
    {
     "data": {
      "text/plain": "0        8\n1        5\n2       10\n3        8\n4       10\n        ..\n4677     8\n4678     4\n4679     4\n4680     3\n4681     7\nName: length, Length: 4682, dtype: int64"
     },
     "execution_count": 21,
     "metadata": {},
     "output_type": "execute_result"
    }
   ],
   "source": [
    "glasgow.length"
   ]
  },
  {
   "cell_type": "markdown",
   "metadata": {},
   "source": [
    "#### Unique values"
   ]
  },
  {
   "cell_type": "code",
   "execution_count": 22,
   "metadata": {
    "ExecuteTime": {
     "end_time": "2023-09-01T06:55:53.449579Z",
     "start_time": "2023-09-01T06:55:53.433125Z"
    }
   },
   "outputs": [
    {
     "data": {
      "text/plain": "array([ 8,  5, 10,  7,  9,  6,  4,  3, 11, 12, 13, 16, 14,  2])"
     },
     "execution_count": 22,
     "metadata": {},
     "output_type": "execute_result"
    }
   ],
   "source": [
    "glasgow['length'].unique()"
   ]
  },
  {
   "cell_type": "code",
   "execution_count": 20,
   "metadata": {
    "ExecuteTime": {
     "end_time": "2023-09-01T06:34:37.779045Z",
     "start_time": "2023-09-01T06:34:37.758534Z"
    }
   },
   "outputs": [
    {
     "data": {
      "text/plain": "24.00    30\n22.00    27\n18.00    26\n19.00    25\n28.00    25\n         ..\n36.50     1\n55.50     1\n0.92      1\n23.50     1\n74.00     1\nName: Age, Length: 88, dtype: int64"
     },
     "execution_count": 20,
     "metadata": {},
     "output_type": "execute_result"
    }
   ],
   "source": [
    "titanic['Age'].value_counts()"
   ]
  },
  {
   "cell_type": "markdown",
   "metadata": {},
   "source": [
    "#### DataFrame Filter"
   ]
  },
  {
   "cell_type": "markdown",
   "metadata": {},
   "source": [
    "To obtain a DataFrame an additional bracket must be used"
   ]
  },
  {
   "cell_type": "code",
   "execution_count": 23,
   "metadata": {
    "ExecuteTime": {
     "end_time": "2023-09-01T06:56:02.815020Z",
     "start_time": "2023-09-01T06:56:02.805769Z"
    }
   },
   "outputs": [
    {
     "data": {
      "text/plain": "   length\n0       8\n1       5\n2      10\n3       8\n4      10",
      "text/html": "<div>\n<style scoped>\n    .dataframe tbody tr th:only-of-type {\n        vertical-align: middle;\n    }\n\n    .dataframe tbody tr th {\n        vertical-align: top;\n    }\n\n    .dataframe thead th {\n        text-align: right;\n    }\n</style>\n<table border=\"1\" class=\"dataframe\">\n  <thead>\n    <tr style=\"text-align: right;\">\n      <th></th>\n      <th>length</th>\n    </tr>\n  </thead>\n  <tbody>\n    <tr>\n      <th>0</th>\n      <td>8</td>\n    </tr>\n    <tr>\n      <th>1</th>\n      <td>5</td>\n    </tr>\n    <tr>\n      <th>2</th>\n      <td>10</td>\n    </tr>\n    <tr>\n      <th>3</th>\n      <td>8</td>\n    </tr>\n    <tr>\n      <th>4</th>\n      <td>10</td>\n    </tr>\n  </tbody>\n</table>\n</div>"
     },
     "execution_count": 23,
     "metadata": {},
     "output_type": "execute_result"
    }
   ],
   "source": [
    "glasgow[['length']].head()"
   ]
  },
  {
   "cell_type": "code",
   "execution_count": 24,
   "metadata": {
    "ExecuteTime": {
     "end_time": "2023-09-01T06:56:15.792110Z",
     "start_time": "2023-09-01T06:56:15.782294Z"
    }
   },
   "outputs": [
    {
     "data": {
      "text/plain": "pandas.core.frame.DataFrame"
     },
     "execution_count": 24,
     "metadata": {},
     "output_type": "execute_result"
    }
   ],
   "source": [
    "type(glasgow[['length']])"
   ]
  },
  {
   "cell_type": "code",
   "execution_count": 25,
   "metadata": {
    "ExecuteTime": {
     "end_time": "2023-09-01T06:56:37.537451Z",
     "start_time": "2023-09-01T06:56:37.511435Z"
    }
   },
   "outputs": [
    {
     "data": {
      "text/plain": "   length    aoa\n0       8  6.760\n1       5  5.177\n2      10  5.543\n3       8  6.233\n4      10  6.407",
      "text/html": "<div>\n<style scoped>\n    .dataframe tbody tr th:only-of-type {\n        vertical-align: middle;\n    }\n\n    .dataframe tbody tr th {\n        vertical-align: top;\n    }\n\n    .dataframe thead th {\n        text-align: right;\n    }\n</style>\n<table border=\"1\" class=\"dataframe\">\n  <thead>\n    <tr style=\"text-align: right;\">\n      <th></th>\n      <th>length</th>\n      <th>aoa</th>\n    </tr>\n  </thead>\n  <tbody>\n    <tr>\n      <th>0</th>\n      <td>8</td>\n      <td>6.760</td>\n    </tr>\n    <tr>\n      <th>1</th>\n      <td>5</td>\n      <td>5.177</td>\n    </tr>\n    <tr>\n      <th>2</th>\n      <td>10</td>\n      <td>5.543</td>\n    </tr>\n    <tr>\n      <th>3</th>\n      <td>8</td>\n      <td>6.233</td>\n    </tr>\n    <tr>\n      <th>4</th>\n      <td>10</td>\n      <td>6.407</td>\n    </tr>\n  </tbody>\n</table>\n</div>"
     },
     "execution_count": 25,
     "metadata": {},
     "output_type": "execute_result"
    }
   ],
   "source": [
    "glasgow[['length','aoa']].head() # Multiple selection"
   ]
  },
  {
   "cell_type": "markdown",
   "metadata": {},
   "source": [
    "<a id='dc2'></a>\n",
    "### 2.C.b Select/index Rows ([to top](#top))\n",
    "Rows can be indexed by **label** as well as by **index**"
   ]
  },
  {
   "cell_type": "code",
   "execution_count": 26,
   "metadata": {
    "ExecuteTime": {
     "end_time": "2023-09-01T06:56:44.363036Z",
     "start_time": "2023-09-01T06:56:44.351243Z"
    }
   },
   "outputs": [
    {
     "data": {
      "text/plain": "         word  length  arousal  valence  dominance  concreteness  \\\n1       abbey       5    3.125    5.781      4.667         5.906   \n2  abbreviate      10    3.273    5.250      5.235         3.286   \n\n   imageability  familiarity    aoa  semsize  gender  polysemy  \\\n1         5.344        3.324  5.177    5.121   3.303         0   \n2         3.177        5.121  5.543    2.667   3.971         0   \n\n   web_corpus_freq  \n1        4224864.0  \n2         140105.0  ",
      "text/html": "<div>\n<style scoped>\n    .dataframe tbody tr th:only-of-type {\n        vertical-align: middle;\n    }\n\n    .dataframe tbody tr th {\n        vertical-align: top;\n    }\n\n    .dataframe thead th {\n        text-align: right;\n    }\n</style>\n<table border=\"1\" class=\"dataframe\">\n  <thead>\n    <tr style=\"text-align: right;\">\n      <th></th>\n      <th>word</th>\n      <th>length</th>\n      <th>arousal</th>\n      <th>valence</th>\n      <th>dominance</th>\n      <th>concreteness</th>\n      <th>imageability</th>\n      <th>familiarity</th>\n      <th>aoa</th>\n      <th>semsize</th>\n      <th>gender</th>\n      <th>polysemy</th>\n      <th>web_corpus_freq</th>\n    </tr>\n  </thead>\n  <tbody>\n    <tr>\n      <th>1</th>\n      <td>abbey</td>\n      <td>5</td>\n      <td>3.125</td>\n      <td>5.781</td>\n      <td>4.667</td>\n      <td>5.906</td>\n      <td>5.344</td>\n      <td>3.324</td>\n      <td>5.177</td>\n      <td>5.121</td>\n      <td>3.303</td>\n      <td>0</td>\n      <td>4224864.0</td>\n    </tr>\n    <tr>\n      <th>2</th>\n      <td>abbreviate</td>\n      <td>10</td>\n      <td>3.273</td>\n      <td>5.250</td>\n      <td>5.235</td>\n      <td>3.286</td>\n      <td>3.177</td>\n      <td>5.121</td>\n      <td>5.543</td>\n      <td>2.667</td>\n      <td>3.971</td>\n      <td>0</td>\n      <td>140105.0</td>\n    </tr>\n  </tbody>\n</table>\n</div>"
     },
     "execution_count": 26,
     "metadata": {},
     "output_type": "execute_result"
    }
   ],
   "source": [
    "glasgow.loc[[1, 2]]"
   ]
  },
  {
   "cell_type": "code",
   "execution_count": 27,
   "metadata": {
    "ExecuteTime": {
     "end_time": "2023-09-01T06:56:48.184926Z",
     "start_time": "2023-09-01T06:56:48.162295Z"
    }
   },
   "outputs": [
    {
     "data": {
      "text/plain": "         word  length  arousal  valence  dominance  concreteness  \\\n1       abbey       5    3.125    5.781      4.667         5.906   \n2  abbreviate      10    3.273    5.250      5.235         3.286   \n\n   imageability  familiarity    aoa  semsize  gender  polysemy  \\\n1         5.344        3.324  5.177    5.121   3.303         0   \n2         3.177        5.121  5.543    2.667   3.971         0   \n\n   web_corpus_freq  \n1        4224864.0  \n2         140105.0  ",
      "text/html": "<div>\n<style scoped>\n    .dataframe tbody tr th:only-of-type {\n        vertical-align: middle;\n    }\n\n    .dataframe tbody tr th {\n        vertical-align: top;\n    }\n\n    .dataframe thead th {\n        text-align: right;\n    }\n</style>\n<table border=\"1\" class=\"dataframe\">\n  <thead>\n    <tr style=\"text-align: right;\">\n      <th></th>\n      <th>word</th>\n      <th>length</th>\n      <th>arousal</th>\n      <th>valence</th>\n      <th>dominance</th>\n      <th>concreteness</th>\n      <th>imageability</th>\n      <th>familiarity</th>\n      <th>aoa</th>\n      <th>semsize</th>\n      <th>gender</th>\n      <th>polysemy</th>\n      <th>web_corpus_freq</th>\n    </tr>\n  </thead>\n  <tbody>\n    <tr>\n      <th>1</th>\n      <td>abbey</td>\n      <td>5</td>\n      <td>3.125</td>\n      <td>5.781</td>\n      <td>4.667</td>\n      <td>5.906</td>\n      <td>5.344</td>\n      <td>3.324</td>\n      <td>5.177</td>\n      <td>5.121</td>\n      <td>3.303</td>\n      <td>0</td>\n      <td>4224864.0</td>\n    </tr>\n    <tr>\n      <th>2</th>\n      <td>abbreviate</td>\n      <td>10</td>\n      <td>3.273</td>\n      <td>5.250</td>\n      <td>5.235</td>\n      <td>3.286</td>\n      <td>3.177</td>\n      <td>5.121</td>\n      <td>5.543</td>\n      <td>2.667</td>\n      <td>3.971</td>\n      <td>0</td>\n      <td>140105.0</td>\n    </tr>\n  </tbody>\n</table>\n</div>"
     },
     "execution_count": 27,
     "metadata": {},
     "output_type": "execute_result"
    }
   ],
   "source": [
    "glasgow.iloc[[1,2]]"
   ]
  },
  {
   "cell_type": "markdown",
   "metadata": {},
   "source": [
    "<a id='dc3'></a>\n",
    "### 2.C.c Create and Delete Columns/Rows ([to top](#top))"
   ]
  },
  {
   "cell_type": "markdown",
   "metadata": {},
   "source": [
    "Adding a novel column combining existing ones"
   ]
  },
  {
   "cell_type": "code",
   "execution_count": 28,
   "metadata": {
    "ExecuteTime": {
     "end_time": "2023-09-01T06:57:56.297155Z",
     "start_time": "2023-09-01T06:57:56.258397Z"
    }
   },
   "outputs": [
    {
     "ename": "KeyError",
     "evalue": "'SibSp'",
     "output_type": "error",
     "traceback": [
      "\u001B[0;31m---------------------------------------------------------------------------\u001B[0m",
      "\u001B[0;31mKeyError\u001B[0m                                  Traceback (most recent call last)",
      "\u001B[0;32m/opt/anaconda3/lib/python3.9/site-packages/pandas/core/indexes/base.py\u001B[0m in \u001B[0;36mget_loc\u001B[0;34m(self, key, method, tolerance)\u001B[0m\n\u001B[1;32m   3628\u001B[0m             \u001B[0;32mtry\u001B[0m\u001B[0;34m:\u001B[0m\u001B[0;34m\u001B[0m\u001B[0;34m\u001B[0m\u001B[0m\n\u001B[0;32m-> 3629\u001B[0;31m                 \u001B[0;32mreturn\u001B[0m \u001B[0mself\u001B[0m\u001B[0;34m.\u001B[0m\u001B[0m_engine\u001B[0m\u001B[0;34m.\u001B[0m\u001B[0mget_loc\u001B[0m\u001B[0;34m(\u001B[0m\u001B[0mcasted_key\u001B[0m\u001B[0;34m)\u001B[0m\u001B[0;34m\u001B[0m\u001B[0;34m\u001B[0m\u001B[0m\n\u001B[0m\u001B[1;32m   3630\u001B[0m             \u001B[0;32mexcept\u001B[0m \u001B[0mKeyError\u001B[0m \u001B[0;32mas\u001B[0m \u001B[0merr\u001B[0m\u001B[0;34m:\u001B[0m\u001B[0;34m\u001B[0m\u001B[0;34m\u001B[0m\u001B[0m\n",
      "\u001B[0;32m/opt/anaconda3/lib/python3.9/site-packages/pandas/_libs/index.pyx\u001B[0m in \u001B[0;36mpandas._libs.index.IndexEngine.get_loc\u001B[0;34m()\u001B[0m\n",
      "\u001B[0;32m/opt/anaconda3/lib/python3.9/site-packages/pandas/_libs/index.pyx\u001B[0m in \u001B[0;36mpandas._libs.index.IndexEngine.get_loc\u001B[0;34m()\u001B[0m\n",
      "\u001B[0;32mpandas/_libs/hashtable_class_helper.pxi\u001B[0m in \u001B[0;36mpandas._libs.hashtable.PyObjectHashTable.get_item\u001B[0;34m()\u001B[0m\n",
      "\u001B[0;32mpandas/_libs/hashtable_class_helper.pxi\u001B[0m in \u001B[0;36mpandas._libs.hashtable.PyObjectHashTable.get_item\u001B[0;34m()\u001B[0m\n",
      "\u001B[0;31mKeyError\u001B[0m: 'SibSp'",
      "\nThe above exception was the direct cause of the following exception:\n",
      "\u001B[0;31mKeyError\u001B[0m                                  Traceback (most recent call last)",
      "\u001B[0;32m/var/folders/_8/21qml4c57p7cmb39vj5bvg3h0000gn/T/ipykernel_53338/3541691502.py\u001B[0m in \u001B[0;36m<module>\u001B[0;34m\u001B[0m\n\u001B[0;32m----> 1\u001B[0;31m \u001B[0mglasgow\u001B[0m\u001B[0;34m[\u001B[0m\u001B[0;34m'Family'\u001B[0m\u001B[0;34m]\u001B[0m \u001B[0;34m=\u001B[0m \u001B[0mglasgow\u001B[0m\u001B[0;34m[\u001B[0m\u001B[0;34m'SibSp'\u001B[0m\u001B[0;34m]\u001B[0m \u001B[0;34m+\u001B[0m \u001B[0mglasgow\u001B[0m\u001B[0;34m[\u001B[0m\u001B[0;34m'Parch'\u001B[0m\u001B[0;34m]\u001B[0m\u001B[0;34m\u001B[0m\u001B[0;34m\u001B[0m\u001B[0m\n\u001B[0m\u001B[1;32m      2\u001B[0m \u001B[0mtitanic\u001B[0m\u001B[0;34m.\u001B[0m\u001B[0mhead\u001B[0m\u001B[0;34m(\u001B[0m\u001B[0;34m)\u001B[0m\u001B[0;34m\u001B[0m\u001B[0;34m\u001B[0m\u001B[0m\n",
      "\u001B[0;32m/opt/anaconda3/lib/python3.9/site-packages/pandas/core/frame.py\u001B[0m in \u001B[0;36m__getitem__\u001B[0;34m(self, key)\u001B[0m\n\u001B[1;32m   3503\u001B[0m             \u001B[0;32mif\u001B[0m \u001B[0mself\u001B[0m\u001B[0;34m.\u001B[0m\u001B[0mcolumns\u001B[0m\u001B[0;34m.\u001B[0m\u001B[0mnlevels\u001B[0m \u001B[0;34m>\u001B[0m \u001B[0;36m1\u001B[0m\u001B[0;34m:\u001B[0m\u001B[0;34m\u001B[0m\u001B[0;34m\u001B[0m\u001B[0m\n\u001B[1;32m   3504\u001B[0m                 \u001B[0;32mreturn\u001B[0m \u001B[0mself\u001B[0m\u001B[0;34m.\u001B[0m\u001B[0m_getitem_multilevel\u001B[0m\u001B[0;34m(\u001B[0m\u001B[0mkey\u001B[0m\u001B[0;34m)\u001B[0m\u001B[0;34m\u001B[0m\u001B[0;34m\u001B[0m\u001B[0m\n\u001B[0;32m-> 3505\u001B[0;31m             \u001B[0mindexer\u001B[0m \u001B[0;34m=\u001B[0m \u001B[0mself\u001B[0m\u001B[0;34m.\u001B[0m\u001B[0mcolumns\u001B[0m\u001B[0;34m.\u001B[0m\u001B[0mget_loc\u001B[0m\u001B[0;34m(\u001B[0m\u001B[0mkey\u001B[0m\u001B[0;34m)\u001B[0m\u001B[0;34m\u001B[0m\u001B[0;34m\u001B[0m\u001B[0m\n\u001B[0m\u001B[1;32m   3506\u001B[0m             \u001B[0;32mif\u001B[0m \u001B[0mis_integer\u001B[0m\u001B[0;34m(\u001B[0m\u001B[0mindexer\u001B[0m\u001B[0;34m)\u001B[0m\u001B[0;34m:\u001B[0m\u001B[0;34m\u001B[0m\u001B[0;34m\u001B[0m\u001B[0m\n\u001B[1;32m   3507\u001B[0m                 \u001B[0mindexer\u001B[0m \u001B[0;34m=\u001B[0m \u001B[0;34m[\u001B[0m\u001B[0mindexer\u001B[0m\u001B[0;34m]\u001B[0m\u001B[0;34m\u001B[0m\u001B[0;34m\u001B[0m\u001B[0m\n",
      "\u001B[0;32m/opt/anaconda3/lib/python3.9/site-packages/pandas/core/indexes/base.py\u001B[0m in \u001B[0;36mget_loc\u001B[0;34m(self, key, method, tolerance)\u001B[0m\n\u001B[1;32m   3629\u001B[0m                 \u001B[0;32mreturn\u001B[0m \u001B[0mself\u001B[0m\u001B[0;34m.\u001B[0m\u001B[0m_engine\u001B[0m\u001B[0;34m.\u001B[0m\u001B[0mget_loc\u001B[0m\u001B[0;34m(\u001B[0m\u001B[0mcasted_key\u001B[0m\u001B[0;34m)\u001B[0m\u001B[0;34m\u001B[0m\u001B[0;34m\u001B[0m\u001B[0m\n\u001B[1;32m   3630\u001B[0m             \u001B[0;32mexcept\u001B[0m \u001B[0mKeyError\u001B[0m \u001B[0;32mas\u001B[0m \u001B[0merr\u001B[0m\u001B[0;34m:\u001B[0m\u001B[0;34m\u001B[0m\u001B[0;34m\u001B[0m\u001B[0m\n\u001B[0;32m-> 3631\u001B[0;31m                 \u001B[0;32mraise\u001B[0m \u001B[0mKeyError\u001B[0m\u001B[0;34m(\u001B[0m\u001B[0mkey\u001B[0m\u001B[0;34m)\u001B[0m \u001B[0;32mfrom\u001B[0m \u001B[0merr\u001B[0m\u001B[0;34m\u001B[0m\u001B[0;34m\u001B[0m\u001B[0m\n\u001B[0m\u001B[1;32m   3632\u001B[0m             \u001B[0;32mexcept\u001B[0m \u001B[0mTypeError\u001B[0m\u001B[0;34m:\u001B[0m\u001B[0;34m\u001B[0m\u001B[0;34m\u001B[0m\u001B[0m\n\u001B[1;32m   3633\u001B[0m                 \u001B[0;31m# If we have a listlike key, _check_indexing_error will raise\u001B[0m\u001B[0;34m\u001B[0m\u001B[0;34m\u001B[0m\u001B[0m\n",
      "\u001B[0;31mKeyError\u001B[0m: 'SibSp'"
     ]
    }
   ],
   "source": [
    "glasgow['Family'] = glasgow['SibSp'] + glasgow['Parch']\n",
    "titanic.head()"
   ]
  },
  {
   "cell_type": "markdown",
   "metadata": {},
   "source": [
    "Deleting an existing column"
   ]
  },
  {
   "cell_type": "code",
   "execution_count": 27,
   "metadata": {
    "ExecuteTime": {
     "end_time": "2023-09-01T06:34:44.093187Z",
     "start_time": "2023-09-01T06:34:44.075031Z"
    }
   },
   "outputs": [
    {
     "data": {
      "text/plain": "   PassengerId                                               Name     Sex  \\\n0            1                            Braund, Mr. Owen Harris    male   \n1            2  Cumings, Mrs. John Bradley (Florence Briggs Th...  female   \n2            3                             Heikkinen, Miss. Laina  female   \n3            4       Futrelle, Mrs. Jacques Heath (Lily May Peel)  female   \n4            5                           Allen, Mr. William Henry    male   \n\n    Age  Family  \n0  22.0       1  \n1  38.0       1  \n2  26.0       0  \n3  35.0       1  \n4  35.0       0  ",
      "text/html": "<div>\n<style scoped>\n    .dataframe tbody tr th:only-of-type {\n        vertical-align: middle;\n    }\n\n    .dataframe tbody tr th {\n        vertical-align: top;\n    }\n\n    .dataframe thead th {\n        text-align: right;\n    }\n</style>\n<table border=\"1\" class=\"dataframe\">\n  <thead>\n    <tr style=\"text-align: right;\">\n      <th></th>\n      <th>PassengerId</th>\n      <th>Name</th>\n      <th>Sex</th>\n      <th>Age</th>\n      <th>Family</th>\n    </tr>\n  </thead>\n  <tbody>\n    <tr>\n      <th>0</th>\n      <td>1</td>\n      <td>Braund, Mr. Owen Harris</td>\n      <td>male</td>\n      <td>22.0</td>\n      <td>1</td>\n    </tr>\n    <tr>\n      <th>1</th>\n      <td>2</td>\n      <td>Cumings, Mrs. John Bradley (Florence Briggs Th...</td>\n      <td>female</td>\n      <td>38.0</td>\n      <td>1</td>\n    </tr>\n    <tr>\n      <th>2</th>\n      <td>3</td>\n      <td>Heikkinen, Miss. Laina</td>\n      <td>female</td>\n      <td>26.0</td>\n      <td>0</td>\n    </tr>\n    <tr>\n      <th>3</th>\n      <td>4</td>\n      <td>Futrelle, Mrs. Jacques Heath (Lily May Peel)</td>\n      <td>female</td>\n      <td>35.0</td>\n      <td>1</td>\n    </tr>\n    <tr>\n      <th>4</th>\n      <td>5</td>\n      <td>Allen, Mr. William Henry</td>\n      <td>male</td>\n      <td>35.0</td>\n      <td>0</td>\n    </tr>\n  </tbody>\n</table>\n</div>"
     },
     "execution_count": 27,
     "metadata": {},
     "output_type": "execute_result"
    }
   ],
   "source": [
    "titanic = titanic.drop('Parch', axis=1)\n",
    "titanic = titanic.drop('SibSp', axis=1)\n",
    "titanic.head()"
   ]
  },
  {
   "cell_type": "markdown",
   "metadata": {},
   "source": [
    "Deleting a row (index) by using df.drop() method and axis=0"
   ]
  },
  {
   "cell_type": "code",
   "execution_count": 28,
   "metadata": {
    "ExecuteTime": {
     "end_time": "2023-09-01T06:34:44.892991Z",
     "start_time": "2023-09-01T06:34:44.871033Z"
    }
   },
   "outputs": [
    {
     "data": {
      "text/plain": "   PassengerId                                               Name     Sex  \\\n1            2  Cumings, Mrs. John Bradley (Florence Briggs Th...  female   \n2            3                             Heikkinen, Miss. Laina  female   \n3            4       Futrelle, Mrs. Jacques Heath (Lily May Peel)  female   \n4            5                           Allen, Mr. William Henry    male   \n5            6                                   Moran, Mr. James    male   \n\n    Age  Family  \n1  38.0       1  \n2  26.0       0  \n3  35.0       1  \n4  35.0       0  \n5   NaN       0  ",
      "text/html": "<div>\n<style scoped>\n    .dataframe tbody tr th:only-of-type {\n        vertical-align: middle;\n    }\n\n    .dataframe tbody tr th {\n        vertical-align: top;\n    }\n\n    .dataframe thead th {\n        text-align: right;\n    }\n</style>\n<table border=\"1\" class=\"dataframe\">\n  <thead>\n    <tr style=\"text-align: right;\">\n      <th></th>\n      <th>PassengerId</th>\n      <th>Name</th>\n      <th>Sex</th>\n      <th>Age</th>\n      <th>Family</th>\n    </tr>\n  </thead>\n  <tbody>\n    <tr>\n      <th>1</th>\n      <td>2</td>\n      <td>Cumings, Mrs. John Bradley (Florence Briggs Th...</td>\n      <td>female</td>\n      <td>38.0</td>\n      <td>1</td>\n    </tr>\n    <tr>\n      <th>2</th>\n      <td>3</td>\n      <td>Heikkinen, Miss. Laina</td>\n      <td>female</td>\n      <td>26.0</td>\n      <td>0</td>\n    </tr>\n    <tr>\n      <th>3</th>\n      <td>4</td>\n      <td>Futrelle, Mrs. Jacques Heath (Lily May Peel)</td>\n      <td>female</td>\n      <td>35.0</td>\n      <td>1</td>\n    </tr>\n    <tr>\n      <th>4</th>\n      <td>5</td>\n      <td>Allen, Mr. William Henry</td>\n      <td>male</td>\n      <td>35.0</td>\n      <td>0</td>\n    </tr>\n    <tr>\n      <th>5</th>\n      <td>6</td>\n      <td>Moran, Mr. James</td>\n      <td>male</td>\n      <td>NaN</td>\n      <td>0</td>\n    </tr>\n  </tbody>\n</table>\n</div>"
     },
     "execution_count": 28,
     "metadata": {},
     "output_type": "execute_result"
    }
   ],
   "source": [
    "titanic1 = titanic.drop(0, axis=0)\n",
    "titanic1.head()"
   ]
  },
  {
   "cell_type": "markdown",
   "metadata": {},
   "source": [
    "Updates can be performed **inplace** (without reasigning to a variable) by setting inplace=True"
   ]
  },
  {
   "cell_type": "code",
   "execution_count": 29,
   "metadata": {
    "ExecuteTime": {
     "end_time": "2023-09-01T06:34:45.579478Z",
     "start_time": "2023-09-01T06:34:45.559912Z"
    }
   },
   "outputs": [
    {
     "data": {
      "text/plain": "   PassengerId                                               Name     Sex  \\\n1            2  Cumings, Mrs. John Bradley (Florence Briggs Th...  female   \n2            3                             Heikkinen, Miss. Laina  female   \n3            4       Futrelle, Mrs. Jacques Heath (Lily May Peel)  female   \n4            5                           Allen, Mr. William Henry    male   \n5            6                                   Moran, Mr. James    male   \n\n    Age  Family  \n1  38.0       1  \n2  26.0       0  \n3  35.0       1  \n4  35.0       0  \n5   NaN       0  ",
      "text/html": "<div>\n<style scoped>\n    .dataframe tbody tr th:only-of-type {\n        vertical-align: middle;\n    }\n\n    .dataframe tbody tr th {\n        vertical-align: top;\n    }\n\n    .dataframe thead th {\n        text-align: right;\n    }\n</style>\n<table border=\"1\" class=\"dataframe\">\n  <thead>\n    <tr style=\"text-align: right;\">\n      <th></th>\n      <th>PassengerId</th>\n      <th>Name</th>\n      <th>Sex</th>\n      <th>Age</th>\n      <th>Family</th>\n    </tr>\n  </thead>\n  <tbody>\n    <tr>\n      <th>1</th>\n      <td>2</td>\n      <td>Cumings, Mrs. John Bradley (Florence Briggs Th...</td>\n      <td>female</td>\n      <td>38.0</td>\n      <td>1</td>\n    </tr>\n    <tr>\n      <th>2</th>\n      <td>3</td>\n      <td>Heikkinen, Miss. Laina</td>\n      <td>female</td>\n      <td>26.0</td>\n      <td>0</td>\n    </tr>\n    <tr>\n      <th>3</th>\n      <td>4</td>\n      <td>Futrelle, Mrs. Jacques Heath (Lily May Peel)</td>\n      <td>female</td>\n      <td>35.0</td>\n      <td>1</td>\n    </tr>\n    <tr>\n      <th>4</th>\n      <td>5</td>\n      <td>Allen, Mr. William Henry</td>\n      <td>male</td>\n      <td>35.0</td>\n      <td>0</td>\n    </tr>\n    <tr>\n      <th>5</th>\n      <td>6</td>\n      <td>Moran, Mr. James</td>\n      <td>male</td>\n      <td>NaN</td>\n      <td>0</td>\n    </tr>\n  </tbody>\n</table>\n</div>"
     },
     "execution_count": 29,
     "metadata": {},
     "output_type": "execute_result"
    }
   ],
   "source": [
    "titanic.drop(0, axis=0, inplace=True)\n",
    "titanic.head()"
   ]
  },
  {
   "cell_type": "markdown",
   "metadata": {},
   "source": [
    "<a id='dc4'></a>\n",
    "### 2.C.d Subset ([to top](top))\n",
    "Accessing an element in position (D,Y)"
   ]
  },
  {
   "cell_type": "code",
   "execution_count": 29,
   "metadata": {
    "ExecuteTime": {
     "end_time": "2023-09-01T06:58:16.998087Z",
     "start_time": "2023-09-01T06:58:16.974968Z"
    }
   },
   "outputs": [
    {
     "data": {
      "text/plain": "10"
     },
     "execution_count": 29,
     "metadata": {},
     "output_type": "execute_result"
    }
   ],
   "source": [
    "glasgow.loc[2,'length']"
   ]
  },
  {
   "cell_type": "markdown",
   "metadata": {},
   "source": [
    "Slicing by rows and columns at the same time"
   ]
  },
  {
   "cell_type": "code",
   "execution_count": 30,
   "metadata": {
    "ExecuteTime": {
     "end_time": "2023-09-01T06:58:30.750184Z",
     "start_time": "2023-09-01T06:58:30.695426Z"
    }
   },
   "outputs": [
    {
     "data": {
      "text/plain": "   length  arousal\n2      10    3.273\n3       8    4.194",
      "text/html": "<div>\n<style scoped>\n    .dataframe tbody tr th:only-of-type {\n        vertical-align: middle;\n    }\n\n    .dataframe tbody tr th {\n        vertical-align: top;\n    }\n\n    .dataframe thead th {\n        text-align: right;\n    }\n</style>\n<table border=\"1\" class=\"dataframe\">\n  <thead>\n    <tr style=\"text-align: right;\">\n      <th></th>\n      <th>length</th>\n      <th>arousal</th>\n    </tr>\n  </thead>\n  <tbody>\n    <tr>\n      <th>2</th>\n      <td>10</td>\n      <td>3.273</td>\n    </tr>\n    <tr>\n      <th>3</th>\n      <td>8</td>\n      <td>4.194</td>\n    </tr>\n  </tbody>\n</table>\n</div>"
     },
     "execution_count": 30,
     "metadata": {},
     "output_type": "execute_result"
    }
   ],
   "source": [
    "glasgow.loc[[2, 3],['length','arousal']]"
   ]
  },
  {
   "cell_type": "markdown",
   "metadata": {},
   "source": [
    "<a id='dc4'></a>\n",
    "### 2.C.e Conditional Selection ([to top](#top))\n",
    "Logical operators can be applied to DataFrame to perform filtering and selections"
   ]
  },
  {
   "cell_type": "markdown",
   "metadata": {},
   "source": [
    "**Example:** a boolean DataFrame where we are checking if the ages are greater than 20"
   ]
  },
  {
   "cell_type": "code",
   "execution_count": 31,
   "outputs": [
    {
     "data": {
      "text/plain": "0        True\n1       False\n2        True\n3        True\n4        True\n        ...  \n4677     True\n4678    False\n4679    False\n4680    False\n4681     True\nName: length, Length: 4682, dtype: bool"
     },
     "execution_count": 31,
     "metadata": {},
     "output_type": "execute_result"
    }
   ],
   "source": [
    "glasgow['length'] > 5"
   ],
   "metadata": {
    "collapsed": false,
    "ExecuteTime": {
     "end_time": "2023-09-01T07:00:28.944497Z",
     "start_time": "2023-09-01T07:00:28.932729Z"
    }
   }
  },
  {
   "cell_type": "code",
   "execution_count": 32,
   "metadata": {
    "ExecuteTime": {
     "end_time": "2023-09-01T07:00:38.780145Z",
     "start_time": "2023-09-01T07:00:38.759490Z"
    }
   },
   "outputs": [
    {
     "data": {
      "text/plain": "         word  length  arousal  valence  dominance  concreteness  \\\n0    abattoir       8    4.200    2.864      4.333         5.455   \n2  abbreviate      10    3.273    5.250      5.235         3.286   \n3    abdicate       8    4.194    3.767      4.419         3.367   \n4  abdication      10    3.846    3.880      4.800         3.292   \n5     abdomen       7    4.714    5.486      5.441         6.606   \n\n   imageability  familiarity    aoa  semsize  gender  polysemy  \\\n0         4.391        2.382  6.760    4.652   5.391         0   \n2         3.177        5.121  5.543    2.667   3.971         0   \n3         2.516        3.971  6.233    4.679   5.167         0   \n4         2.571        3.097  6.407    5.083   4.571         0   \n5         6.235        4.636  5.457    3.529   4.600         0   \n\n   web_corpus_freq  \n0         160074.0  \n2         140105.0  \n3         124123.0  \n4         128143.0  \n5        1490684.0  ",
      "text/html": "<div>\n<style scoped>\n    .dataframe tbody tr th:only-of-type {\n        vertical-align: middle;\n    }\n\n    .dataframe tbody tr th {\n        vertical-align: top;\n    }\n\n    .dataframe thead th {\n        text-align: right;\n    }\n</style>\n<table border=\"1\" class=\"dataframe\">\n  <thead>\n    <tr style=\"text-align: right;\">\n      <th></th>\n      <th>word</th>\n      <th>length</th>\n      <th>arousal</th>\n      <th>valence</th>\n      <th>dominance</th>\n      <th>concreteness</th>\n      <th>imageability</th>\n      <th>familiarity</th>\n      <th>aoa</th>\n      <th>semsize</th>\n      <th>gender</th>\n      <th>polysemy</th>\n      <th>web_corpus_freq</th>\n    </tr>\n  </thead>\n  <tbody>\n    <tr>\n      <th>0</th>\n      <td>abattoir</td>\n      <td>8</td>\n      <td>4.200</td>\n      <td>2.864</td>\n      <td>4.333</td>\n      <td>5.455</td>\n      <td>4.391</td>\n      <td>2.382</td>\n      <td>6.760</td>\n      <td>4.652</td>\n      <td>5.391</td>\n      <td>0</td>\n      <td>160074.0</td>\n    </tr>\n    <tr>\n      <th>2</th>\n      <td>abbreviate</td>\n      <td>10</td>\n      <td>3.273</td>\n      <td>5.250</td>\n      <td>5.235</td>\n      <td>3.286</td>\n      <td>3.177</td>\n      <td>5.121</td>\n      <td>5.543</td>\n      <td>2.667</td>\n      <td>3.971</td>\n      <td>0</td>\n      <td>140105.0</td>\n    </tr>\n    <tr>\n      <th>3</th>\n      <td>abdicate</td>\n      <td>8</td>\n      <td>4.194</td>\n      <td>3.767</td>\n      <td>4.419</td>\n      <td>3.367</td>\n      <td>2.516</td>\n      <td>3.971</td>\n      <td>6.233</td>\n      <td>4.679</td>\n      <td>5.167</td>\n      <td>0</td>\n      <td>124123.0</td>\n    </tr>\n    <tr>\n      <th>4</th>\n      <td>abdication</td>\n      <td>10</td>\n      <td>3.846</td>\n      <td>3.880</td>\n      <td>4.800</td>\n      <td>3.292</td>\n      <td>2.571</td>\n      <td>3.097</td>\n      <td>6.407</td>\n      <td>5.083</td>\n      <td>4.571</td>\n      <td>0</td>\n      <td>128143.0</td>\n    </tr>\n    <tr>\n      <th>5</th>\n      <td>abdomen</td>\n      <td>7</td>\n      <td>4.714</td>\n      <td>5.486</td>\n      <td>5.441</td>\n      <td>6.606</td>\n      <td>6.235</td>\n      <td>4.636</td>\n      <td>5.457</td>\n      <td>3.529</td>\n      <td>4.600</td>\n      <td>0</td>\n      <td>1490684.0</td>\n    </tr>\n  </tbody>\n</table>\n</div>"
     },
     "execution_count": 32,
     "metadata": {},
     "output_type": "execute_result"
    }
   ],
   "source": [
    "rslt_df = glasgow[glasgow['length'] > 5]\n",
    "rslt_df.head()"
   ]
  },
  {
   "cell_type": "markdown",
   "metadata": {},
   "source": [
    "#### Conditionally subset a DataFrame with Boolean series\n",
    "Let's define a DataFrame describing individuals measurements"
   ]
  },
  {
   "cell_type": "markdown",
   "metadata": {},
   "source": [
    "We can filter it easily by specifying a condition on the cell values"
   ]
  },
  {
   "cell_type": "code",
   "execution_count": 33,
   "metadata": {
    "ExecuteTime": {
     "end_time": "2023-09-01T07:00:53.926127Z",
     "start_time": "2023-09-01T07:00:53.897745Z"
    }
   },
   "outputs": [
    {
     "data": {
      "text/plain": "             word  length  arousal  valence  dominance  concreteness  \\\n44    achievement      11    6.333    7.938      7.452         2.879   \n90   affectionate      12    7.206    8.000      6.273         3.471   \n173  anthropology      12    4.063    5.419      5.344         2.968   \n174  anticipation      12    7.303    6.382      5.000         2.229   \n193   appointment      11    3.515    4.970      4.706         4.886   \n\n     imageability  familiarity    aoa  semsize  gender  polysemy  \\\n44          3.875        6.200  4.455    5.710   3.906         0   \n90          4.706        6.121  4.970    5.471   2.147         0   \n173         2.438        3.143  6.594    5.094   4.375         0   \n174         2.800        5.182  5.686    5.455   3.257         0   \n193         4.000        5.697  4.000    3.606   3.625         0   \n\n     web_corpus_freq  \n44        12845656.0  \n90          713693.0  \n173        5661140.0  \n174        2261724.0  \n193       16761764.0  ",
      "text/html": "<div>\n<style scoped>\n    .dataframe tbody tr th:only-of-type {\n        vertical-align: middle;\n    }\n\n    .dataframe tbody tr th {\n        vertical-align: top;\n    }\n\n    .dataframe thead th {\n        text-align: right;\n    }\n</style>\n<table border=\"1\" class=\"dataframe\">\n  <thead>\n    <tr style=\"text-align: right;\">\n      <th></th>\n      <th>word</th>\n      <th>length</th>\n      <th>arousal</th>\n      <th>valence</th>\n      <th>dominance</th>\n      <th>concreteness</th>\n      <th>imageability</th>\n      <th>familiarity</th>\n      <th>aoa</th>\n      <th>semsize</th>\n      <th>gender</th>\n      <th>polysemy</th>\n      <th>web_corpus_freq</th>\n    </tr>\n  </thead>\n  <tbody>\n    <tr>\n      <th>44</th>\n      <td>achievement</td>\n      <td>11</td>\n      <td>6.333</td>\n      <td>7.938</td>\n      <td>7.452</td>\n      <td>2.879</td>\n      <td>3.875</td>\n      <td>6.200</td>\n      <td>4.455</td>\n      <td>5.710</td>\n      <td>3.906</td>\n      <td>0</td>\n      <td>12845656.0</td>\n    </tr>\n    <tr>\n      <th>90</th>\n      <td>affectionate</td>\n      <td>12</td>\n      <td>7.206</td>\n      <td>8.000</td>\n      <td>6.273</td>\n      <td>3.471</td>\n      <td>4.706</td>\n      <td>6.121</td>\n      <td>4.970</td>\n      <td>5.471</td>\n      <td>2.147</td>\n      <td>0</td>\n      <td>713693.0</td>\n    </tr>\n    <tr>\n      <th>173</th>\n      <td>anthropology</td>\n      <td>12</td>\n      <td>4.063</td>\n      <td>5.419</td>\n      <td>5.344</td>\n      <td>2.968</td>\n      <td>2.438</td>\n      <td>3.143</td>\n      <td>6.594</td>\n      <td>5.094</td>\n      <td>4.375</td>\n      <td>0</td>\n      <td>5661140.0</td>\n    </tr>\n    <tr>\n      <th>174</th>\n      <td>anticipation</td>\n      <td>12</td>\n      <td>7.303</td>\n      <td>6.382</td>\n      <td>5.000</td>\n      <td>2.229</td>\n      <td>2.800</td>\n      <td>5.182</td>\n      <td>5.686</td>\n      <td>5.455</td>\n      <td>3.257</td>\n      <td>0</td>\n      <td>2261724.0</td>\n    </tr>\n    <tr>\n      <th>193</th>\n      <td>appointment</td>\n      <td>11</td>\n      <td>3.515</td>\n      <td>4.970</td>\n      <td>4.706</td>\n      <td>4.886</td>\n      <td>4.000</td>\n      <td>5.697</td>\n      <td>4.000</td>\n      <td>3.606</td>\n      <td>3.625</td>\n      <td>0</td>\n      <td>16761764.0</td>\n    </tr>\n  </tbody>\n</table>\n</div>"
     },
     "execution_count": 33,
     "metadata": {},
     "output_type": "execute_result"
    }
   ],
   "source": [
    "glasgow[glasgow['length']>10].head()"
   ]
  },
  {
   "cell_type": "markdown",
   "metadata": {},
   "source": [
    "Multiple conditions can be stacked together using boolean operators"
   ]
  },
  {
   "cell_type": "code",
   "execution_count": 37,
   "metadata": {
    "ExecuteTime": {
     "end_time": "2023-09-01T07:01:55.115349Z",
     "start_time": "2023-09-01T07:01:55.103211Z"
    }
   },
   "outputs": [],
   "source": [
    "booldf1 = glasgow['length']>5\n",
    "booldf2 = glasgow['arousal']>5"
   ]
  },
  {
   "cell_type": "code",
   "execution_count": 38,
   "metadata": {
    "ExecuteTime": {
     "end_time": "2023-09-01T07:01:55.342321Z",
     "start_time": "2023-09-01T07:01:55.332616Z"
    }
   },
   "outputs": [
    {
     "data": {
      "text/plain": "0       False\n1       False\n2       False\n3       False\n4       False\n        ...  \n4677     True\n4678    False\n4679     True\n4680     True\n4681    False\nName: arousal, Length: 4682, dtype: bool"
     },
     "execution_count": 38,
     "metadata": {},
     "output_type": "execute_result"
    }
   ],
   "source": [
    "booldf2"
   ]
  },
  {
   "cell_type": "code",
   "execution_count": 39,
   "metadata": {
    "ExecuteTime": {
     "end_time": "2023-09-01T07:01:55.621168Z",
     "start_time": "2023-09-01T07:01:55.616453Z"
    }
   },
   "outputs": [
    {
     "data": {
      "text/plain": "         word  length  arousal  valence  dominance  concreteness  \\\n8    abducted       8    5.344    1.969      2.871         4.813   \n9   abduction       9    5.324    1.618      2.886         4.912   \n12    ability       7    5.471    6.912      6.971         2.941   \n16     abroad       6    6.548    6.743      5.118         4.559   \n20     absurd       6    5.452    3.563      4.719         2.065   \n\n    imageability  familiarity    aoa  semsize  gender  polysemy  \\\n8          4.212        5.406  5.290    5.161   4.546         0   \n9          4.800        4.441  5.114    5.059   4.686         0   \n12         2.515        6.000  4.061    5.029   4.206         0   \n16         4.486        6.030  3.857    5.500   3.882         0   \n20         2.375        4.793  5.281    4.531   4.100         0   \n\n    web_corpus_freq  \n8          837949.0  \n9         1188510.0  \n12       52004289.0  \n16       14837382.0  \n20        2148981.0  ",
      "text/html": "<div>\n<style scoped>\n    .dataframe tbody tr th:only-of-type {\n        vertical-align: middle;\n    }\n\n    .dataframe tbody tr th {\n        vertical-align: top;\n    }\n\n    .dataframe thead th {\n        text-align: right;\n    }\n</style>\n<table border=\"1\" class=\"dataframe\">\n  <thead>\n    <tr style=\"text-align: right;\">\n      <th></th>\n      <th>word</th>\n      <th>length</th>\n      <th>arousal</th>\n      <th>valence</th>\n      <th>dominance</th>\n      <th>concreteness</th>\n      <th>imageability</th>\n      <th>familiarity</th>\n      <th>aoa</th>\n      <th>semsize</th>\n      <th>gender</th>\n      <th>polysemy</th>\n      <th>web_corpus_freq</th>\n    </tr>\n  </thead>\n  <tbody>\n    <tr>\n      <th>8</th>\n      <td>abducted</td>\n      <td>8</td>\n      <td>5.344</td>\n      <td>1.969</td>\n      <td>2.871</td>\n      <td>4.813</td>\n      <td>4.212</td>\n      <td>5.406</td>\n      <td>5.290</td>\n      <td>5.161</td>\n      <td>4.546</td>\n      <td>0</td>\n      <td>837949.0</td>\n    </tr>\n    <tr>\n      <th>9</th>\n      <td>abduction</td>\n      <td>9</td>\n      <td>5.324</td>\n      <td>1.618</td>\n      <td>2.886</td>\n      <td>4.912</td>\n      <td>4.800</td>\n      <td>4.441</td>\n      <td>5.114</td>\n      <td>5.059</td>\n      <td>4.686</td>\n      <td>0</td>\n      <td>1188510.0</td>\n    </tr>\n    <tr>\n      <th>12</th>\n      <td>ability</td>\n      <td>7</td>\n      <td>5.471</td>\n      <td>6.912</td>\n      <td>6.971</td>\n      <td>2.941</td>\n      <td>2.515</td>\n      <td>6.000</td>\n      <td>4.061</td>\n      <td>5.029</td>\n      <td>4.206</td>\n      <td>0</td>\n      <td>52004289.0</td>\n    </tr>\n    <tr>\n      <th>16</th>\n      <td>abroad</td>\n      <td>6</td>\n      <td>6.548</td>\n      <td>6.743</td>\n      <td>5.118</td>\n      <td>4.559</td>\n      <td>4.486</td>\n      <td>6.030</td>\n      <td>3.857</td>\n      <td>5.500</td>\n      <td>3.882</td>\n      <td>0</td>\n      <td>14837382.0</td>\n    </tr>\n    <tr>\n      <th>20</th>\n      <td>absurd</td>\n      <td>6</td>\n      <td>5.452</td>\n      <td>3.563</td>\n      <td>4.719</td>\n      <td>2.065</td>\n      <td>2.375</td>\n      <td>4.793</td>\n      <td>5.281</td>\n      <td>4.531</td>\n      <td>4.100</td>\n      <td>0</td>\n      <td>2148981.0</td>\n    </tr>\n  </tbody>\n</table>\n</div>"
     },
     "execution_count": 39,
     "metadata": {},
     "output_type": "execute_result"
    }
   ],
   "source": [
    "glasgow[(booldf1) & (booldf2)].head()"
   ]
  },
  {
   "cell_type": "markdown",
   "metadata": {},
   "source": [
    "Filtering results can be subsetted as usual selecting rows/columns"
   ]
  },
  {
   "cell_type": "code",
   "execution_count": 40,
   "metadata": {
    "ExecuteTime": {
     "end_time": "2023-09-01T07:02:05.471312Z",
     "start_time": "2023-09-01T07:02:05.445537Z"
    }
   },
   "outputs": [
    {
     "data": {
      "text/plain": "   length  arousal\n0       8    4.200\n2      10    3.273\n3       8    4.194\n4      10    3.846\n5       7    4.714",
      "text/html": "<div>\n<style scoped>\n    .dataframe tbody tr th:only-of-type {\n        vertical-align: middle;\n    }\n\n    .dataframe tbody tr th {\n        vertical-align: top;\n    }\n\n    .dataframe thead th {\n        text-align: right;\n    }\n</style>\n<table border=\"1\" class=\"dataframe\">\n  <thead>\n    <tr style=\"text-align: right;\">\n      <th></th>\n      <th>length</th>\n      <th>arousal</th>\n    </tr>\n  </thead>\n  <tbody>\n    <tr>\n      <th>0</th>\n      <td>8</td>\n      <td>4.200</td>\n    </tr>\n    <tr>\n      <th>2</th>\n      <td>10</td>\n      <td>3.273</td>\n    </tr>\n    <tr>\n      <th>3</th>\n      <td>8</td>\n      <td>4.194</td>\n    </tr>\n    <tr>\n      <th>4</th>\n      <td>10</td>\n      <td>3.846</td>\n    </tr>\n    <tr>\n      <th>5</th>\n      <td>7</td>\n      <td>4.714</td>\n    </tr>\n  </tbody>\n</table>\n</div>"
     },
     "execution_count": 40,
     "metadata": {},
     "output_type": "execute_result"
    }
   ],
   "source": [
    "glasgow[booldf1][['length','arousal']].head()"
   ]
  },
  {
   "cell_type": "markdown",
   "metadata": {},
   "source": [
    "<a id='dc5'></a>\n",
    "### 2.C.f Re-setting and Setting Index ([to top](#top))\n",
    "In the previuos example we specified an index. <br/>\n",
    "We can destroy such index (making it a simple column of the DataFrame) easily"
   ]
  },
  {
   "cell_type": "code",
   "execution_count": 41,
   "metadata": {
    "ExecuteTime": {
     "end_time": "2023-09-01T07:02:17.809808Z",
     "start_time": "2023-09-01T07:02:17.781562Z"
    }
   },
   "outputs": [
    {
     "data": {
      "text/plain": "   index        word  length  arousal  valence  dominance  concreteness  \\\n0      0    abattoir       8    4.200    2.864      4.333         5.455   \n1      1       abbey       5    3.125    5.781      4.667         5.906   \n2      2  abbreviate      10    3.273    5.250      5.235         3.286   \n3      3    abdicate       8    4.194    3.767      4.419         3.367   \n4      4  abdication      10    3.846    3.880      4.800         3.292   \n\n   imageability  familiarity    aoa  semsize  gender  polysemy  \\\n0         4.391        2.382  6.760    4.652   5.391         0   \n1         5.344        3.324  5.177    5.121   3.303         0   \n2         3.177        5.121  5.543    2.667   3.971         0   \n3         2.516        3.971  6.233    4.679   5.167         0   \n4         2.571        3.097  6.407    5.083   4.571         0   \n\n   web_corpus_freq  \n0         160074.0  \n1        4224864.0  \n2         140105.0  \n3         124123.0  \n4         128143.0  ",
      "text/html": "<div>\n<style scoped>\n    .dataframe tbody tr th:only-of-type {\n        vertical-align: middle;\n    }\n\n    .dataframe tbody tr th {\n        vertical-align: top;\n    }\n\n    .dataframe thead th {\n        text-align: right;\n    }\n</style>\n<table border=\"1\" class=\"dataframe\">\n  <thead>\n    <tr style=\"text-align: right;\">\n      <th></th>\n      <th>index</th>\n      <th>word</th>\n      <th>length</th>\n      <th>arousal</th>\n      <th>valence</th>\n      <th>dominance</th>\n      <th>concreteness</th>\n      <th>imageability</th>\n      <th>familiarity</th>\n      <th>aoa</th>\n      <th>semsize</th>\n      <th>gender</th>\n      <th>polysemy</th>\n      <th>web_corpus_freq</th>\n    </tr>\n  </thead>\n  <tbody>\n    <tr>\n      <th>0</th>\n      <td>0</td>\n      <td>abattoir</td>\n      <td>8</td>\n      <td>4.200</td>\n      <td>2.864</td>\n      <td>4.333</td>\n      <td>5.455</td>\n      <td>4.391</td>\n      <td>2.382</td>\n      <td>6.760</td>\n      <td>4.652</td>\n      <td>5.391</td>\n      <td>0</td>\n      <td>160074.0</td>\n    </tr>\n    <tr>\n      <th>1</th>\n      <td>1</td>\n      <td>abbey</td>\n      <td>5</td>\n      <td>3.125</td>\n      <td>5.781</td>\n      <td>4.667</td>\n      <td>5.906</td>\n      <td>5.344</td>\n      <td>3.324</td>\n      <td>5.177</td>\n      <td>5.121</td>\n      <td>3.303</td>\n      <td>0</td>\n      <td>4224864.0</td>\n    </tr>\n    <tr>\n      <th>2</th>\n      <td>2</td>\n      <td>abbreviate</td>\n      <td>10</td>\n      <td>3.273</td>\n      <td>5.250</td>\n      <td>5.235</td>\n      <td>3.286</td>\n      <td>3.177</td>\n      <td>5.121</td>\n      <td>5.543</td>\n      <td>2.667</td>\n      <td>3.971</td>\n      <td>0</td>\n      <td>140105.0</td>\n    </tr>\n    <tr>\n      <th>3</th>\n      <td>3</td>\n      <td>abdicate</td>\n      <td>8</td>\n      <td>4.194</td>\n      <td>3.767</td>\n      <td>4.419</td>\n      <td>3.367</td>\n      <td>2.516</td>\n      <td>3.971</td>\n      <td>6.233</td>\n      <td>4.679</td>\n      <td>5.167</td>\n      <td>0</td>\n      <td>124123.0</td>\n    </tr>\n    <tr>\n      <th>4</th>\n      <td>4</td>\n      <td>abdication</td>\n      <td>10</td>\n      <td>3.846</td>\n      <td>3.880</td>\n      <td>4.800</td>\n      <td>3.292</td>\n      <td>2.571</td>\n      <td>3.097</td>\n      <td>6.407</td>\n      <td>5.083</td>\n      <td>4.571</td>\n      <td>0</td>\n      <td>128143.0</td>\n    </tr>\n  </tbody>\n</table>\n</div>"
     },
     "execution_count": 41,
     "metadata": {},
     "output_type": "execute_result"
    }
   ],
   "source": [
    "glasgow.reset_index().head()"
   ]
  },
  {
   "cell_type": "markdown",
   "metadata": {},
   "source": [
    "Conversely, if we do not need such additional column we can drop it contextually"
   ]
  },
  {
   "cell_type": "code",
   "execution_count": 42,
   "metadata": {
    "ExecuteTime": {
     "end_time": "2023-09-01T07:02:24.935976Z",
     "start_time": "2023-09-01T07:02:24.896244Z"
    }
   },
   "outputs": [
    {
     "data": {
      "text/plain": "         word  length  arousal  valence  dominance  concreteness  \\\n0    abattoir       8    4.200    2.864      4.333         5.455   \n1       abbey       5    3.125    5.781      4.667         5.906   \n2  abbreviate      10    3.273    5.250      5.235         3.286   \n3    abdicate       8    4.194    3.767      4.419         3.367   \n4  abdication      10    3.846    3.880      4.800         3.292   \n\n   imageability  familiarity    aoa  semsize  gender  polysemy  \\\n0         4.391        2.382  6.760    4.652   5.391         0   \n1         5.344        3.324  5.177    5.121   3.303         0   \n2         3.177        5.121  5.543    2.667   3.971         0   \n3         2.516        3.971  6.233    4.679   5.167         0   \n4         2.571        3.097  6.407    5.083   4.571         0   \n\n   web_corpus_freq  \n0         160074.0  \n1        4224864.0  \n2         140105.0  \n3         124123.0  \n4         128143.0  ",
      "text/html": "<div>\n<style scoped>\n    .dataframe tbody tr th:only-of-type {\n        vertical-align: middle;\n    }\n\n    .dataframe tbody tr th {\n        vertical-align: top;\n    }\n\n    .dataframe thead th {\n        text-align: right;\n    }\n</style>\n<table border=\"1\" class=\"dataframe\">\n  <thead>\n    <tr style=\"text-align: right;\">\n      <th></th>\n      <th>word</th>\n      <th>length</th>\n      <th>arousal</th>\n      <th>valence</th>\n      <th>dominance</th>\n      <th>concreteness</th>\n      <th>imageability</th>\n      <th>familiarity</th>\n      <th>aoa</th>\n      <th>semsize</th>\n      <th>gender</th>\n      <th>polysemy</th>\n      <th>web_corpus_freq</th>\n    </tr>\n  </thead>\n  <tbody>\n    <tr>\n      <th>0</th>\n      <td>abattoir</td>\n      <td>8</td>\n      <td>4.200</td>\n      <td>2.864</td>\n      <td>4.333</td>\n      <td>5.455</td>\n      <td>4.391</td>\n      <td>2.382</td>\n      <td>6.760</td>\n      <td>4.652</td>\n      <td>5.391</td>\n      <td>0</td>\n      <td>160074.0</td>\n    </tr>\n    <tr>\n      <th>1</th>\n      <td>abbey</td>\n      <td>5</td>\n      <td>3.125</td>\n      <td>5.781</td>\n      <td>4.667</td>\n      <td>5.906</td>\n      <td>5.344</td>\n      <td>3.324</td>\n      <td>5.177</td>\n      <td>5.121</td>\n      <td>3.303</td>\n      <td>0</td>\n      <td>4224864.0</td>\n    </tr>\n    <tr>\n      <th>2</th>\n      <td>abbreviate</td>\n      <td>10</td>\n      <td>3.273</td>\n      <td>5.250</td>\n      <td>5.235</td>\n      <td>3.286</td>\n      <td>3.177</td>\n      <td>5.121</td>\n      <td>5.543</td>\n      <td>2.667</td>\n      <td>3.971</td>\n      <td>0</td>\n      <td>140105.0</td>\n    </tr>\n    <tr>\n      <th>3</th>\n      <td>abdicate</td>\n      <td>8</td>\n      <td>4.194</td>\n      <td>3.767</td>\n      <td>4.419</td>\n      <td>3.367</td>\n      <td>2.516</td>\n      <td>3.971</td>\n      <td>6.233</td>\n      <td>4.679</td>\n      <td>5.167</td>\n      <td>0</td>\n      <td>124123.0</td>\n    </tr>\n    <tr>\n      <th>4</th>\n      <td>abdication</td>\n      <td>10</td>\n      <td>3.846</td>\n      <td>3.880</td>\n      <td>4.800</td>\n      <td>3.292</td>\n      <td>2.571</td>\n      <td>3.097</td>\n      <td>6.407</td>\n      <td>5.083</td>\n      <td>4.571</td>\n      <td>0</td>\n      <td>128143.0</td>\n    </tr>\n  </tbody>\n</table>\n</div>"
     },
     "execution_count": 42,
     "metadata": {},
     "output_type": "execute_result"
    }
   ],
   "source": [
    "glasgow.reset_index(drop=True).head()"
   ]
  },
  {
   "cell_type": "markdown",
   "metadata": {},
   "source": [
    "Now we can add a new column and set it as new index"
   ]
  },
  {
   "cell_type": "code",
   "execution_count": 44,
   "metadata": {
    "ExecuteTime": {
     "end_time": "2023-09-01T07:02:34.076303Z",
     "start_time": "2023-09-01T07:02:34.064808Z"
    }
   },
   "outputs": [
    {
     "data": {
      "text/plain": "            length  arousal  valence  dominance  concreteness  imageability  \\\nword                                                                          \nabattoir         8    4.200    2.864      4.333         5.455         4.391   \nabbey            5    3.125    5.781      4.667         5.906         5.344   \nabbreviate      10    3.273    5.250      5.235         3.286         3.177   \nabdicate         8    4.194    3.767      4.419         3.367         2.516   \nabdication      10    3.846    3.880      4.800         3.292         2.571   \n\n            familiarity    aoa  semsize  gender  polysemy  web_corpus_freq  \nword                                                                        \nabattoir          2.382  6.760    4.652   5.391         0         160074.0  \nabbey             3.324  5.177    5.121   3.303         0        4224864.0  \nabbreviate        5.121  5.543    2.667   3.971         0         140105.0  \nabdicate          3.971  6.233    4.679   5.167         0         124123.0  \nabdication        3.097  6.407    5.083   4.571         0         128143.0  ",
      "text/html": "<div>\n<style scoped>\n    .dataframe tbody tr th:only-of-type {\n        vertical-align: middle;\n    }\n\n    .dataframe tbody tr th {\n        vertical-align: top;\n    }\n\n    .dataframe thead th {\n        text-align: right;\n    }\n</style>\n<table border=\"1\" class=\"dataframe\">\n  <thead>\n    <tr style=\"text-align: right;\">\n      <th></th>\n      <th>length</th>\n      <th>arousal</th>\n      <th>valence</th>\n      <th>dominance</th>\n      <th>concreteness</th>\n      <th>imageability</th>\n      <th>familiarity</th>\n      <th>aoa</th>\n      <th>semsize</th>\n      <th>gender</th>\n      <th>polysemy</th>\n      <th>web_corpus_freq</th>\n    </tr>\n    <tr>\n      <th>word</th>\n      <th></th>\n      <th></th>\n      <th></th>\n      <th></th>\n      <th></th>\n      <th></th>\n      <th></th>\n      <th></th>\n      <th></th>\n      <th></th>\n      <th></th>\n      <th></th>\n    </tr>\n  </thead>\n  <tbody>\n    <tr>\n      <th>abattoir</th>\n      <td>8</td>\n      <td>4.200</td>\n      <td>2.864</td>\n      <td>4.333</td>\n      <td>5.455</td>\n      <td>4.391</td>\n      <td>2.382</td>\n      <td>6.760</td>\n      <td>4.652</td>\n      <td>5.391</td>\n      <td>0</td>\n      <td>160074.0</td>\n    </tr>\n    <tr>\n      <th>abbey</th>\n      <td>5</td>\n      <td>3.125</td>\n      <td>5.781</td>\n      <td>4.667</td>\n      <td>5.906</td>\n      <td>5.344</td>\n      <td>3.324</td>\n      <td>5.177</td>\n      <td>5.121</td>\n      <td>3.303</td>\n      <td>0</td>\n      <td>4224864.0</td>\n    </tr>\n    <tr>\n      <th>abbreviate</th>\n      <td>10</td>\n      <td>3.273</td>\n      <td>5.250</td>\n      <td>5.235</td>\n      <td>3.286</td>\n      <td>3.177</td>\n      <td>5.121</td>\n      <td>5.543</td>\n      <td>2.667</td>\n      <td>3.971</td>\n      <td>0</td>\n      <td>140105.0</td>\n    </tr>\n    <tr>\n      <th>abdicate</th>\n      <td>8</td>\n      <td>4.194</td>\n      <td>3.767</td>\n      <td>4.419</td>\n      <td>3.367</td>\n      <td>2.516</td>\n      <td>3.971</td>\n      <td>6.233</td>\n      <td>4.679</td>\n      <td>5.167</td>\n      <td>0</td>\n      <td>124123.0</td>\n    </tr>\n    <tr>\n      <th>abdication</th>\n      <td>10</td>\n      <td>3.846</td>\n      <td>3.880</td>\n      <td>4.800</td>\n      <td>3.292</td>\n      <td>2.571</td>\n      <td>3.097</td>\n      <td>6.407</td>\n      <td>5.083</td>\n      <td>4.571</td>\n      <td>0</td>\n      <td>128143.0</td>\n    </tr>\n  </tbody>\n</table>\n</div>"
     },
     "execution_count": 44,
     "metadata": {},
     "output_type": "execute_result"
    }
   ],
   "source": [
    "glasgow.set_index('word').head()"
   ]
  },
  {
   "cell_type": "markdown",
   "metadata": {},
   "source": [
    "<a id='dc5'></a>\n",
    "### 2.C.g Multi-indexing ([to top](#top))\n",
    "DataFrame indexes can have multiple levels <br/>\n",
    "We can define a two level index as follows:"
   ]
  },
  {
   "cell_type": "code",
   "execution_count": 45,
   "metadata": {
    "ExecuteTime": {
     "end_time": "2023-09-01T07:02:46.149552Z",
     "start_time": "2023-09-01T07:02:46.141533Z"
    }
   },
   "outputs": [
    {
     "data": {
      "text/plain": "         word  length    aoa\n0    abattoir       8  6.760\n1       abbey       5  5.177\n2  abbreviate      10  5.543\n3    abdicate       8  6.233\n4  abdication      10  6.407",
      "text/html": "<div>\n<style scoped>\n    .dataframe tbody tr th:only-of-type {\n        vertical-align: middle;\n    }\n\n    .dataframe tbody tr th {\n        vertical-align: top;\n    }\n\n    .dataframe thead th {\n        text-align: right;\n    }\n</style>\n<table border=\"1\" class=\"dataframe\">\n  <thead>\n    <tr style=\"text-align: right;\">\n      <th></th>\n      <th>word</th>\n      <th>length</th>\n      <th>aoa</th>\n    </tr>\n  </thead>\n  <tbody>\n    <tr>\n      <th>0</th>\n      <td>abattoir</td>\n      <td>8</td>\n      <td>6.760</td>\n    </tr>\n    <tr>\n      <th>1</th>\n      <td>abbey</td>\n      <td>5</td>\n      <td>5.177</td>\n    </tr>\n    <tr>\n      <th>2</th>\n      <td>abbreviate</td>\n      <td>10</td>\n      <td>5.543</td>\n    </tr>\n    <tr>\n      <th>3</th>\n      <td>abdicate</td>\n      <td>8</td>\n      <td>6.233</td>\n    </tr>\n    <tr>\n      <th>4</th>\n      <td>abdication</td>\n      <td>10</td>\n      <td>6.407</td>\n    </tr>\n  </tbody>\n</table>\n</div>"
     },
     "execution_count": 45,
     "metadata": {},
     "output_type": "execute_result"
    }
   ],
   "source": [
    "t2 = glasgow[['word', 'length', 'aoa']]\n",
    "t2.head()"
   ]
  },
  {
   "cell_type": "code",
   "execution_count": 46,
   "metadata": {
    "ExecuteTime": {
     "end_time": "2023-09-01T07:02:58.828861Z",
     "start_time": "2023-09-01T07:02:58.806711Z"
    }
   },
   "outputs": [],
   "source": [
    "t2.set_index(['word', 'aoa'], inplace=True)"
   ]
  },
  {
   "cell_type": "markdown",
   "metadata": {},
   "source": [
    "For sake of clarity we can rename the indexes as follows"
   ]
  },
  {
   "cell_type": "code",
   "execution_count": 47,
   "metadata": {
    "ExecuteTime": {
     "end_time": "2023-09-01T07:03:01.587744Z",
     "start_time": "2023-09-01T07:03:01.557381Z"
    }
   },
   "outputs": [
    {
     "data": {
      "text/plain": "                  length\nOuter      Inner        \nabattoir   6.760       8\nabbey      5.177       5\nabbreviate 5.543      10\nabdicate   6.233       8\nabdication 6.407      10",
      "text/html": "<div>\n<style scoped>\n    .dataframe tbody tr th:only-of-type {\n        vertical-align: middle;\n    }\n\n    .dataframe tbody tr th {\n        vertical-align: top;\n    }\n\n    .dataframe thead th {\n        text-align: right;\n    }\n</style>\n<table border=\"1\" class=\"dataframe\">\n  <thead>\n    <tr style=\"text-align: right;\">\n      <th></th>\n      <th></th>\n      <th>length</th>\n    </tr>\n    <tr>\n      <th>Outer</th>\n      <th>Inner</th>\n      <th></th>\n    </tr>\n  </thead>\n  <tbody>\n    <tr>\n      <th>abattoir</th>\n      <th>6.760</th>\n      <td>8</td>\n    </tr>\n    <tr>\n      <th>abbey</th>\n      <th>5.177</th>\n      <td>5</td>\n    </tr>\n    <tr>\n      <th>abbreviate</th>\n      <th>5.543</th>\n      <td>10</td>\n    </tr>\n    <tr>\n      <th>abdicate</th>\n      <th>6.233</th>\n      <td>8</td>\n    </tr>\n    <tr>\n      <th>abdication</th>\n      <th>6.407</th>\n      <td>10</td>\n    </tr>\n  </tbody>\n</table>\n</div>"
     },
     "execution_count": 47,
     "metadata": {},
     "output_type": "execute_result"
    }
   ],
   "source": [
    "t2.index.names=['Outer', 'Inner']\n",
    "t2.head()"
   ]
  },
  {
   "cell_type": "markdown",
   "metadata": {},
   "source": [
    "<a id='de'></a>\n",
    "## 3. Data Transformation ([to top](#top))\n",
    "Data stored in a DataFrame can be transformed applying several functions."
   ]
  },
  {
   "cell_type": "markdown",
   "metadata": {},
   "source": [
    "<a id='de1'></a>\n",
    "### 3.A Missing Values ([to top](#top))\n",
    "In presence of missing values different policies can be selected"
   ]
  },
  {
   "cell_type": "markdown",
   "metadata": {},
   "source": [
    "#### Dropping any rows with a NaN value"
   ]
  },
  {
   "cell_type": "code",
   "execution_count": 50,
   "metadata": {
    "ExecuteTime": {
     "end_time": "2023-09-01T07:04:13.402163Z",
     "start_time": "2023-09-01T07:04:13.376082Z"
    }
   },
   "outputs": [
    {
     "data": {
      "text/plain": "         word  length  arousal  valence  dominance  concreteness  \\\n0    abattoir       8    4.200    2.864      4.333         5.455   \n1       abbey       5    3.125    5.781      4.667         5.906   \n2  abbreviate      10    3.273    5.250      5.235         3.286   \n3    abdicate       8    4.194    3.767      4.419         3.367   \n4  abdication      10    3.846    3.880      4.800         3.292   \n\n   imageability  familiarity    aoa  semsize  gender  polysemy  \\\n0         4.391        2.382  6.760    4.652   5.391         0   \n1         5.344        3.324  5.177    5.121   3.303         0   \n2         3.177        5.121  5.543    2.667   3.971         0   \n3         2.516        3.971  6.233    4.679   5.167         0   \n4         2.571        3.097  6.407    5.083   4.571         0   \n\n   web_corpus_freq  \n0         160074.0  \n1        4224864.0  \n2         140105.0  \n3         124123.0  \n4         128143.0  ",
      "text/html": "<div>\n<style scoped>\n    .dataframe tbody tr th:only-of-type {\n        vertical-align: middle;\n    }\n\n    .dataframe tbody tr th {\n        vertical-align: top;\n    }\n\n    .dataframe thead th {\n        text-align: right;\n    }\n</style>\n<table border=\"1\" class=\"dataframe\">\n  <thead>\n    <tr style=\"text-align: right;\">\n      <th></th>\n      <th>word</th>\n      <th>length</th>\n      <th>arousal</th>\n      <th>valence</th>\n      <th>dominance</th>\n      <th>concreteness</th>\n      <th>imageability</th>\n      <th>familiarity</th>\n      <th>aoa</th>\n      <th>semsize</th>\n      <th>gender</th>\n      <th>polysemy</th>\n      <th>web_corpus_freq</th>\n    </tr>\n  </thead>\n  <tbody>\n    <tr>\n      <th>0</th>\n      <td>abattoir</td>\n      <td>8</td>\n      <td>4.200</td>\n      <td>2.864</td>\n      <td>4.333</td>\n      <td>5.455</td>\n      <td>4.391</td>\n      <td>2.382</td>\n      <td>6.760</td>\n      <td>4.652</td>\n      <td>5.391</td>\n      <td>0</td>\n      <td>160074.0</td>\n    </tr>\n    <tr>\n      <th>1</th>\n      <td>abbey</td>\n      <td>5</td>\n      <td>3.125</td>\n      <td>5.781</td>\n      <td>4.667</td>\n      <td>5.906</td>\n      <td>5.344</td>\n      <td>3.324</td>\n      <td>5.177</td>\n      <td>5.121</td>\n      <td>3.303</td>\n      <td>0</td>\n      <td>4224864.0</td>\n    </tr>\n    <tr>\n      <th>2</th>\n      <td>abbreviate</td>\n      <td>10</td>\n      <td>3.273</td>\n      <td>5.250</td>\n      <td>5.235</td>\n      <td>3.286</td>\n      <td>3.177</td>\n      <td>5.121</td>\n      <td>5.543</td>\n      <td>2.667</td>\n      <td>3.971</td>\n      <td>0</td>\n      <td>140105.0</td>\n    </tr>\n    <tr>\n      <th>3</th>\n      <td>abdicate</td>\n      <td>8</td>\n      <td>4.194</td>\n      <td>3.767</td>\n      <td>4.419</td>\n      <td>3.367</td>\n      <td>2.516</td>\n      <td>3.971</td>\n      <td>6.233</td>\n      <td>4.679</td>\n      <td>5.167</td>\n      <td>0</td>\n      <td>124123.0</td>\n    </tr>\n    <tr>\n      <th>4</th>\n      <td>abdication</td>\n      <td>10</td>\n      <td>3.846</td>\n      <td>3.880</td>\n      <td>4.800</td>\n      <td>3.292</td>\n      <td>2.571</td>\n      <td>3.097</td>\n      <td>6.407</td>\n      <td>5.083</td>\n      <td>4.571</td>\n      <td>0</td>\n      <td>128143.0</td>\n    </tr>\n  </tbody>\n</table>\n</div>"
     },
     "execution_count": 50,
     "metadata": {},
     "output_type": "execute_result"
    }
   ],
   "source": [
    "glasgow.dropna(axis=0).head()"
   ]
  },
  {
   "cell_type": "markdown",
   "metadata": {},
   "source": [
    "#### Dropping any columns with NaN value"
   ]
  },
  {
   "cell_type": "code",
   "execution_count": 51,
   "metadata": {
    "ExecuteTime": {
     "end_time": "2023-09-01T07:04:46.684940Z",
     "start_time": "2023-09-01T07:04:46.657258Z"
    }
   },
   "outputs": [
    {
     "data": {
      "text/plain": "         word  length  arousal  valence  dominance  concreteness  \\\n0    abattoir       8    4.200    2.864      4.333         5.455   \n1       abbey       5    3.125    5.781      4.667         5.906   \n2  abbreviate      10    3.273    5.250      5.235         3.286   \n3    abdicate       8    4.194    3.767      4.419         3.367   \n4  abdication      10    3.846    3.880      4.800         3.292   \n\n   imageability  familiarity    aoa  semsize  gender  polysemy  \n0         4.391        2.382  6.760    4.652   5.391         0  \n1         5.344        3.324  5.177    5.121   3.303         0  \n2         3.177        5.121  5.543    2.667   3.971         0  \n3         2.516        3.971  6.233    4.679   5.167         0  \n4         2.571        3.097  6.407    5.083   4.571         0  ",
      "text/html": "<div>\n<style scoped>\n    .dataframe tbody tr th:only-of-type {\n        vertical-align: middle;\n    }\n\n    .dataframe tbody tr th {\n        vertical-align: top;\n    }\n\n    .dataframe thead th {\n        text-align: right;\n    }\n</style>\n<table border=\"1\" class=\"dataframe\">\n  <thead>\n    <tr style=\"text-align: right;\">\n      <th></th>\n      <th>word</th>\n      <th>length</th>\n      <th>arousal</th>\n      <th>valence</th>\n      <th>dominance</th>\n      <th>concreteness</th>\n      <th>imageability</th>\n      <th>familiarity</th>\n      <th>aoa</th>\n      <th>semsize</th>\n      <th>gender</th>\n      <th>polysemy</th>\n    </tr>\n  </thead>\n  <tbody>\n    <tr>\n      <th>0</th>\n      <td>abattoir</td>\n      <td>8</td>\n      <td>4.200</td>\n      <td>2.864</td>\n      <td>4.333</td>\n      <td>5.455</td>\n      <td>4.391</td>\n      <td>2.382</td>\n      <td>6.760</td>\n      <td>4.652</td>\n      <td>5.391</td>\n      <td>0</td>\n    </tr>\n    <tr>\n      <th>1</th>\n      <td>abbey</td>\n      <td>5</td>\n      <td>3.125</td>\n      <td>5.781</td>\n      <td>4.667</td>\n      <td>5.906</td>\n      <td>5.344</td>\n      <td>3.324</td>\n      <td>5.177</td>\n      <td>5.121</td>\n      <td>3.303</td>\n      <td>0</td>\n    </tr>\n    <tr>\n      <th>2</th>\n      <td>abbreviate</td>\n      <td>10</td>\n      <td>3.273</td>\n      <td>5.250</td>\n      <td>5.235</td>\n      <td>3.286</td>\n      <td>3.177</td>\n      <td>5.121</td>\n      <td>5.543</td>\n      <td>2.667</td>\n      <td>3.971</td>\n      <td>0</td>\n    </tr>\n    <tr>\n      <th>3</th>\n      <td>abdicate</td>\n      <td>8</td>\n      <td>4.194</td>\n      <td>3.767</td>\n      <td>4.419</td>\n      <td>3.367</td>\n      <td>2.516</td>\n      <td>3.971</td>\n      <td>6.233</td>\n      <td>4.679</td>\n      <td>5.167</td>\n      <td>0</td>\n    </tr>\n    <tr>\n      <th>4</th>\n      <td>abdication</td>\n      <td>10</td>\n      <td>3.846</td>\n      <td>3.880</td>\n      <td>4.800</td>\n      <td>3.292</td>\n      <td>2.571</td>\n      <td>3.097</td>\n      <td>6.407</td>\n      <td>5.083</td>\n      <td>4.571</td>\n      <td>0</td>\n    </tr>\n  </tbody>\n</table>\n</div>"
     },
     "execution_count": 51,
     "metadata": {},
     "output_type": "execute_result"
    }
   ],
   "source": [
    "glasgow.dropna(axis=1).head()"
   ]
  },
  {
   "cell_type": "markdown",
   "metadata": {},
   "source": [
    "#### Thresholding: dropping a row with a minimum 5 NaN"
   ]
  },
  {
   "cell_type": "code",
   "execution_count": 52,
   "metadata": {
    "ExecuteTime": {
     "end_time": "2023-09-01T07:04:53.598957Z",
     "start_time": "2023-09-01T07:04:53.572271Z"
    }
   },
   "outputs": [
    {
     "data": {
      "text/plain": "         word  length  arousal  valence  dominance  concreteness  \\\n0    abattoir       8    4.200    2.864      4.333         5.455   \n1       abbey       5    3.125    5.781      4.667         5.906   \n2  abbreviate      10    3.273    5.250      5.235         3.286   \n3    abdicate       8    4.194    3.767      4.419         3.367   \n4  abdication      10    3.846    3.880      4.800         3.292   \n\n   imageability  familiarity    aoa  semsize  gender  polysemy  \\\n0         4.391        2.382  6.760    4.652   5.391         0   \n1         5.344        3.324  5.177    5.121   3.303         0   \n2         3.177        5.121  5.543    2.667   3.971         0   \n3         2.516        3.971  6.233    4.679   5.167         0   \n4         2.571        3.097  6.407    5.083   4.571         0   \n\n   web_corpus_freq  \n0         160074.0  \n1        4224864.0  \n2         140105.0  \n3         124123.0  \n4         128143.0  ",
      "text/html": "<div>\n<style scoped>\n    .dataframe tbody tr th:only-of-type {\n        vertical-align: middle;\n    }\n\n    .dataframe tbody tr th {\n        vertical-align: top;\n    }\n\n    .dataframe thead th {\n        text-align: right;\n    }\n</style>\n<table border=\"1\" class=\"dataframe\">\n  <thead>\n    <tr style=\"text-align: right;\">\n      <th></th>\n      <th>word</th>\n      <th>length</th>\n      <th>arousal</th>\n      <th>valence</th>\n      <th>dominance</th>\n      <th>concreteness</th>\n      <th>imageability</th>\n      <th>familiarity</th>\n      <th>aoa</th>\n      <th>semsize</th>\n      <th>gender</th>\n      <th>polysemy</th>\n      <th>web_corpus_freq</th>\n    </tr>\n  </thead>\n  <tbody>\n    <tr>\n      <th>0</th>\n      <td>abattoir</td>\n      <td>8</td>\n      <td>4.200</td>\n      <td>2.864</td>\n      <td>4.333</td>\n      <td>5.455</td>\n      <td>4.391</td>\n      <td>2.382</td>\n      <td>6.760</td>\n      <td>4.652</td>\n      <td>5.391</td>\n      <td>0</td>\n      <td>160074.0</td>\n    </tr>\n    <tr>\n      <th>1</th>\n      <td>abbey</td>\n      <td>5</td>\n      <td>3.125</td>\n      <td>5.781</td>\n      <td>4.667</td>\n      <td>5.906</td>\n      <td>5.344</td>\n      <td>3.324</td>\n      <td>5.177</td>\n      <td>5.121</td>\n      <td>3.303</td>\n      <td>0</td>\n      <td>4224864.0</td>\n    </tr>\n    <tr>\n      <th>2</th>\n      <td>abbreviate</td>\n      <td>10</td>\n      <td>3.273</td>\n      <td>5.250</td>\n      <td>5.235</td>\n      <td>3.286</td>\n      <td>3.177</td>\n      <td>5.121</td>\n      <td>5.543</td>\n      <td>2.667</td>\n      <td>3.971</td>\n      <td>0</td>\n      <td>140105.0</td>\n    </tr>\n    <tr>\n      <th>3</th>\n      <td>abdicate</td>\n      <td>8</td>\n      <td>4.194</td>\n      <td>3.767</td>\n      <td>4.419</td>\n      <td>3.367</td>\n      <td>2.516</td>\n      <td>3.971</td>\n      <td>6.233</td>\n      <td>4.679</td>\n      <td>5.167</td>\n      <td>0</td>\n      <td>124123.0</td>\n    </tr>\n    <tr>\n      <th>4</th>\n      <td>abdication</td>\n      <td>10</td>\n      <td>3.846</td>\n      <td>3.880</td>\n      <td>4.800</td>\n      <td>3.292</td>\n      <td>2.571</td>\n      <td>3.097</td>\n      <td>6.407</td>\n      <td>5.083</td>\n      <td>4.571</td>\n      <td>0</td>\n      <td>128143.0</td>\n    </tr>\n  </tbody>\n</table>\n</div>"
     },
     "execution_count": 52,
     "metadata": {},
     "output_type": "execute_result"
    }
   ],
   "source": [
    "glasgow.dropna(axis=0, thresh=5).head()"
   ]
  },
  {
   "cell_type": "markdown",
   "metadata": {},
   "source": [
    "#### Filling values with a default value"
   ]
  },
  {
   "cell_type": "code",
   "execution_count": 53,
   "metadata": {
    "ExecuteTime": {
     "end_time": "2023-09-01T07:04:58.136204Z",
     "start_time": "2023-09-01T07:04:58.108958Z"
    }
   },
   "outputs": [
    {
     "data": {
      "text/plain": "         word  length  arousal  valence  dominance  concreteness  \\\n0    abattoir       8    4.200    2.864      4.333         5.455   \n1       abbey       5    3.125    5.781      4.667         5.906   \n2  abbreviate      10    3.273    5.250      5.235         3.286   \n3    abdicate       8    4.194    3.767      4.419         3.367   \n4  abdication      10    3.846    3.880      4.800         3.292   \n\n   imageability  familiarity    aoa  semsize  gender  polysemy web_corpus_freq  \n0         4.391        2.382  6.760    4.652   5.391         0        160074.0  \n1         5.344        3.324  5.177    5.121   3.303         0       4224864.0  \n2         3.177        5.121  5.543    2.667   3.971         0        140105.0  \n3         2.516        3.971  6.233    4.679   5.167         0        124123.0  \n4         2.571        3.097  6.407    5.083   4.571         0        128143.0  ",
      "text/html": "<div>\n<style scoped>\n    .dataframe tbody tr th:only-of-type {\n        vertical-align: middle;\n    }\n\n    .dataframe tbody tr th {\n        vertical-align: top;\n    }\n\n    .dataframe thead th {\n        text-align: right;\n    }\n</style>\n<table border=\"1\" class=\"dataframe\">\n  <thead>\n    <tr style=\"text-align: right;\">\n      <th></th>\n      <th>word</th>\n      <th>length</th>\n      <th>arousal</th>\n      <th>valence</th>\n      <th>dominance</th>\n      <th>concreteness</th>\n      <th>imageability</th>\n      <th>familiarity</th>\n      <th>aoa</th>\n      <th>semsize</th>\n      <th>gender</th>\n      <th>polysemy</th>\n      <th>web_corpus_freq</th>\n    </tr>\n  </thead>\n  <tbody>\n    <tr>\n      <th>0</th>\n      <td>abattoir</td>\n      <td>8</td>\n      <td>4.200</td>\n      <td>2.864</td>\n      <td>4.333</td>\n      <td>5.455</td>\n      <td>4.391</td>\n      <td>2.382</td>\n      <td>6.760</td>\n      <td>4.652</td>\n      <td>5.391</td>\n      <td>0</td>\n      <td>160074.0</td>\n    </tr>\n    <tr>\n      <th>1</th>\n      <td>abbey</td>\n      <td>5</td>\n      <td>3.125</td>\n      <td>5.781</td>\n      <td>4.667</td>\n      <td>5.906</td>\n      <td>5.344</td>\n      <td>3.324</td>\n      <td>5.177</td>\n      <td>5.121</td>\n      <td>3.303</td>\n      <td>0</td>\n      <td>4224864.0</td>\n    </tr>\n    <tr>\n      <th>2</th>\n      <td>abbreviate</td>\n      <td>10</td>\n      <td>3.273</td>\n      <td>5.250</td>\n      <td>5.235</td>\n      <td>3.286</td>\n      <td>3.177</td>\n      <td>5.121</td>\n      <td>5.543</td>\n      <td>2.667</td>\n      <td>3.971</td>\n      <td>0</td>\n      <td>140105.0</td>\n    </tr>\n    <tr>\n      <th>3</th>\n      <td>abdicate</td>\n      <td>8</td>\n      <td>4.194</td>\n      <td>3.767</td>\n      <td>4.419</td>\n      <td>3.367</td>\n      <td>2.516</td>\n      <td>3.971</td>\n      <td>6.233</td>\n      <td>4.679</td>\n      <td>5.167</td>\n      <td>0</td>\n      <td>124123.0</td>\n    </tr>\n    <tr>\n      <th>4</th>\n      <td>abdication</td>\n      <td>10</td>\n      <td>3.846</td>\n      <td>3.880</td>\n      <td>4.800</td>\n      <td>3.292</td>\n      <td>2.571</td>\n      <td>3.097</td>\n      <td>6.407</td>\n      <td>5.083</td>\n      <td>4.571</td>\n      <td>0</td>\n      <td>128143.0</td>\n    </tr>\n  </tbody>\n</table>\n</div>"
     },
     "execution_count": 53,
     "metadata": {},
     "output_type": "execute_result"
    }
   ],
   "source": [
    "glasgow.fillna(value='FILL VALUE').head()"
   ]
  },
  {
   "cell_type": "markdown",
   "metadata": {},
   "source": [
    "#### Filling values with a computed value (e.g., mean of column A)"
   ]
  },
  {
   "cell_type": "code",
   "execution_count": 55,
   "metadata": {
    "ExecuteTime": {
     "end_time": "2023-09-01T07:05:13.932899Z",
     "start_time": "2023-09-01T07:05:13.921481Z"
    }
   },
   "outputs": [
    {
     "data": {
      "text/plain": "         word  length  arousal  valence  dominance  concreteness  \\\n0    abattoir       8    4.200    2.864      4.333         5.455   \n1       abbey       5    3.125    5.781      4.667         5.906   \n2  abbreviate      10    3.273    5.250      5.235         3.286   \n3    abdicate       8    4.194    3.767      4.419         3.367   \n4  abdication      10    3.846    3.880      4.800         3.292   \n\n   imageability  familiarity    aoa  semsize  gender  polysemy  \\\n0         4.391        2.382  6.760    4.652   5.391         0   \n1         5.344        3.324  5.177    5.121   3.303         0   \n2         3.177        5.121  5.543    2.667   3.971         0   \n3         2.516        3.971  6.233    4.679   5.167         0   \n4         2.571        3.097  6.407    5.083   4.571         0   \n\n   web_corpus_freq  \n0         160074.0  \n1        4224864.0  \n2         140105.0  \n3         124123.0  \n4         128143.0  ",
      "text/html": "<div>\n<style scoped>\n    .dataframe tbody tr th:only-of-type {\n        vertical-align: middle;\n    }\n\n    .dataframe tbody tr th {\n        vertical-align: top;\n    }\n\n    .dataframe thead th {\n        text-align: right;\n    }\n</style>\n<table border=\"1\" class=\"dataframe\">\n  <thead>\n    <tr style=\"text-align: right;\">\n      <th></th>\n      <th>word</th>\n      <th>length</th>\n      <th>arousal</th>\n      <th>valence</th>\n      <th>dominance</th>\n      <th>concreteness</th>\n      <th>imageability</th>\n      <th>familiarity</th>\n      <th>aoa</th>\n      <th>semsize</th>\n      <th>gender</th>\n      <th>polysemy</th>\n      <th>web_corpus_freq</th>\n    </tr>\n  </thead>\n  <tbody>\n    <tr>\n      <th>0</th>\n      <td>abattoir</td>\n      <td>8</td>\n      <td>4.200</td>\n      <td>2.864</td>\n      <td>4.333</td>\n      <td>5.455</td>\n      <td>4.391</td>\n      <td>2.382</td>\n      <td>6.760</td>\n      <td>4.652</td>\n      <td>5.391</td>\n      <td>0</td>\n      <td>160074.0</td>\n    </tr>\n    <tr>\n      <th>1</th>\n      <td>abbey</td>\n      <td>5</td>\n      <td>3.125</td>\n      <td>5.781</td>\n      <td>4.667</td>\n      <td>5.906</td>\n      <td>5.344</td>\n      <td>3.324</td>\n      <td>5.177</td>\n      <td>5.121</td>\n      <td>3.303</td>\n      <td>0</td>\n      <td>4224864.0</td>\n    </tr>\n    <tr>\n      <th>2</th>\n      <td>abbreviate</td>\n      <td>10</td>\n      <td>3.273</td>\n      <td>5.250</td>\n      <td>5.235</td>\n      <td>3.286</td>\n      <td>3.177</td>\n      <td>5.121</td>\n      <td>5.543</td>\n      <td>2.667</td>\n      <td>3.971</td>\n      <td>0</td>\n      <td>140105.0</td>\n    </tr>\n    <tr>\n      <th>3</th>\n      <td>abdicate</td>\n      <td>8</td>\n      <td>4.194</td>\n      <td>3.767</td>\n      <td>4.419</td>\n      <td>3.367</td>\n      <td>2.516</td>\n      <td>3.971</td>\n      <td>6.233</td>\n      <td>4.679</td>\n      <td>5.167</td>\n      <td>0</td>\n      <td>124123.0</td>\n    </tr>\n    <tr>\n      <th>4</th>\n      <td>abdication</td>\n      <td>10</td>\n      <td>3.846</td>\n      <td>3.880</td>\n      <td>4.800</td>\n      <td>3.292</td>\n      <td>2.571</td>\n      <td>3.097</td>\n      <td>6.407</td>\n      <td>5.083</td>\n      <td>4.571</td>\n      <td>0</td>\n      <td>128143.0</td>\n    </tr>\n  </tbody>\n</table>\n</div>"
     },
     "execution_count": 55,
     "metadata": {},
     "output_type": "execute_result"
    }
   ],
   "source": [
    "glasgow.fillna(value={'aoa': glasgow['aoa'].mean()}).head()"
   ]
  },
  {
   "cell_type": "markdown",
   "metadata": {},
   "source": [
    "<a id='de2'></a>\n",
    "### 3.B GroupBy ([to top](#top))\n",
    "DataFrames allow to group rows by column values so to compute aggregated statistics (i.e., sum, mean...)"
   ]
  },
  {
   "cell_type": "code",
   "execution_count": 56,
   "metadata": {
    "ExecuteTime": {
     "end_time": "2023-09-01T07:05:27.476512Z",
     "start_time": "2023-09-01T07:05:27.466904Z"
    }
   },
   "outputs": [
    {
     "data": {
      "text/plain": "       length\naoa          \n1.219     3.0\n1.265     3.0\n1.333     3.0\n1.371     4.0\n1.382     6.0\n...       ...\n6.778     6.0\n6.786     9.0\n6.829     5.0\n6.833     6.0\n6.971     7.0\n\n[953 rows x 1 columns]",
      "text/html": "<div>\n<style scoped>\n    .dataframe tbody tr th:only-of-type {\n        vertical-align: middle;\n    }\n\n    .dataframe tbody tr th {\n        vertical-align: top;\n    }\n\n    .dataframe thead th {\n        text-align: right;\n    }\n</style>\n<table border=\"1\" class=\"dataframe\">\n  <thead>\n    <tr style=\"text-align: right;\">\n      <th></th>\n      <th>length</th>\n    </tr>\n    <tr>\n      <th>aoa</th>\n      <th></th>\n    </tr>\n  </thead>\n  <tbody>\n    <tr>\n      <th>1.219</th>\n      <td>3.0</td>\n    </tr>\n    <tr>\n      <th>1.265</th>\n      <td>3.0</td>\n    </tr>\n    <tr>\n      <th>1.333</th>\n      <td>3.0</td>\n    </tr>\n    <tr>\n      <th>1.371</th>\n      <td>4.0</td>\n    </tr>\n    <tr>\n      <th>1.382</th>\n      <td>6.0</td>\n    </tr>\n    <tr>\n      <th>...</th>\n      <td>...</td>\n    </tr>\n    <tr>\n      <th>6.778</th>\n      <td>6.0</td>\n    </tr>\n    <tr>\n      <th>6.786</th>\n      <td>9.0</td>\n    </tr>\n    <tr>\n      <th>6.829</th>\n      <td>5.0</td>\n    </tr>\n    <tr>\n      <th>6.833</th>\n      <td>6.0</td>\n    </tr>\n    <tr>\n      <th>6.971</th>\n      <td>7.0</td>\n    </tr>\n  </tbody>\n</table>\n<p>953 rows × 1 columns</p>\n</div>"
     },
     "execution_count": 56,
     "metadata": {},
     "output_type": "execute_result"
    }
   ],
   "source": [
    "t3 = glasgow.groupby('aoa')\n",
    "t3[['length']].mean()"
   ]
  },
  {
   "cell_type": "code",
   "execution_count": 59,
   "metadata": {
    "ExecuteTime": {
     "end_time": "2023-09-01T07:06:31.459253Z",
     "start_time": "2023-09-01T07:06:31.433006Z"
    }
   },
   "outputs": [
    {
     "data": {
      "text/plain": "          length                                             \n           count     mean       std  min  25%  50%  75%   max\npolysemy                                                     \n0         4303.0  6.48594  2.004928  2.0  5.0  6.0  8.0  16.0\n1          379.0  4.78628  1.197096  3.0  4.0  5.0  5.0  10.0",
      "text/html": "<div>\n<style scoped>\n    .dataframe tbody tr th:only-of-type {\n        vertical-align: middle;\n    }\n\n    .dataframe tbody tr th {\n        vertical-align: top;\n    }\n\n    .dataframe thead tr th {\n        text-align: left;\n    }\n\n    .dataframe thead tr:last-of-type th {\n        text-align: right;\n    }\n</style>\n<table border=\"1\" class=\"dataframe\">\n  <thead>\n    <tr>\n      <th></th>\n      <th colspan=\"8\" halign=\"left\">length</th>\n    </tr>\n    <tr>\n      <th></th>\n      <th>count</th>\n      <th>mean</th>\n      <th>std</th>\n      <th>min</th>\n      <th>25%</th>\n      <th>50%</th>\n      <th>75%</th>\n      <th>max</th>\n    </tr>\n    <tr>\n      <th>polysemy</th>\n      <th></th>\n      <th></th>\n      <th></th>\n      <th></th>\n      <th></th>\n      <th></th>\n      <th></th>\n      <th></th>\n    </tr>\n  </thead>\n  <tbody>\n    <tr>\n      <th>0</th>\n      <td>4303.0</td>\n      <td>6.48594</td>\n      <td>2.004928</td>\n      <td>2.0</td>\n      <td>5.0</td>\n      <td>6.0</td>\n      <td>8.0</td>\n      <td>16.0</td>\n    </tr>\n    <tr>\n      <th>1</th>\n      <td>379.0</td>\n      <td>4.78628</td>\n      <td>1.197096</td>\n      <td>3.0</td>\n      <td>4.0</td>\n      <td>5.0</td>\n      <td>5.0</td>\n      <td>10.0</td>\n    </tr>\n  </tbody>\n</table>\n</div>"
     },
     "execution_count": 59,
     "metadata": {},
     "output_type": "execute_result"
    }
   ],
   "source": [
    "t4 = pd.DataFrame(glasgow[['polysemy', 'length']].groupby('polysemy').describe())\n",
    "t4"
   ]
  },
  {
   "cell_type": "markdown",
   "metadata": {},
   "source": [
    "In order to select a single row of the resulting DataFrame it is necessary to:\n",
    "- access it via *loc*\n",
    "- transpose the results"
   ]
  },
  {
   "cell_type": "code",
   "execution_count": 63,
   "metadata": {
    "ExecuteTime": {
     "end_time": "2023-09-01T07:07:11.017554Z",
     "start_time": "2023-09-01T07:07:11.009841Z"
    }
   },
   "outputs": [
    {
     "data": {
      "text/plain": "                       1\nlength count  379.000000\n       mean     4.786280\n       std      1.197096\n       min      3.000000\n       25%      4.000000\n       50%      5.000000\n       75%      5.000000\n       max     10.000000",
      "text/html": "<div>\n<style scoped>\n    .dataframe tbody tr th:only-of-type {\n        vertical-align: middle;\n    }\n\n    .dataframe tbody tr th {\n        vertical-align: top;\n    }\n\n    .dataframe thead th {\n        text-align: right;\n    }\n</style>\n<table border=\"1\" class=\"dataframe\">\n  <thead>\n    <tr style=\"text-align: right;\">\n      <th></th>\n      <th></th>\n      <th>1</th>\n    </tr>\n  </thead>\n  <tbody>\n    <tr>\n      <th rowspan=\"8\" valign=\"top\">length</th>\n      <th>count</th>\n      <td>379.000000</td>\n    </tr>\n    <tr>\n      <th>mean</th>\n      <td>4.786280</td>\n    </tr>\n    <tr>\n      <th>std</th>\n      <td>1.197096</td>\n    </tr>\n    <tr>\n      <th>min</th>\n      <td>3.000000</td>\n    </tr>\n    <tr>\n      <th>25%</th>\n      <td>4.000000</td>\n    </tr>\n    <tr>\n      <th>50%</th>\n      <td>5.000000</td>\n    </tr>\n    <tr>\n      <th>75%</th>\n      <td>5.000000</td>\n    </tr>\n    <tr>\n      <th>max</th>\n      <td>10.000000</td>\n    </tr>\n  </tbody>\n</table>\n</div>"
     },
     "execution_count": 63,
     "metadata": {},
     "output_type": "execute_result"
    }
   ],
   "source": [
    "glasgow_polysemic = pd.DataFrame(t4.loc[1])\n",
    "glasgow_polysemic"
   ]
  },
  {
   "cell_type": "code",
   "execution_count": 64,
   "metadata": {
    "ExecuteTime": {
     "end_time": "2023-09-01T07:07:18.673559Z",
     "start_time": "2023-09-01T07:07:18.652754Z"
    }
   },
   "outputs": [
    {
     "data": {
      "text/plain": "  length                                             \n   count     mean       std  min  25%  50%  75%   max\n1  379.0  4.78628  1.197096  3.0  4.0  5.0  5.0  10.0",
      "text/html": "<div>\n<style scoped>\n    .dataframe tbody tr th:only-of-type {\n        vertical-align: middle;\n    }\n\n    .dataframe tbody tr th {\n        vertical-align: top;\n    }\n\n    .dataframe thead tr th {\n        text-align: left;\n    }\n</style>\n<table border=\"1\" class=\"dataframe\">\n  <thead>\n    <tr>\n      <th></th>\n      <th colspan=\"8\" halign=\"left\">length</th>\n    </tr>\n    <tr>\n      <th></th>\n      <th>count</th>\n      <th>mean</th>\n      <th>std</th>\n      <th>min</th>\n      <th>25%</th>\n      <th>50%</th>\n      <th>75%</th>\n      <th>max</th>\n    </tr>\n  </thead>\n  <tbody>\n    <tr>\n      <th>1</th>\n      <td>379.0</td>\n      <td>4.78628</td>\n      <td>1.197096</td>\n      <td>3.0</td>\n      <td>4.0</td>\n      <td>5.0</td>\n      <td>5.0</td>\n      <td>10.0</td>\n    </tr>\n  </tbody>\n</table>\n</div>"
     },
     "execution_count": 64,
     "metadata": {},
     "output_type": "execute_result"
    }
   ],
   "source": [
    "glasgow_polysemic.transpose()"
   ]
  },
  {
   "cell_type": "markdown",
   "metadata": {},
   "source": [
    "<a id='de3'></a>\n",
    "### 3.C Concatenation ([to top](#top))"
   ]
  },
  {
   "cell_type": "markdown",
   "metadata": {},
   "source": [
    "DataFrames can be easily contatenated by row as well as by column"
   ]
  },
  {
   "cell_type": "code",
   "execution_count": 68,
   "metadata": {
    "ExecuteTime": {
     "end_time": "2023-09-01T07:08:38.406483Z",
     "start_time": "2023-09-01T07:08:38.385790Z"
    }
   },
   "outputs": [
    {
     "data": {
      "text/plain": "                 word  length  arousal  valence  dominance  concreteness  \\\n0    address (postal)       7    3.546    5.000      5.114         5.581   \n1  address (speak to)       7    4.000    5.559      6.182         4.114   \n2     aim (objective)       3    4.909    6.382      5.909         3.294   \n3        aim (target)       3    5.200    5.600      6.714         4.677   \n4       Apple (brand)       5    4.849    5.971      4.600         5.943   \n\n   imageability  familiarity    aoa  semsize  gender  \n0         4.559        6.094  3.059    3.471   4.000  \n1         4.200        4.857  4.800    4.171   3.824  \n2         2.909        6.030  4.529    4.500   4.235  \n3         5.286        5.970  3.618    3.686   4.743  \n4         6.677        6.529  6.000    5.353   4.647  ",
      "text/html": "<div>\n<style scoped>\n    .dataframe tbody tr th:only-of-type {\n        vertical-align: middle;\n    }\n\n    .dataframe tbody tr th {\n        vertical-align: top;\n    }\n\n    .dataframe thead th {\n        text-align: right;\n    }\n</style>\n<table border=\"1\" class=\"dataframe\">\n  <thead>\n    <tr style=\"text-align: right;\">\n      <th></th>\n      <th>word</th>\n      <th>length</th>\n      <th>arousal</th>\n      <th>valence</th>\n      <th>dominance</th>\n      <th>concreteness</th>\n      <th>imageability</th>\n      <th>familiarity</th>\n      <th>aoa</th>\n      <th>semsize</th>\n      <th>gender</th>\n    </tr>\n  </thead>\n  <tbody>\n    <tr>\n      <th>0</th>\n      <td>address (postal)</td>\n      <td>7</td>\n      <td>3.546</td>\n      <td>5.000</td>\n      <td>5.114</td>\n      <td>5.581</td>\n      <td>4.559</td>\n      <td>6.094</td>\n      <td>3.059</td>\n      <td>3.471</td>\n      <td>4.000</td>\n    </tr>\n    <tr>\n      <th>1</th>\n      <td>address (speak to)</td>\n      <td>7</td>\n      <td>4.000</td>\n      <td>5.559</td>\n      <td>6.182</td>\n      <td>4.114</td>\n      <td>4.200</td>\n      <td>4.857</td>\n      <td>4.800</td>\n      <td>4.171</td>\n      <td>3.824</td>\n    </tr>\n    <tr>\n      <th>2</th>\n      <td>aim (objective)</td>\n      <td>3</td>\n      <td>4.909</td>\n      <td>6.382</td>\n      <td>5.909</td>\n      <td>3.294</td>\n      <td>2.909</td>\n      <td>6.030</td>\n      <td>4.529</td>\n      <td>4.500</td>\n      <td>4.235</td>\n    </tr>\n    <tr>\n      <th>3</th>\n      <td>aim (target)</td>\n      <td>3</td>\n      <td>5.200</td>\n      <td>5.600</td>\n      <td>6.714</td>\n      <td>4.677</td>\n      <td>5.286</td>\n      <td>5.970</td>\n      <td>3.618</td>\n      <td>3.686</td>\n      <td>4.743</td>\n    </tr>\n    <tr>\n      <th>4</th>\n      <td>Apple (brand)</td>\n      <td>5</td>\n      <td>4.849</td>\n      <td>5.971</td>\n      <td>4.600</td>\n      <td>5.943</td>\n      <td>6.677</td>\n      <td>6.529</td>\n      <td>6.000</td>\n      <td>5.353</td>\n      <td>4.647</td>\n    </tr>\n  </tbody>\n</table>\n</div>"
     },
     "execution_count": 68,
     "metadata": {},
     "output_type": "execute_result"
    }
   ],
   "source": [
    "polysemy_values = pd.read_csv(\"../data/words_polysemy_values.csv\")\n",
    "polysemy_values.head()"
   ]
  },
  {
   "cell_type": "code",
   "execution_count": 68,
   "metadata": {
    "ExecuteTime": {
     "end_time": "2023-09-01T07:08:54.060969Z",
     "start_time": "2023-09-01T07:08:54.049992Z"
    }
   },
   "outputs": [],
   "source": []
  },
  {
   "cell_type": "code",
   "execution_count": 69,
   "metadata": {
    "ExecuteTime": {
     "end_time": "2023-09-01T07:09:05.264585Z",
     "start_time": "2023-09-01T07:09:05.241138Z"
    }
   },
   "outputs": [
    {
     "data": {
      "text/plain": "         word  length  arousal  valence  dominance  concreteness  \\\n0    abattoir       8    4.200    2.864      4.333         5.455   \n1       abbey       5    3.125    5.781      4.667         5.906   \n2  abbreviate      10    3.273    5.250      5.235         3.286   \n3    abdicate       8    4.194    3.767      4.419         3.367   \n4  abdication      10    3.846    3.880      4.800         3.292   \n\n   imageability  familiarity    aoa  semsize  gender  polysemy  \\\n0         4.391        2.382  6.760    4.652   5.391       0.0   \n1         5.344        3.324  5.177    5.121   3.303       0.0   \n2         3.177        5.121  5.543    2.667   3.971       0.0   \n3         2.516        3.971  6.233    4.679   5.167       0.0   \n4         2.571        3.097  6.407    5.083   4.571       0.0   \n\n   web_corpus_freq  \n0         160074.0  \n1        4224864.0  \n2         140105.0  \n3         124123.0  \n4         128143.0  ",
      "text/html": "<div>\n<style scoped>\n    .dataframe tbody tr th:only-of-type {\n        vertical-align: middle;\n    }\n\n    .dataframe tbody tr th {\n        vertical-align: top;\n    }\n\n    .dataframe thead th {\n        text-align: right;\n    }\n</style>\n<table border=\"1\" class=\"dataframe\">\n  <thead>\n    <tr style=\"text-align: right;\">\n      <th></th>\n      <th>word</th>\n      <th>length</th>\n      <th>arousal</th>\n      <th>valence</th>\n      <th>dominance</th>\n      <th>concreteness</th>\n      <th>imageability</th>\n      <th>familiarity</th>\n      <th>aoa</th>\n      <th>semsize</th>\n      <th>gender</th>\n      <th>polysemy</th>\n      <th>web_corpus_freq</th>\n    </tr>\n  </thead>\n  <tbody>\n    <tr>\n      <th>0</th>\n      <td>abattoir</td>\n      <td>8</td>\n      <td>4.200</td>\n      <td>2.864</td>\n      <td>4.333</td>\n      <td>5.455</td>\n      <td>4.391</td>\n      <td>2.382</td>\n      <td>6.760</td>\n      <td>4.652</td>\n      <td>5.391</td>\n      <td>0.0</td>\n      <td>160074.0</td>\n    </tr>\n    <tr>\n      <th>1</th>\n      <td>abbey</td>\n      <td>5</td>\n      <td>3.125</td>\n      <td>5.781</td>\n      <td>4.667</td>\n      <td>5.906</td>\n      <td>5.344</td>\n      <td>3.324</td>\n      <td>5.177</td>\n      <td>5.121</td>\n      <td>3.303</td>\n      <td>0.0</td>\n      <td>4224864.0</td>\n    </tr>\n    <tr>\n      <th>2</th>\n      <td>abbreviate</td>\n      <td>10</td>\n      <td>3.273</td>\n      <td>5.250</td>\n      <td>5.235</td>\n      <td>3.286</td>\n      <td>3.177</td>\n      <td>5.121</td>\n      <td>5.543</td>\n      <td>2.667</td>\n      <td>3.971</td>\n      <td>0.0</td>\n      <td>140105.0</td>\n    </tr>\n    <tr>\n      <th>3</th>\n      <td>abdicate</td>\n      <td>8</td>\n      <td>4.194</td>\n      <td>3.767</td>\n      <td>4.419</td>\n      <td>3.367</td>\n      <td>2.516</td>\n      <td>3.971</td>\n      <td>6.233</td>\n      <td>4.679</td>\n      <td>5.167</td>\n      <td>0.0</td>\n      <td>124123.0</td>\n    </tr>\n    <tr>\n      <th>4</th>\n      <td>abdication</td>\n      <td>10</td>\n      <td>3.846</td>\n      <td>3.880</td>\n      <td>4.800</td>\n      <td>3.292</td>\n      <td>2.571</td>\n      <td>3.097</td>\n      <td>6.407</td>\n      <td>5.083</td>\n      <td>4.571</td>\n      <td>0.0</td>\n      <td>128143.0</td>\n    </tr>\n  </tbody>\n</table>\n</div>"
     },
     "execution_count": 69,
     "metadata": {},
     "output_type": "execute_result"
    }
   ],
   "source": [
    "row_concat = pd.concat([glasgow, polysemy_values], axis=0)\n",
    "row_concat.head()"
   ]
  },
  {
   "cell_type": "code",
   "execution_count": 70,
   "metadata": {
    "ExecuteTime": {
     "end_time": "2023-09-01T07:09:32.559500Z",
     "start_time": "2023-09-01T07:09:32.474614Z"
    }
   },
   "outputs": [
    {
     "data": {
      "text/plain": "         word  length  arousal  valence dominance  concreteness  imageability  \\\n0    abattoir       8    4.200    2.864     4.333         5.455         4.391   \n1       abbey       5    3.125    5.781     4.667         5.906         5.344   \n2  abbreviate      10    3.273    5.250     5.235         3.286         3.177   \n3    abdicate       8    4.194    3.767     4.419         3.367         2.516   \n4  abdication      10    3.846    3.880     4.800         3.292         2.571   \n\n   familiarity    aoa  semsize  ...  length  arousal  valence dominance  \\\n0        2.382  6.760    4.652  ...     7.0    3.546    5.000     5.114   \n1        3.324  5.177    5.121  ...     7.0    4.000    5.559     6.182   \n2        5.121  5.543    2.667  ...     3.0    4.909    6.382     5.909   \n3        3.971  6.233    4.679  ...     3.0    5.200    5.600     6.714   \n4        3.097  6.407    5.083  ...     5.0    4.849    5.971     4.600   \n\n   concreteness  imageability  familiarity    aoa  semsize  gender  \n0         5.581         4.559        6.094  3.059    3.471   4.000  \n1         4.114         4.200        4.857  4.800    4.171   3.824  \n2         3.294         2.909        6.030  4.529    4.500   4.235  \n3         4.677         5.286        5.970  3.618    3.686   4.743  \n4         5.943         6.677        6.529  6.000    5.353   4.647  \n\n[5 rows x 24 columns]",
      "text/html": "<div>\n<style scoped>\n    .dataframe tbody tr th:only-of-type {\n        vertical-align: middle;\n    }\n\n    .dataframe tbody tr th {\n        vertical-align: top;\n    }\n\n    .dataframe thead th {\n        text-align: right;\n    }\n</style>\n<table border=\"1\" class=\"dataframe\">\n  <thead>\n    <tr style=\"text-align: right;\">\n      <th></th>\n      <th>word</th>\n      <th>length</th>\n      <th>arousal</th>\n      <th>valence</th>\n      <th>dominance</th>\n      <th>concreteness</th>\n      <th>imageability</th>\n      <th>familiarity</th>\n      <th>aoa</th>\n      <th>semsize</th>\n      <th>...</th>\n      <th>length</th>\n      <th>arousal</th>\n      <th>valence</th>\n      <th>dominance</th>\n      <th>concreteness</th>\n      <th>imageability</th>\n      <th>familiarity</th>\n      <th>aoa</th>\n      <th>semsize</th>\n      <th>gender</th>\n    </tr>\n  </thead>\n  <tbody>\n    <tr>\n      <th>0</th>\n      <td>abattoir</td>\n      <td>8</td>\n      <td>4.200</td>\n      <td>2.864</td>\n      <td>4.333</td>\n      <td>5.455</td>\n      <td>4.391</td>\n      <td>2.382</td>\n      <td>6.760</td>\n      <td>4.652</td>\n      <td>...</td>\n      <td>7.0</td>\n      <td>3.546</td>\n      <td>5.000</td>\n      <td>5.114</td>\n      <td>5.581</td>\n      <td>4.559</td>\n      <td>6.094</td>\n      <td>3.059</td>\n      <td>3.471</td>\n      <td>4.000</td>\n    </tr>\n    <tr>\n      <th>1</th>\n      <td>abbey</td>\n      <td>5</td>\n      <td>3.125</td>\n      <td>5.781</td>\n      <td>4.667</td>\n      <td>5.906</td>\n      <td>5.344</td>\n      <td>3.324</td>\n      <td>5.177</td>\n      <td>5.121</td>\n      <td>...</td>\n      <td>7.0</td>\n      <td>4.000</td>\n      <td>5.559</td>\n      <td>6.182</td>\n      <td>4.114</td>\n      <td>4.200</td>\n      <td>4.857</td>\n      <td>4.800</td>\n      <td>4.171</td>\n      <td>3.824</td>\n    </tr>\n    <tr>\n      <th>2</th>\n      <td>abbreviate</td>\n      <td>10</td>\n      <td>3.273</td>\n      <td>5.250</td>\n      <td>5.235</td>\n      <td>3.286</td>\n      <td>3.177</td>\n      <td>5.121</td>\n      <td>5.543</td>\n      <td>2.667</td>\n      <td>...</td>\n      <td>3.0</td>\n      <td>4.909</td>\n      <td>6.382</td>\n      <td>5.909</td>\n      <td>3.294</td>\n      <td>2.909</td>\n      <td>6.030</td>\n      <td>4.529</td>\n      <td>4.500</td>\n      <td>4.235</td>\n    </tr>\n    <tr>\n      <th>3</th>\n      <td>abdicate</td>\n      <td>8</td>\n      <td>4.194</td>\n      <td>3.767</td>\n      <td>4.419</td>\n      <td>3.367</td>\n      <td>2.516</td>\n      <td>3.971</td>\n      <td>6.233</td>\n      <td>4.679</td>\n      <td>...</td>\n      <td>3.0</td>\n      <td>5.200</td>\n      <td>5.600</td>\n      <td>6.714</td>\n      <td>4.677</td>\n      <td>5.286</td>\n      <td>5.970</td>\n      <td>3.618</td>\n      <td>3.686</td>\n      <td>4.743</td>\n    </tr>\n    <tr>\n      <th>4</th>\n      <td>abdication</td>\n      <td>10</td>\n      <td>3.846</td>\n      <td>3.880</td>\n      <td>4.800</td>\n      <td>3.292</td>\n      <td>2.571</td>\n      <td>3.097</td>\n      <td>6.407</td>\n      <td>5.083</td>\n      <td>...</td>\n      <td>5.0</td>\n      <td>4.849</td>\n      <td>5.971</td>\n      <td>4.600</td>\n      <td>5.943</td>\n      <td>6.677</td>\n      <td>6.529</td>\n      <td>6.000</td>\n      <td>5.353</td>\n      <td>4.647</td>\n    </tr>\n  </tbody>\n</table>\n<p>5 rows × 24 columns</p>\n</div>"
     },
     "execution_count": 70,
     "metadata": {},
     "output_type": "execute_result"
    }
   ],
   "source": [
    "column_concat = pd.concat([glasgow, polysemy_values], axis=1)\n",
    "column_concat.head()"
   ]
  },
  {
   "cell_type": "markdown",
   "metadata": {},
   "source": [
    "Filling NaN with a fixed value"
   ]
  },
  {
   "cell_type": "code",
   "execution_count": 71,
   "metadata": {
    "ExecuteTime": {
     "end_time": "2023-09-01T07:09:49.835473Z",
     "start_time": "2023-09-01T07:09:49.779986Z"
    }
   },
   "outputs": [
    {
     "data": {
      "text/plain": "         word  length  arousal  valence dominance  concreteness  imageability  \\\n0    abattoir       8    4.200    2.864     4.333         5.455         4.391   \n1       abbey       5    3.125    5.781     4.667         5.906         5.344   \n2  abbreviate      10    3.273    5.250     5.235         3.286         3.177   \n3    abdicate       8    4.194    3.767     4.419         3.367         2.516   \n4  abdication      10    3.846    3.880     4.800         3.292         2.571   \n\n   familiarity    aoa  semsize  ...  length  arousal  valence dominance  \\\n0        2.382  6.760    4.652  ...     7.0    3.546    5.000     5.114   \n1        3.324  5.177    5.121  ...     7.0    4.000    5.559     6.182   \n2        5.121  5.543    2.667  ...     3.0    4.909    6.382     5.909   \n3        3.971  6.233    4.679  ...     3.0    5.200    5.600     6.714   \n4        3.097  6.407    5.083  ...     5.0    4.849    5.971     4.600   \n\n   concreteness  imageability  familiarity    aoa  semsize  gender  \n0         5.581         4.559        6.094  3.059    3.471   4.000  \n1         4.114         4.200        4.857  4.800    4.171   3.824  \n2         3.294         2.909        6.030  4.529    4.500   4.235  \n3         4.677         5.286        5.970  3.618    3.686   4.743  \n4         5.943         6.677        6.529  6.000    5.353   4.647  \n\n[5 rows x 24 columns]",
      "text/html": "<div>\n<style scoped>\n    .dataframe tbody tr th:only-of-type {\n        vertical-align: middle;\n    }\n\n    .dataframe tbody tr th {\n        vertical-align: top;\n    }\n\n    .dataframe thead th {\n        text-align: right;\n    }\n</style>\n<table border=\"1\" class=\"dataframe\">\n  <thead>\n    <tr style=\"text-align: right;\">\n      <th></th>\n      <th>word</th>\n      <th>length</th>\n      <th>arousal</th>\n      <th>valence</th>\n      <th>dominance</th>\n      <th>concreteness</th>\n      <th>imageability</th>\n      <th>familiarity</th>\n      <th>aoa</th>\n      <th>semsize</th>\n      <th>...</th>\n      <th>length</th>\n      <th>arousal</th>\n      <th>valence</th>\n      <th>dominance</th>\n      <th>concreteness</th>\n      <th>imageability</th>\n      <th>familiarity</th>\n      <th>aoa</th>\n      <th>semsize</th>\n      <th>gender</th>\n    </tr>\n  </thead>\n  <tbody>\n    <tr>\n      <th>0</th>\n      <td>abattoir</td>\n      <td>8</td>\n      <td>4.200</td>\n      <td>2.864</td>\n      <td>4.333</td>\n      <td>5.455</td>\n      <td>4.391</td>\n      <td>2.382</td>\n      <td>6.760</td>\n      <td>4.652</td>\n      <td>...</td>\n      <td>7.0</td>\n      <td>3.546</td>\n      <td>5.000</td>\n      <td>5.114</td>\n      <td>5.581</td>\n      <td>4.559</td>\n      <td>6.094</td>\n      <td>3.059</td>\n      <td>3.471</td>\n      <td>4.000</td>\n    </tr>\n    <tr>\n      <th>1</th>\n      <td>abbey</td>\n      <td>5</td>\n      <td>3.125</td>\n      <td>5.781</td>\n      <td>4.667</td>\n      <td>5.906</td>\n      <td>5.344</td>\n      <td>3.324</td>\n      <td>5.177</td>\n      <td>5.121</td>\n      <td>...</td>\n      <td>7.0</td>\n      <td>4.000</td>\n      <td>5.559</td>\n      <td>6.182</td>\n      <td>4.114</td>\n      <td>4.200</td>\n      <td>4.857</td>\n      <td>4.800</td>\n      <td>4.171</td>\n      <td>3.824</td>\n    </tr>\n    <tr>\n      <th>2</th>\n      <td>abbreviate</td>\n      <td>10</td>\n      <td>3.273</td>\n      <td>5.250</td>\n      <td>5.235</td>\n      <td>3.286</td>\n      <td>3.177</td>\n      <td>5.121</td>\n      <td>5.543</td>\n      <td>2.667</td>\n      <td>...</td>\n      <td>3.0</td>\n      <td>4.909</td>\n      <td>6.382</td>\n      <td>5.909</td>\n      <td>3.294</td>\n      <td>2.909</td>\n      <td>6.030</td>\n      <td>4.529</td>\n      <td>4.500</td>\n      <td>4.235</td>\n    </tr>\n    <tr>\n      <th>3</th>\n      <td>abdicate</td>\n      <td>8</td>\n      <td>4.194</td>\n      <td>3.767</td>\n      <td>4.419</td>\n      <td>3.367</td>\n      <td>2.516</td>\n      <td>3.971</td>\n      <td>6.233</td>\n      <td>4.679</td>\n      <td>...</td>\n      <td>3.0</td>\n      <td>5.200</td>\n      <td>5.600</td>\n      <td>6.714</td>\n      <td>4.677</td>\n      <td>5.286</td>\n      <td>5.970</td>\n      <td>3.618</td>\n      <td>3.686</td>\n      <td>4.743</td>\n    </tr>\n    <tr>\n      <th>4</th>\n      <td>abdication</td>\n      <td>10</td>\n      <td>3.846</td>\n      <td>3.880</td>\n      <td>4.800</td>\n      <td>3.292</td>\n      <td>2.571</td>\n      <td>3.097</td>\n      <td>6.407</td>\n      <td>5.083</td>\n      <td>...</td>\n      <td>5.0</td>\n      <td>4.849</td>\n      <td>5.971</td>\n      <td>4.600</td>\n      <td>5.943</td>\n      <td>6.677</td>\n      <td>6.529</td>\n      <td>6.000</td>\n      <td>5.353</td>\n      <td>4.647</td>\n    </tr>\n  </tbody>\n</table>\n<p>5 rows × 24 columns</p>\n</div>"
     },
     "execution_count": 71,
     "metadata": {},
     "output_type": "execute_result"
    }
   ],
   "source": [
    "column_concat.fillna(value=0, inplace=True)\n",
    "column_concat.head()"
   ]
  },
  {
   "cell_type": "markdown",
   "metadata": {},
   "source": [
    "<a id='de4'></a>\n",
    "### 3.D Merging ([to top](#top))\n",
    "DataFrames can be merged if they share a **common key**. <br/>\n",
    "The merge function allows you to merge DataFrames together using a similar logic as merging SQL Tables together."
   ]
  },
  {
   "cell_type": "code",
   "execution_count": 72,
   "metadata": {
    "ExecuteTime": {
     "end_time": "2023-09-01T07:10:05.284245Z",
     "start_time": "2023-09-01T07:10:05.262642Z"
    }
   },
   "outputs": [
    {
     "data": {
      "text/plain": "Empty DataFrame\nColumns: [word, length_x, arousal_x, valence_x, dominance_x, concreteness_x, imageability_x, familiarity_x, aoa_x, semsize_x, gender_x, polysemy, web_corpus_freq, length_y, arousal_y, valence_y, dominance_y, concreteness_y, imageability_y, familiarity_y, aoa_y, semsize_y, gender_y]\nIndex: []\n\n[0 rows x 23 columns]",
      "text/html": "<div>\n<style scoped>\n    .dataframe tbody tr th:only-of-type {\n        vertical-align: middle;\n    }\n\n    .dataframe tbody tr th {\n        vertical-align: top;\n    }\n\n    .dataframe thead th {\n        text-align: right;\n    }\n</style>\n<table border=\"1\" class=\"dataframe\">\n  <thead>\n    <tr style=\"text-align: right;\">\n      <th></th>\n      <th>word</th>\n      <th>length_x</th>\n      <th>arousal_x</th>\n      <th>valence_x</th>\n      <th>dominance_x</th>\n      <th>concreteness_x</th>\n      <th>imageability_x</th>\n      <th>familiarity_x</th>\n      <th>aoa_x</th>\n      <th>semsize_x</th>\n      <th>...</th>\n      <th>length_y</th>\n      <th>arousal_y</th>\n      <th>valence_y</th>\n      <th>dominance_y</th>\n      <th>concreteness_y</th>\n      <th>imageability_y</th>\n      <th>familiarity_y</th>\n      <th>aoa_y</th>\n      <th>semsize_y</th>\n      <th>gender_y</th>\n    </tr>\n  </thead>\n  <tbody>\n  </tbody>\n</table>\n<p>0 rows × 23 columns</p>\n</div>"
     },
     "execution_count": 72,
     "metadata": {},
     "output_type": "execute_result"
    }
   ],
   "source": [
    "merge1 = pd.merge(glasgow, polysemy_values, how='inner',on=['word'])\n",
    "merge1.head()"
   ]
  },
  {
   "cell_type": "code",
   "execution_count": 73,
   "metadata": {
    "ExecuteTime": {
     "end_time": "2023-09-01T07:10:38.206105Z",
     "start_time": "2023-09-01T07:10:38.182739Z"
    }
   },
   "outputs": [
    {
     "data": {
      "text/plain": "         word  length_x  arousal_x  valence_x  dominance_x  concreteness_x  \\\n0    abattoir       8.0      4.200      2.864        4.333           5.455   \n1       abbey       5.0      3.125      5.781        4.667           5.906   \n2  abbreviate      10.0      3.273      5.250        5.235           3.286   \n3    abdicate       8.0      4.194      3.767        4.419           3.367   \n4  abdication      10.0      3.846      3.880        4.800           3.292   \n\n   imageability_x  familiarity_x  aoa_x  semsize_x  ...  length_y  arousal_y  \\\n0           4.391          2.382  6.760      4.652  ...       NaN        NaN   \n1           5.344          3.324  5.177      5.121  ...       NaN        NaN   \n2           3.177          5.121  5.543      2.667  ...       NaN        NaN   \n3           2.516          3.971  6.233      4.679  ...       NaN        NaN   \n4           2.571          3.097  6.407      5.083  ...       NaN        NaN   \n\n   valence_y  dominance_y  concreteness_y  imageability_y  familiarity_y  \\\n0        NaN          NaN             NaN             NaN            NaN   \n1        NaN          NaN             NaN             NaN            NaN   \n2        NaN          NaN             NaN             NaN            NaN   \n3        NaN          NaN             NaN             NaN            NaN   \n4        NaN          NaN             NaN             NaN            NaN   \n\n   aoa_y  semsize_y  gender_y  \n0    NaN        NaN       NaN  \n1    NaN        NaN       NaN  \n2    NaN        NaN       NaN  \n3    NaN        NaN       NaN  \n4    NaN        NaN       NaN  \n\n[5 rows x 23 columns]",
      "text/html": "<div>\n<style scoped>\n    .dataframe tbody tr th:only-of-type {\n        vertical-align: middle;\n    }\n\n    .dataframe tbody tr th {\n        vertical-align: top;\n    }\n\n    .dataframe thead th {\n        text-align: right;\n    }\n</style>\n<table border=\"1\" class=\"dataframe\">\n  <thead>\n    <tr style=\"text-align: right;\">\n      <th></th>\n      <th>word</th>\n      <th>length_x</th>\n      <th>arousal_x</th>\n      <th>valence_x</th>\n      <th>dominance_x</th>\n      <th>concreteness_x</th>\n      <th>imageability_x</th>\n      <th>familiarity_x</th>\n      <th>aoa_x</th>\n      <th>semsize_x</th>\n      <th>...</th>\n      <th>length_y</th>\n      <th>arousal_y</th>\n      <th>valence_y</th>\n      <th>dominance_y</th>\n      <th>concreteness_y</th>\n      <th>imageability_y</th>\n      <th>familiarity_y</th>\n      <th>aoa_y</th>\n      <th>semsize_y</th>\n      <th>gender_y</th>\n    </tr>\n  </thead>\n  <tbody>\n    <tr>\n      <th>0</th>\n      <td>abattoir</td>\n      <td>8.0</td>\n      <td>4.200</td>\n      <td>2.864</td>\n      <td>4.333</td>\n      <td>5.455</td>\n      <td>4.391</td>\n      <td>2.382</td>\n      <td>6.760</td>\n      <td>4.652</td>\n      <td>...</td>\n      <td>NaN</td>\n      <td>NaN</td>\n      <td>NaN</td>\n      <td>NaN</td>\n      <td>NaN</td>\n      <td>NaN</td>\n      <td>NaN</td>\n      <td>NaN</td>\n      <td>NaN</td>\n      <td>NaN</td>\n    </tr>\n    <tr>\n      <th>1</th>\n      <td>abbey</td>\n      <td>5.0</td>\n      <td>3.125</td>\n      <td>5.781</td>\n      <td>4.667</td>\n      <td>5.906</td>\n      <td>5.344</td>\n      <td>3.324</td>\n      <td>5.177</td>\n      <td>5.121</td>\n      <td>...</td>\n      <td>NaN</td>\n      <td>NaN</td>\n      <td>NaN</td>\n      <td>NaN</td>\n      <td>NaN</td>\n      <td>NaN</td>\n      <td>NaN</td>\n      <td>NaN</td>\n      <td>NaN</td>\n      <td>NaN</td>\n    </tr>\n    <tr>\n      <th>2</th>\n      <td>abbreviate</td>\n      <td>10.0</td>\n      <td>3.273</td>\n      <td>5.250</td>\n      <td>5.235</td>\n      <td>3.286</td>\n      <td>3.177</td>\n      <td>5.121</td>\n      <td>5.543</td>\n      <td>2.667</td>\n      <td>...</td>\n      <td>NaN</td>\n      <td>NaN</td>\n      <td>NaN</td>\n      <td>NaN</td>\n      <td>NaN</td>\n      <td>NaN</td>\n      <td>NaN</td>\n      <td>NaN</td>\n      <td>NaN</td>\n      <td>NaN</td>\n    </tr>\n    <tr>\n      <th>3</th>\n      <td>abdicate</td>\n      <td>8.0</td>\n      <td>4.194</td>\n      <td>3.767</td>\n      <td>4.419</td>\n      <td>3.367</td>\n      <td>2.516</td>\n      <td>3.971</td>\n      <td>6.233</td>\n      <td>4.679</td>\n      <td>...</td>\n      <td>NaN</td>\n      <td>NaN</td>\n      <td>NaN</td>\n      <td>NaN</td>\n      <td>NaN</td>\n      <td>NaN</td>\n      <td>NaN</td>\n      <td>NaN</td>\n      <td>NaN</td>\n      <td>NaN</td>\n    </tr>\n    <tr>\n      <th>4</th>\n      <td>abdication</td>\n      <td>10.0</td>\n      <td>3.846</td>\n      <td>3.880</td>\n      <td>4.800</td>\n      <td>3.292</td>\n      <td>2.571</td>\n      <td>3.097</td>\n      <td>6.407</td>\n      <td>5.083</td>\n      <td>...</td>\n      <td>NaN</td>\n      <td>NaN</td>\n      <td>NaN</td>\n      <td>NaN</td>\n      <td>NaN</td>\n      <td>NaN</td>\n      <td>NaN</td>\n      <td>NaN</td>\n      <td>NaN</td>\n      <td>NaN</td>\n    </tr>\n  </tbody>\n</table>\n<p>5 rows × 23 columns</p>\n</div>"
     },
     "execution_count": 73,
     "metadata": {},
     "output_type": "execute_result"
    }
   ],
   "source": [
    "pd.merge(glasgow, polysemy_values, how='outer',on=['word']).head()"
   ]
  },
  {
   "cell_type": "code",
   "execution_count": 63,
   "metadata": {
    "ExecuteTime": {
     "end_time": "2023-09-01T06:35:36.380940Z",
     "start_time": "2023-09-01T06:35:36.341406Z"
    }
   },
   "outputs": [
    {
     "data": {
      "text/plain": "   PassengerId                                               Name     Sex  \\\n0            1                            Braund, Mr. Owen Harris    male   \n1            2  Cumings, Mrs. John Bradley (Florence Briggs Th...  female   \n2            3                             Heikkinen, Miss. Laina  female   \n3            4       Futrelle, Mrs. Jacques Heath (Lily May Peel)  female   \n4            5                           Allen, Mr. William Henry    male   \n\n    Age  SibSp  Parch  Survived  Pclass Embarked Cabin            Ticket  \\\n0  22.0      1      0       NaN     NaN      NaN   NaN               NaN   \n1  38.0      1      0       1.0     1.0        C   C85          PC 17599   \n2  26.0      0      0       1.0     3.0        S   NaN  STON/O2. 3101282   \n3  35.0      1      0       1.0     1.0        S  C123            113803   \n4  35.0      0      0       0.0     3.0        S   NaN            373450   \n\n      Fare  \n0      NaN  \n1  71.2833  \n2   7.9250  \n3  53.1000  \n4   8.0500  ",
      "text/html": "<div>\n<style scoped>\n    .dataframe tbody tr th:only-of-type {\n        vertical-align: middle;\n    }\n\n    .dataframe tbody tr th {\n        vertical-align: top;\n    }\n\n    .dataframe thead th {\n        text-align: right;\n    }\n</style>\n<table border=\"1\" class=\"dataframe\">\n  <thead>\n    <tr style=\"text-align: right;\">\n      <th></th>\n      <th>PassengerId</th>\n      <th>Name</th>\n      <th>Sex</th>\n      <th>Age</th>\n      <th>SibSp</th>\n      <th>Parch</th>\n      <th>Survived</th>\n      <th>Pclass</th>\n      <th>Embarked</th>\n      <th>Cabin</th>\n      <th>Ticket</th>\n      <th>Fare</th>\n    </tr>\n  </thead>\n  <tbody>\n    <tr>\n      <th>0</th>\n      <td>1</td>\n      <td>Braund, Mr. Owen Harris</td>\n      <td>male</td>\n      <td>22.0</td>\n      <td>1</td>\n      <td>0</td>\n      <td>NaN</td>\n      <td>NaN</td>\n      <td>NaN</td>\n      <td>NaN</td>\n      <td>NaN</td>\n      <td>NaN</td>\n    </tr>\n    <tr>\n      <th>1</th>\n      <td>2</td>\n      <td>Cumings, Mrs. John Bradley (Florence Briggs Th...</td>\n      <td>female</td>\n      <td>38.0</td>\n      <td>1</td>\n      <td>0</td>\n      <td>1.0</td>\n      <td>1.0</td>\n      <td>C</td>\n      <td>C85</td>\n      <td>PC 17599</td>\n      <td>71.2833</td>\n    </tr>\n    <tr>\n      <th>2</th>\n      <td>3</td>\n      <td>Heikkinen, Miss. Laina</td>\n      <td>female</td>\n      <td>26.0</td>\n      <td>0</td>\n      <td>0</td>\n      <td>1.0</td>\n      <td>3.0</td>\n      <td>S</td>\n      <td>NaN</td>\n      <td>STON/O2. 3101282</td>\n      <td>7.9250</td>\n    </tr>\n    <tr>\n      <th>3</th>\n      <td>4</td>\n      <td>Futrelle, Mrs. Jacques Heath (Lily May Peel)</td>\n      <td>female</td>\n      <td>35.0</td>\n      <td>1</td>\n      <td>0</td>\n      <td>1.0</td>\n      <td>1.0</td>\n      <td>S</td>\n      <td>C123</td>\n      <td>113803</td>\n      <td>53.1000</td>\n    </tr>\n    <tr>\n      <th>4</th>\n      <td>5</td>\n      <td>Allen, Mr. William Henry</td>\n      <td>male</td>\n      <td>35.0</td>\n      <td>0</td>\n      <td>0</td>\n      <td>0.0</td>\n      <td>3.0</td>\n      <td>S</td>\n      <td>NaN</td>\n      <td>373450</td>\n      <td>8.0500</td>\n    </tr>\n  </tbody>\n</table>\n</div>"
     },
     "execution_count": 63,
     "metadata": {},
     "output_type": "execute_result"
    }
   ],
   "source": [
    "pd.merge(passengers, trip, how='left',on=['PassengerId']).head()"
   ]
  },
  {
   "cell_type": "code",
   "execution_count": 64,
   "metadata": {
    "ExecuteTime": {
     "end_time": "2023-09-01T06:35:36.680667Z",
     "start_time": "2023-09-01T06:35:36.656574Z"
    }
   },
   "outputs": [
    {
     "data": {
      "text/plain": "   PassengerId                                               Name     Sex  \\\n0            2  Cumings, Mrs. John Bradley (Florence Briggs Th...  female   \n1            3                             Heikkinen, Miss. Laina  female   \n2            4       Futrelle, Mrs. Jacques Heath (Lily May Peel)  female   \n3            5                           Allen, Mr. William Henry    male   \n4            6                                   Moran, Mr. James    male   \n\n    Age  SibSp  Parch  Survived  Pclass Embarked Cabin            Ticket  \\\n0  38.0      1      0         1       1        C   C85          PC 17599   \n1  26.0      0      0         1       3        S   NaN  STON/O2. 3101282   \n2  35.0      1      0         1       1        S  C123            113803   \n3  35.0      0      0         0       3        S   NaN            373450   \n4   NaN      0      0         0       3        Q   NaN            330877   \n\n      Fare  \n0  71.2833  \n1   7.9250  \n2  53.1000  \n3   8.0500  \n4   8.4583  ",
      "text/html": "<div>\n<style scoped>\n    .dataframe tbody tr th:only-of-type {\n        vertical-align: middle;\n    }\n\n    .dataframe tbody tr th {\n        vertical-align: top;\n    }\n\n    .dataframe thead th {\n        text-align: right;\n    }\n</style>\n<table border=\"1\" class=\"dataframe\">\n  <thead>\n    <tr style=\"text-align: right;\">\n      <th></th>\n      <th>PassengerId</th>\n      <th>Name</th>\n      <th>Sex</th>\n      <th>Age</th>\n      <th>SibSp</th>\n      <th>Parch</th>\n      <th>Survived</th>\n      <th>Pclass</th>\n      <th>Embarked</th>\n      <th>Cabin</th>\n      <th>Ticket</th>\n      <th>Fare</th>\n    </tr>\n  </thead>\n  <tbody>\n    <tr>\n      <th>0</th>\n      <td>2</td>\n      <td>Cumings, Mrs. John Bradley (Florence Briggs Th...</td>\n      <td>female</td>\n      <td>38.0</td>\n      <td>1</td>\n      <td>0</td>\n      <td>1</td>\n      <td>1</td>\n      <td>C</td>\n      <td>C85</td>\n      <td>PC 17599</td>\n      <td>71.2833</td>\n    </tr>\n    <tr>\n      <th>1</th>\n      <td>3</td>\n      <td>Heikkinen, Miss. Laina</td>\n      <td>female</td>\n      <td>26.0</td>\n      <td>0</td>\n      <td>0</td>\n      <td>1</td>\n      <td>3</td>\n      <td>S</td>\n      <td>NaN</td>\n      <td>STON/O2. 3101282</td>\n      <td>7.9250</td>\n    </tr>\n    <tr>\n      <th>2</th>\n      <td>4</td>\n      <td>Futrelle, Mrs. Jacques Heath (Lily May Peel)</td>\n      <td>female</td>\n      <td>35.0</td>\n      <td>1</td>\n      <td>0</td>\n      <td>1</td>\n      <td>1</td>\n      <td>S</td>\n      <td>C123</td>\n      <td>113803</td>\n      <td>53.1000</td>\n    </tr>\n    <tr>\n      <th>3</th>\n      <td>5</td>\n      <td>Allen, Mr. William Henry</td>\n      <td>male</td>\n      <td>35.0</td>\n      <td>0</td>\n      <td>0</td>\n      <td>0</td>\n      <td>3</td>\n      <td>S</td>\n      <td>NaN</td>\n      <td>373450</td>\n      <td>8.0500</td>\n    </tr>\n    <tr>\n      <th>4</th>\n      <td>6</td>\n      <td>Moran, Mr. James</td>\n      <td>male</td>\n      <td>NaN</td>\n      <td>0</td>\n      <td>0</td>\n      <td>0</td>\n      <td>3</td>\n      <td>Q</td>\n      <td>NaN</td>\n      <td>330877</td>\n      <td>8.4583</td>\n    </tr>\n  </tbody>\n</table>\n</div>"
     },
     "execution_count": 64,
     "metadata": {},
     "output_type": "execute_result"
    }
   ],
   "source": [
    "pd.merge(passengers, trip, how='right',on=['PassengerId']).head()"
   ]
  },
  {
   "cell_type": "markdown",
   "metadata": {},
   "source": [
    "<a id='de5'></a>\n",
    "### 3.E Joining ([to top](#top))\n",
    "Joining is a convenient method for combining the columns of two **potentially differently-indexed** DataFrames into a single DataFrame based on 'index keys'."
   ]
  },
  {
   "cell_type": "code",
   "execution_count": 74,
   "metadata": {
    "ExecuteTime": {
     "end_time": "2023-09-01T07:12:21.029494Z",
     "start_time": "2023-09-01T07:12:21.020749Z"
    }
   },
   "outputs": [],
   "source": [
    "left = pd.DataFrame({'A': ['A0', 'A1', 'A2'],\n",
    "                     'B': ['B0', 'B1', 'B2']},\n",
    "                      index=['K0', 'K1', 'K2']) \n",
    "\n",
    "right = pd.DataFrame({'C': ['C0', 'C2', 'C3'],\n",
    "                      'D': ['D0', 'D2', 'D3']},\n",
    "                      index=['K0', 'K2', 'K3'])"
   ]
  },
  {
   "cell_type": "code",
   "execution_count": 75,
   "metadata": {
    "ExecuteTime": {
     "end_time": "2023-09-01T07:12:21.506304Z",
     "start_time": "2023-09-01T07:12:21.497172Z"
    }
   },
   "outputs": [
    {
     "data": {
      "text/plain": "     A   B    C    D\nK0  A0  B0   C0   D0\nK1  A1  B1  NaN  NaN\nK2  A2  B2   C2   D2",
      "text/html": "<div>\n<style scoped>\n    .dataframe tbody tr th:only-of-type {\n        vertical-align: middle;\n    }\n\n    .dataframe tbody tr th {\n        vertical-align: top;\n    }\n\n    .dataframe thead th {\n        text-align: right;\n    }\n</style>\n<table border=\"1\" class=\"dataframe\">\n  <thead>\n    <tr style=\"text-align: right;\">\n      <th></th>\n      <th>A</th>\n      <th>B</th>\n      <th>C</th>\n      <th>D</th>\n    </tr>\n  </thead>\n  <tbody>\n    <tr>\n      <th>K0</th>\n      <td>A0</td>\n      <td>B0</td>\n      <td>C0</td>\n      <td>D0</td>\n    </tr>\n    <tr>\n      <th>K1</th>\n      <td>A1</td>\n      <td>B1</td>\n      <td>NaN</td>\n      <td>NaN</td>\n    </tr>\n    <tr>\n      <th>K2</th>\n      <td>A2</td>\n      <td>B2</td>\n      <td>C2</td>\n      <td>D2</td>\n    </tr>\n  </tbody>\n</table>\n</div>"
     },
     "execution_count": 75,
     "metadata": {},
     "output_type": "execute_result"
    }
   ],
   "source": [
    "left.join(right)"
   ]
  },
  {
   "cell_type": "code",
   "execution_count": 76,
   "metadata": {
    "ExecuteTime": {
     "end_time": "2023-09-01T07:12:22.279924Z",
     "start_time": "2023-09-01T07:12:22.256459Z"
    }
   },
   "outputs": [
    {
     "data": {
      "text/plain": "      A    B    C    D\nK0   A0   B0   C0   D0\nK1   A1   B1  NaN  NaN\nK2   A2   B2   C2   D2\nK3  NaN  NaN   C3   D3",
      "text/html": "<div>\n<style scoped>\n    .dataframe tbody tr th:only-of-type {\n        vertical-align: middle;\n    }\n\n    .dataframe tbody tr th {\n        vertical-align: top;\n    }\n\n    .dataframe thead th {\n        text-align: right;\n    }\n</style>\n<table border=\"1\" class=\"dataframe\">\n  <thead>\n    <tr style=\"text-align: right;\">\n      <th></th>\n      <th>A</th>\n      <th>B</th>\n      <th>C</th>\n      <th>D</th>\n    </tr>\n  </thead>\n  <tbody>\n    <tr>\n      <th>K0</th>\n      <td>A0</td>\n      <td>B0</td>\n      <td>C0</td>\n      <td>D0</td>\n    </tr>\n    <tr>\n      <th>K1</th>\n      <td>A1</td>\n      <td>B1</td>\n      <td>NaN</td>\n      <td>NaN</td>\n    </tr>\n    <tr>\n      <th>K2</th>\n      <td>A2</td>\n      <td>B2</td>\n      <td>C2</td>\n      <td>D2</td>\n    </tr>\n    <tr>\n      <th>K3</th>\n      <td>NaN</td>\n      <td>NaN</td>\n      <td>C3</td>\n      <td>D3</td>\n    </tr>\n  </tbody>\n</table>\n</div>"
     },
     "execution_count": 76,
     "metadata": {},
     "output_type": "execute_result"
    }
   ],
   "source": [
    "left.join(right, how='outer')"
   ]
  },
  {
   "cell_type": "markdown",
   "metadata": {},
   "source": [
    "<a id='de6'></a>\n",
    "### 3.F Miscellanea ([to top](#top))"
   ]
  },
  {
   "cell_type": "markdown",
   "metadata": {},
   "source": [
    "#### Applying functions to DataFrame values\n",
    "Pandas works with 'apply' method to accept any user-defined function..."
   ]
  },
  {
   "cell_type": "code",
   "execution_count": 77,
   "metadata": {
    "ExecuteTime": {
     "end_time": "2023-09-01T07:12:24.539555Z",
     "start_time": "2023-09-01T07:12:24.529309Z"
    }
   },
   "outputs": [],
   "source": [
    "# Define a function\n",
    "def adulthood(x):\n",
    "    if x<18:\n",
    "        return False\n",
    "    else:\n",
    "        return True"
   ]
  },
  {
   "cell_type": "code",
   "execution_count": 69,
   "metadata": {
    "ExecuteTime": {
     "end_time": "2023-09-01T06:35:40.758459Z",
     "start_time": "2023-09-01T06:35:40.739731Z"
    }
   },
   "outputs": [
    {
     "data": {
      "text/plain": "   PassengerId                                               Name     Sex  \\\n0            1                            Braund, Mr. Owen Harris    male   \n1            2  Cumings, Mrs. John Bradley (Florence Briggs Th...  female   \n2            3                             Heikkinen, Miss. Laina  female   \n3            4       Futrelle, Mrs. Jacques Heath (Lily May Peel)  female   \n4            5                           Allen, Mr. William Henry    male   \n\n    Age  SibSp  Parch  Adult  \n0  22.0      1      0   True  \n1  38.0      1      0   True  \n2  26.0      0      0   True  \n3  35.0      1      0   True  \n4  35.0      0      0   True  ",
      "text/html": "<div>\n<style scoped>\n    .dataframe tbody tr th:only-of-type {\n        vertical-align: middle;\n    }\n\n    .dataframe tbody tr th {\n        vertical-align: top;\n    }\n\n    .dataframe thead th {\n        text-align: right;\n    }\n</style>\n<table border=\"1\" class=\"dataframe\">\n  <thead>\n    <tr style=\"text-align: right;\">\n      <th></th>\n      <th>PassengerId</th>\n      <th>Name</th>\n      <th>Sex</th>\n      <th>Age</th>\n      <th>SibSp</th>\n      <th>Parch</th>\n      <th>Adult</th>\n    </tr>\n  </thead>\n  <tbody>\n    <tr>\n      <th>0</th>\n      <td>1</td>\n      <td>Braund, Mr. Owen Harris</td>\n      <td>male</td>\n      <td>22.0</td>\n      <td>1</td>\n      <td>0</td>\n      <td>True</td>\n    </tr>\n    <tr>\n      <th>1</th>\n      <td>2</td>\n      <td>Cumings, Mrs. John Bradley (Florence Briggs Th...</td>\n      <td>female</td>\n      <td>38.0</td>\n      <td>1</td>\n      <td>0</td>\n      <td>True</td>\n    </tr>\n    <tr>\n      <th>2</th>\n      <td>3</td>\n      <td>Heikkinen, Miss. Laina</td>\n      <td>female</td>\n      <td>26.0</td>\n      <td>0</td>\n      <td>0</td>\n      <td>True</td>\n    </tr>\n    <tr>\n      <th>3</th>\n      <td>4</td>\n      <td>Futrelle, Mrs. Jacques Heath (Lily May Peel)</td>\n      <td>female</td>\n      <td>35.0</td>\n      <td>1</td>\n      <td>0</td>\n      <td>True</td>\n    </tr>\n    <tr>\n      <th>4</th>\n      <td>5</td>\n      <td>Allen, Mr. William Henry</td>\n      <td>male</td>\n      <td>35.0</td>\n      <td>0</td>\n      <td>0</td>\n      <td>True</td>\n    </tr>\n  </tbody>\n</table>\n</div>"
     },
     "execution_count": 69,
     "metadata": {},
     "output_type": "execute_result"
    }
   ],
   "source": [
    "passengers['Adult'] = passengers['Age'].apply(adulthood)\n",
    "passengers.head()"
   ]
  },
  {
   "cell_type": "markdown",
   "metadata": {},
   "source": [
    "... as well as with **built-in ones**"
   ]
  },
  {
   "cell_type": "code",
   "execution_count": 70,
   "metadata": {
    "ExecuteTime": {
     "end_time": "2023-09-01T06:35:41.990356Z",
     "start_time": "2023-09-01T06:35:41.973953Z"
    }
   },
   "outputs": [
    {
     "data": {
      "text/plain": "   PassengerId                                               Name     Sex  \\\n0            1                            Braund, Mr. Owen Harris    male   \n1            2  Cumings, Mrs. John Bradley (Florence Briggs Th...  female   \n2            3                             Heikkinen, Miss. Laina  female   \n3            4       Futrelle, Mrs. Jacques Heath (Lily May Peel)  female   \n4            5                           Allen, Mr. William Henry    male   \n\n    Age  SibSp  Parch  Adult  Name Length  \n0  22.0      1      0   True           23  \n1  38.0      1      0   True           51  \n2  26.0      0      0   True           22  \n3  35.0      1      0   True           44  \n4  35.0      0      0   True           24  ",
      "text/html": "<div>\n<style scoped>\n    .dataframe tbody tr th:only-of-type {\n        vertical-align: middle;\n    }\n\n    .dataframe tbody tr th {\n        vertical-align: top;\n    }\n\n    .dataframe thead th {\n        text-align: right;\n    }\n</style>\n<table border=\"1\" class=\"dataframe\">\n  <thead>\n    <tr style=\"text-align: right;\">\n      <th></th>\n      <th>PassengerId</th>\n      <th>Name</th>\n      <th>Sex</th>\n      <th>Age</th>\n      <th>SibSp</th>\n      <th>Parch</th>\n      <th>Adult</th>\n      <th>Name Length</th>\n    </tr>\n  </thead>\n  <tbody>\n    <tr>\n      <th>0</th>\n      <td>1</td>\n      <td>Braund, Mr. Owen Harris</td>\n      <td>male</td>\n      <td>22.0</td>\n      <td>1</td>\n      <td>0</td>\n      <td>True</td>\n      <td>23</td>\n    </tr>\n    <tr>\n      <th>1</th>\n      <td>2</td>\n      <td>Cumings, Mrs. John Bradley (Florence Briggs Th...</td>\n      <td>female</td>\n      <td>38.0</td>\n      <td>1</td>\n      <td>0</td>\n      <td>True</td>\n      <td>51</td>\n    </tr>\n    <tr>\n      <th>2</th>\n      <td>3</td>\n      <td>Heikkinen, Miss. Laina</td>\n      <td>female</td>\n      <td>26.0</td>\n      <td>0</td>\n      <td>0</td>\n      <td>True</td>\n      <td>22</td>\n    </tr>\n    <tr>\n      <th>3</th>\n      <td>4</td>\n      <td>Futrelle, Mrs. Jacques Heath (Lily May Peel)</td>\n      <td>female</td>\n      <td>35.0</td>\n      <td>1</td>\n      <td>0</td>\n      <td>True</td>\n      <td>44</td>\n    </tr>\n    <tr>\n      <th>4</th>\n      <td>5</td>\n      <td>Allen, Mr. William Henry</td>\n      <td>male</td>\n      <td>35.0</td>\n      <td>0</td>\n      <td>0</td>\n      <td>True</td>\n      <td>24</td>\n    </tr>\n  </tbody>\n</table>\n</div>"
     },
     "execution_count": 70,
     "metadata": {},
     "output_type": "execute_result"
    }
   ],
   "source": [
    "passengers['Name Length']= passengers['Name'].apply(len)\n",
    "passengers.head()"
   ]
  },
  {
   "cell_type": "markdown",
   "metadata": {},
   "source": [
    "#### Standard statistical functions"
   ]
  },
  {
   "cell_type": "code",
   "execution_count": 71,
   "metadata": {
    "ExecuteTime": {
     "end_time": "2023-09-01T06:35:42.611657Z",
     "start_time": "2023-09-01T06:35:42.601334Z"
    }
   },
   "outputs": [
    {
     "data": {
      "text/plain": "80.0"
     },
     "execution_count": 71,
     "metadata": {},
     "output_type": "execute_result"
    }
   ],
   "source": [
    "passengers['Age'].max()"
   ]
  },
  {
   "cell_type": "code",
   "execution_count": 72,
   "metadata": {
    "ExecuteTime": {
     "end_time": "2023-09-01T06:35:42.922412Z",
     "start_time": "2023-09-01T06:35:42.910594Z"
    }
   },
   "outputs": [
    {
     "data": {
      "text/plain": "29.69911764705882"
     },
     "execution_count": 72,
     "metadata": {},
     "output_type": "execute_result"
    }
   ],
   "source": [
    "passengers['Age'].mean()"
   ]
  },
  {
   "cell_type": "code",
   "execution_count": 73,
   "metadata": {
    "ExecuteTime": {
     "end_time": "2023-09-01T06:35:43.236705Z",
     "start_time": "2023-09-01T06:35:43.227262Z"
    }
   },
   "outputs": [
    {
     "data": {
      "text/plain": "14.526497332334044"
     },
     "execution_count": 73,
     "metadata": {},
     "output_type": "execute_result"
    }
   ],
   "source": [
    "passengers['Age'].std()"
   ]
  },
  {
   "cell_type": "code",
   "execution_count": 74,
   "metadata": {
    "ExecuteTime": {
     "end_time": "2023-09-01T06:35:43.602707Z",
     "start_time": "2023-09-01T06:35:43.580182Z"
    }
   },
   "outputs": [
    {
     "data": {
      "text/plain": "0.42"
     },
     "execution_count": 74,
     "metadata": {},
     "output_type": "execute_result"
    }
   ],
   "source": [
    "passengers['Age'].min()"
   ]
  },
  {
   "cell_type": "markdown",
   "metadata": {},
   "source": [
    "#### Get the list of column and row names"
   ]
  },
  {
   "cell_type": "markdown",
   "metadata": {},
   "source": [
    "Getting column names"
   ]
  },
  {
   "cell_type": "code",
   "execution_count": 75,
   "metadata": {
    "ExecuteTime": {
     "end_time": "2023-09-01T06:35:44.911235Z",
     "start_time": "2023-09-01T06:35:44.889289Z"
    }
   },
   "outputs": [
    {
     "data": {
      "text/plain": "Index(['PassengerId', 'Name', 'Sex', 'Age', 'SibSp', 'Parch', 'Adult',\n       'Name Length'],\n      dtype='object')"
     },
     "execution_count": 75,
     "metadata": {},
     "output_type": "execute_result"
    }
   ],
   "source": [
    "passengers.columns"
   ]
  },
  {
   "cell_type": "markdown",
   "metadata": {},
   "source": [
    "#### Deletion by *del* command \n",
    "(N.B.: This affects the dataframe immediately, unlike drop method)"
   ]
  },
  {
   "cell_type": "code",
   "execution_count": 76,
   "metadata": {
    "ExecuteTime": {
     "end_time": "2023-09-01T06:35:45.725129Z",
     "start_time": "2023-09-01T06:35:45.707563Z"
    }
   },
   "outputs": [
    {
     "data": {
      "text/plain": "   PassengerId                                               Name     Sex  \\\n0            1                            Braund, Mr. Owen Harris    male   \n1            2  Cumings, Mrs. John Bradley (Florence Briggs Th...  female   \n2            3                             Heikkinen, Miss. Laina  female   \n3            4       Futrelle, Mrs. Jacques Heath (Lily May Peel)  female   \n4            5                           Allen, Mr. William Henry    male   \n\n    Age  SibSp  Parch  Adult  \n0  22.0      1      0   True  \n1  38.0      1      0   True  \n2  26.0      0      0   True  \n3  35.0      1      0   True  \n4  35.0      0      0   True  ",
      "text/html": "<div>\n<style scoped>\n    .dataframe tbody tr th:only-of-type {\n        vertical-align: middle;\n    }\n\n    .dataframe tbody tr th {\n        vertical-align: top;\n    }\n\n    .dataframe thead th {\n        text-align: right;\n    }\n</style>\n<table border=\"1\" class=\"dataframe\">\n  <thead>\n    <tr style=\"text-align: right;\">\n      <th></th>\n      <th>PassengerId</th>\n      <th>Name</th>\n      <th>Sex</th>\n      <th>Age</th>\n      <th>SibSp</th>\n      <th>Parch</th>\n      <th>Adult</th>\n    </tr>\n  </thead>\n  <tbody>\n    <tr>\n      <th>0</th>\n      <td>1</td>\n      <td>Braund, Mr. Owen Harris</td>\n      <td>male</td>\n      <td>22.0</td>\n      <td>1</td>\n      <td>0</td>\n      <td>True</td>\n    </tr>\n    <tr>\n      <th>1</th>\n      <td>2</td>\n      <td>Cumings, Mrs. John Bradley (Florence Briggs Th...</td>\n      <td>female</td>\n      <td>38.0</td>\n      <td>1</td>\n      <td>0</td>\n      <td>True</td>\n    </tr>\n    <tr>\n      <th>2</th>\n      <td>3</td>\n      <td>Heikkinen, Miss. Laina</td>\n      <td>female</td>\n      <td>26.0</td>\n      <td>0</td>\n      <td>0</td>\n      <td>True</td>\n    </tr>\n    <tr>\n      <th>3</th>\n      <td>4</td>\n      <td>Futrelle, Mrs. Jacques Heath (Lily May Peel)</td>\n      <td>female</td>\n      <td>35.0</td>\n      <td>1</td>\n      <td>0</td>\n      <td>True</td>\n    </tr>\n    <tr>\n      <th>4</th>\n      <td>5</td>\n      <td>Allen, Mr. William Henry</td>\n      <td>male</td>\n      <td>35.0</td>\n      <td>0</td>\n      <td>0</td>\n      <td>True</td>\n    </tr>\n  </tbody>\n</table>\n</div>"
     },
     "execution_count": 76,
     "metadata": {},
     "output_type": "execute_result"
    }
   ],
   "source": [
    "del passengers['Name Length']\n",
    "passengers.head()"
   ]
  },
  {
   "cell_type": "markdown",
   "metadata": {},
   "source": [
    "#### Sorting and Ordering a DataFrame"
   ]
  },
  {
   "cell_type": "code",
   "execution_count": 77,
   "metadata": {
    "ExecuteTime": {
     "end_time": "2023-09-01T06:35:46.351280Z",
     "start_time": "2023-09-01T06:35:46.340301Z"
    }
   },
   "outputs": [
    {
     "data": {
      "text/plain": "     PassengerId                             Name     Sex   Age  SibSp  Parch  \\\n803          804  Thomas, Master. Assad Alexander    male  0.42      0      1   \n755          756        Hamalainen, Master. Viljo    male  0.67      1      1   \n644          645           Baclini, Miss. Eugenie  female  0.75      2      1   \n469          470    Baclini, Miss. Helene Barbara  female  0.75      2      1   \n78            79    Caldwell, Master. Alden Gates    male  0.83      0      2   \n\n     Adult  \n803  False  \n755  False  \n644  False  \n469  False  \n78   False  ",
      "text/html": "<div>\n<style scoped>\n    .dataframe tbody tr th:only-of-type {\n        vertical-align: middle;\n    }\n\n    .dataframe tbody tr th {\n        vertical-align: top;\n    }\n\n    .dataframe thead th {\n        text-align: right;\n    }\n</style>\n<table border=\"1\" class=\"dataframe\">\n  <thead>\n    <tr style=\"text-align: right;\">\n      <th></th>\n      <th>PassengerId</th>\n      <th>Name</th>\n      <th>Sex</th>\n      <th>Age</th>\n      <th>SibSp</th>\n      <th>Parch</th>\n      <th>Adult</th>\n    </tr>\n  </thead>\n  <tbody>\n    <tr>\n      <th>803</th>\n      <td>804</td>\n      <td>Thomas, Master. Assad Alexander</td>\n      <td>male</td>\n      <td>0.42</td>\n      <td>0</td>\n      <td>1</td>\n      <td>False</td>\n    </tr>\n    <tr>\n      <th>755</th>\n      <td>756</td>\n      <td>Hamalainen, Master. Viljo</td>\n      <td>male</td>\n      <td>0.67</td>\n      <td>1</td>\n      <td>1</td>\n      <td>False</td>\n    </tr>\n    <tr>\n      <th>644</th>\n      <td>645</td>\n      <td>Baclini, Miss. Eugenie</td>\n      <td>female</td>\n      <td>0.75</td>\n      <td>2</td>\n      <td>1</td>\n      <td>False</td>\n    </tr>\n    <tr>\n      <th>469</th>\n      <td>470</td>\n      <td>Baclini, Miss. Helene Barbara</td>\n      <td>female</td>\n      <td>0.75</td>\n      <td>2</td>\n      <td>1</td>\n      <td>False</td>\n    </tr>\n    <tr>\n      <th>78</th>\n      <td>79</td>\n      <td>Caldwell, Master. Alden Gates</td>\n      <td>male</td>\n      <td>0.83</td>\n      <td>0</td>\n      <td>2</td>\n      <td>False</td>\n    </tr>\n  </tbody>\n</table>\n</div>"
     },
     "execution_count": 77,
     "metadata": {},
     "output_type": "execute_result"
    }
   ],
   "source": [
    "passengers.sort_values(by='Age').head()"
   ]
  },
  {
   "cell_type": "code",
   "execution_count": 78,
   "metadata": {
    "ExecuteTime": {
     "end_time": "2023-09-01T06:35:46.661637Z",
     "start_time": "2023-09-01T06:35:46.640060Z"
    }
   },
   "outputs": [
    {
     "data": {
      "text/plain": "     PassengerId                                  Name   Sex   Age  SibSp  \\\n630          631  Barkworth, Mr. Algernon Henry Wilson  male  80.0      0   \n851          852                   Svensson, Mr. Johan  male  74.0      0   \n493          494               Artagaveytia, Mr. Ramon  male  71.0      0   \n96            97             Goldschmidt, Mr. George B  male  71.0      0   \n116          117                  Connors, Mr. Patrick  male  70.5      0   \n\n     Parch  Adult  \n630      0   True  \n851      0   True  \n493      0   True  \n96       0   True  \n116      0   True  ",
      "text/html": "<div>\n<style scoped>\n    .dataframe tbody tr th:only-of-type {\n        vertical-align: middle;\n    }\n\n    .dataframe tbody tr th {\n        vertical-align: top;\n    }\n\n    .dataframe thead th {\n        text-align: right;\n    }\n</style>\n<table border=\"1\" class=\"dataframe\">\n  <thead>\n    <tr style=\"text-align: right;\">\n      <th></th>\n      <th>PassengerId</th>\n      <th>Name</th>\n      <th>Sex</th>\n      <th>Age</th>\n      <th>SibSp</th>\n      <th>Parch</th>\n      <th>Adult</th>\n    </tr>\n  </thead>\n  <tbody>\n    <tr>\n      <th>630</th>\n      <td>631</td>\n      <td>Barkworth, Mr. Algernon Henry Wilson</td>\n      <td>male</td>\n      <td>80.0</td>\n      <td>0</td>\n      <td>0</td>\n      <td>True</td>\n    </tr>\n    <tr>\n      <th>851</th>\n      <td>852</td>\n      <td>Svensson, Mr. Johan</td>\n      <td>male</td>\n      <td>74.0</td>\n      <td>0</td>\n      <td>0</td>\n      <td>True</td>\n    </tr>\n    <tr>\n      <th>493</th>\n      <td>494</td>\n      <td>Artagaveytia, Mr. Ramon</td>\n      <td>male</td>\n      <td>71.0</td>\n      <td>0</td>\n      <td>0</td>\n      <td>True</td>\n    </tr>\n    <tr>\n      <th>96</th>\n      <td>97</td>\n      <td>Goldschmidt, Mr. George B</td>\n      <td>male</td>\n      <td>71.0</td>\n      <td>0</td>\n      <td>0</td>\n      <td>True</td>\n    </tr>\n    <tr>\n      <th>116</th>\n      <td>117</td>\n      <td>Connors, Mr. Patrick</td>\n      <td>male</td>\n      <td>70.5</td>\n      <td>0</td>\n      <td>0</td>\n      <td>True</td>\n    </tr>\n  </tbody>\n</table>\n</div>"
     },
     "execution_count": 78,
     "metadata": {},
     "output_type": "execute_result"
    }
   ],
   "source": [
    "passengers.sort_values(by='Age',ascending=False).head()"
   ]
  },
  {
   "cell_type": "markdown",
   "metadata": {},
   "source": [
    "#### Find Null Values or Check for Null Values"
   ]
  },
  {
   "cell_type": "code",
   "execution_count": 79,
   "metadata": {
    "ExecuteTime": {
     "end_time": "2023-09-01T06:35:47.231005Z",
     "start_time": "2023-09-01T06:35:47.220300Z"
    }
   },
   "outputs": [
    {
     "data": {
      "text/plain": "   PassengerId   Name    Sex    Age  Family\n1        False  False  False  False   False\n2        False  False  False  False   False\n3        False  False  False  False   False\n4        False  False  False  False   False\n5        False  False  False   True   False",
      "text/html": "<div>\n<style scoped>\n    .dataframe tbody tr th:only-of-type {\n        vertical-align: middle;\n    }\n\n    .dataframe tbody tr th {\n        vertical-align: top;\n    }\n\n    .dataframe thead th {\n        text-align: right;\n    }\n</style>\n<table border=\"1\" class=\"dataframe\">\n  <thead>\n    <tr style=\"text-align: right;\">\n      <th></th>\n      <th>PassengerId</th>\n      <th>Name</th>\n      <th>Sex</th>\n      <th>Age</th>\n      <th>Family</th>\n    </tr>\n  </thead>\n  <tbody>\n    <tr>\n      <th>1</th>\n      <td>False</td>\n      <td>False</td>\n      <td>False</td>\n      <td>False</td>\n      <td>False</td>\n    </tr>\n    <tr>\n      <th>2</th>\n      <td>False</td>\n      <td>False</td>\n      <td>False</td>\n      <td>False</td>\n      <td>False</td>\n    </tr>\n    <tr>\n      <th>3</th>\n      <td>False</td>\n      <td>False</td>\n      <td>False</td>\n      <td>False</td>\n      <td>False</td>\n    </tr>\n    <tr>\n      <th>4</th>\n      <td>False</td>\n      <td>False</td>\n      <td>False</td>\n      <td>False</td>\n      <td>False</td>\n    </tr>\n    <tr>\n      <th>5</th>\n      <td>False</td>\n      <td>False</td>\n      <td>False</td>\n      <td>True</td>\n      <td>False</td>\n    </tr>\n  </tbody>\n</table>\n</div>"
     },
     "execution_count": 79,
     "metadata": {},
     "output_type": "execute_result"
    }
   ],
   "source": [
    "titanic.isnull().head()"
   ]
  },
  {
   "cell_type": "code",
   "execution_count": 80,
   "metadata": {
    "ExecuteTime": {
     "end_time": "2023-09-01T06:35:47.524644Z",
     "start_time": "2023-09-01T06:35:47.505760Z"
    }
   },
   "outputs": [
    {
     "data": {
      "text/plain": "   PassengerId                                               Name     Sex  \\\n1            2  Cumings, Mrs. John Bradley (Florence Briggs Th...  female   \n2            3                             Heikkinen, Miss. Laina  female   \n3            4       Futrelle, Mrs. Jacques Heath (Lily May Peel)  female   \n4            5                           Allen, Mr. William Henry    male   \n5            6                                   Moran, Mr. James    male   \n\n          Age  Family  \n1        38.0       1  \n2        26.0       0  \n3        35.0       1  \n4        35.0       0  \n5  FAKE VALUE       0  ",
      "text/html": "<div>\n<style scoped>\n    .dataframe tbody tr th:only-of-type {\n        vertical-align: middle;\n    }\n\n    .dataframe tbody tr th {\n        vertical-align: top;\n    }\n\n    .dataframe thead th {\n        text-align: right;\n    }\n</style>\n<table border=\"1\" class=\"dataframe\">\n  <thead>\n    <tr style=\"text-align: right;\">\n      <th></th>\n      <th>PassengerId</th>\n      <th>Name</th>\n      <th>Sex</th>\n      <th>Age</th>\n      <th>Family</th>\n    </tr>\n  </thead>\n  <tbody>\n    <tr>\n      <th>1</th>\n      <td>2</td>\n      <td>Cumings, Mrs. John Bradley (Florence Briggs Th...</td>\n      <td>female</td>\n      <td>38.0</td>\n      <td>1</td>\n    </tr>\n    <tr>\n      <th>2</th>\n      <td>3</td>\n      <td>Heikkinen, Miss. Laina</td>\n      <td>female</td>\n      <td>26.0</td>\n      <td>0</td>\n    </tr>\n    <tr>\n      <th>3</th>\n      <td>4</td>\n      <td>Futrelle, Mrs. Jacques Heath (Lily May Peel)</td>\n      <td>female</td>\n      <td>35.0</td>\n      <td>1</td>\n    </tr>\n    <tr>\n      <th>4</th>\n      <td>5</td>\n      <td>Allen, Mr. William Henry</td>\n      <td>male</td>\n      <td>35.0</td>\n      <td>0</td>\n    </tr>\n    <tr>\n      <th>5</th>\n      <td>6</td>\n      <td>Moran, Mr. James</td>\n      <td>male</td>\n      <td>FAKE VALUE</td>\n      <td>0</td>\n    </tr>\n  </tbody>\n</table>\n</div>"
     },
     "execution_count": 80,
     "metadata": {},
     "output_type": "execute_result"
    }
   ],
   "source": [
    "titanic.fillna('FAKE VALUE').head()"
   ]
  },
  {
   "cell_type": "markdown",
   "metadata": {},
   "source": [
    "#### Pivot Table"
   ]
  },
  {
   "cell_type": "code",
   "execution_count": 81,
   "metadata": {
    "ExecuteTime": {
     "end_time": "2023-09-01T06:35:48.095998Z",
     "start_time": "2023-09-01T06:35:48.054482Z"
    }
   },
   "outputs": [
    {
     "data": {
      "text/plain": "SibSp           0          1          2      3         4      5\nSex                                                            \nfemale  28.631944  30.738889  16.541667  16.50  8.333333  16.00\nmale    32.615443  29.461505  28.230769   8.75  6.416667   8.75",
      "text/html": "<div>\n<style scoped>\n    .dataframe tbody tr th:only-of-type {\n        vertical-align: middle;\n    }\n\n    .dataframe tbody tr th {\n        vertical-align: top;\n    }\n\n    .dataframe thead th {\n        text-align: right;\n    }\n</style>\n<table border=\"1\" class=\"dataframe\">\n  <thead>\n    <tr style=\"text-align: right;\">\n      <th>SibSp</th>\n      <th>0</th>\n      <th>1</th>\n      <th>2</th>\n      <th>3</th>\n      <th>4</th>\n      <th>5</th>\n    </tr>\n    <tr>\n      <th>Sex</th>\n      <th></th>\n      <th></th>\n      <th></th>\n      <th></th>\n      <th></th>\n      <th></th>\n    </tr>\n  </thead>\n  <tbody>\n    <tr>\n      <th>female</th>\n      <td>28.631944</td>\n      <td>30.738889</td>\n      <td>16.541667</td>\n      <td>16.50</td>\n      <td>8.333333</td>\n      <td>16.00</td>\n    </tr>\n    <tr>\n      <th>male</th>\n      <td>32.615443</td>\n      <td>29.461505</td>\n      <td>28.230769</td>\n      <td>8.75</td>\n      <td>6.416667</td>\n      <td>8.75</td>\n    </tr>\n  </tbody>\n</table>\n</div>"
     },
     "execution_count": 81,
     "metadata": {},
     "output_type": "execute_result"
    }
   ],
   "source": [
    "# Index out of 'Age', columns from 'SibSp', actual numerical values from 'Age'\n",
    "passengers.pivot_table(values='Age',index=['Sex'],columns=['SibSp'], aggfunc='mean')"
   ]
  },
  {
   "cell_type": "code",
   "execution_count": 82,
   "metadata": {
    "ExecuteTime": {
     "end_time": "2023-09-01T06:35:48.353640Z",
     "start_time": "2023-09-01T06:35:48.333481Z"
    }
   },
   "outputs": [
    {
     "data": {
      "text/plain": "Sex             female       male\nSibSp Parch                      \n0     0          30.15  32.901316\n      1      27.086957      33.53\n      2      20.705882  21.536667\n      3           24.0     FILLED\n      4           29.0     FILLED\n      5           40.0     FILLED\n1     0      31.806122  32.311321\n      1          29.16  25.258621\n      2           21.2  19.417143\n      3           51.0       16.0\n      4           45.0       52.0\n      5           38.5       39.0\n      6           43.0     FILLED\n2     0           35.5  31.181818\n      1            6.9       12.0\n      2          17.25     FILLED\n      3           24.0     FILLED\n3     0           31.5     FILLED\n      1            5.5        2.0\n      2           14.5       11.0\n4     1         FILLED   6.777778\n      2       8.333333   5.333333\n5     2           16.0       8.75",
      "text/html": "<div>\n<style scoped>\n    .dataframe tbody tr th:only-of-type {\n        vertical-align: middle;\n    }\n\n    .dataframe tbody tr th {\n        vertical-align: top;\n    }\n\n    .dataframe thead th {\n        text-align: right;\n    }\n</style>\n<table border=\"1\" class=\"dataframe\">\n  <thead>\n    <tr style=\"text-align: right;\">\n      <th></th>\n      <th>Sex</th>\n      <th>female</th>\n      <th>male</th>\n    </tr>\n    <tr>\n      <th>SibSp</th>\n      <th>Parch</th>\n      <th></th>\n      <th></th>\n    </tr>\n  </thead>\n  <tbody>\n    <tr>\n      <th rowspan=\"6\" valign=\"top\">0</th>\n      <th>0</th>\n      <td>30.15</td>\n      <td>32.901316</td>\n    </tr>\n    <tr>\n      <th>1</th>\n      <td>27.086957</td>\n      <td>33.53</td>\n    </tr>\n    <tr>\n      <th>2</th>\n      <td>20.705882</td>\n      <td>21.536667</td>\n    </tr>\n    <tr>\n      <th>3</th>\n      <td>24.0</td>\n      <td>FILLED</td>\n    </tr>\n    <tr>\n      <th>4</th>\n      <td>29.0</td>\n      <td>FILLED</td>\n    </tr>\n    <tr>\n      <th>5</th>\n      <td>40.0</td>\n      <td>FILLED</td>\n    </tr>\n    <tr>\n      <th rowspan=\"7\" valign=\"top\">1</th>\n      <th>0</th>\n      <td>31.806122</td>\n      <td>32.311321</td>\n    </tr>\n    <tr>\n      <th>1</th>\n      <td>29.16</td>\n      <td>25.258621</td>\n    </tr>\n    <tr>\n      <th>2</th>\n      <td>21.2</td>\n      <td>19.417143</td>\n    </tr>\n    <tr>\n      <th>3</th>\n      <td>51.0</td>\n      <td>16.0</td>\n    </tr>\n    <tr>\n      <th>4</th>\n      <td>45.0</td>\n      <td>52.0</td>\n    </tr>\n    <tr>\n      <th>5</th>\n      <td>38.5</td>\n      <td>39.0</td>\n    </tr>\n    <tr>\n      <th>6</th>\n      <td>43.0</td>\n      <td>FILLED</td>\n    </tr>\n    <tr>\n      <th rowspan=\"4\" valign=\"top\">2</th>\n      <th>0</th>\n      <td>35.5</td>\n      <td>31.181818</td>\n    </tr>\n    <tr>\n      <th>1</th>\n      <td>6.9</td>\n      <td>12.0</td>\n    </tr>\n    <tr>\n      <th>2</th>\n      <td>17.25</td>\n      <td>FILLED</td>\n    </tr>\n    <tr>\n      <th>3</th>\n      <td>24.0</td>\n      <td>FILLED</td>\n    </tr>\n    <tr>\n      <th rowspan=\"3\" valign=\"top\">3</th>\n      <th>0</th>\n      <td>31.5</td>\n      <td>FILLED</td>\n    </tr>\n    <tr>\n      <th>1</th>\n      <td>5.5</td>\n      <td>2.0</td>\n    </tr>\n    <tr>\n      <th>2</th>\n      <td>14.5</td>\n      <td>11.0</td>\n    </tr>\n    <tr>\n      <th rowspan=\"2\" valign=\"top\">4</th>\n      <th>1</th>\n      <td>FILLED</td>\n      <td>6.777778</td>\n    </tr>\n    <tr>\n      <th>2</th>\n      <td>8.333333</td>\n      <td>5.333333</td>\n    </tr>\n    <tr>\n      <th>5</th>\n      <th>2</th>\n      <td>16.0</td>\n      <td>8.75</td>\n    </tr>\n  </tbody>\n</table>\n</div>"
     },
     "execution_count": 82,
     "metadata": {},
     "output_type": "execute_result"
    }
   ],
   "source": [
    "# Index out of 'SibSp' and 'Parch', columns from 'Sex', actual numerical values from 'Age'\n",
    "passengers.pivot_table(values='Age',index=['SibSp', 'Parch'],columns=['Sex'], fill_value='FILLED', aggfunc='mean')"
   ]
  },
  {
   "cell_type": "markdown",
   "metadata": {
    "collapsed": true
   },
   "source": [
    "#### Check and reset variable types"
   ]
  },
  {
   "cell_type": "code",
   "execution_count": 83,
   "metadata": {
    "ExecuteTime": {
     "end_time": "2023-09-01T06:35:49.368379Z",
     "start_time": "2023-09-01T06:35:49.358216Z"
    }
   },
   "outputs": [
    {
     "data": {
      "text/plain": "PassengerId      int64\nName            object\nSex             object\nAge            float64\nSibSp            int64\nParch            int64\nAdult             bool\ndtype: object"
     },
     "execution_count": 83,
     "metadata": {},
     "output_type": "execute_result"
    }
   ],
   "source": [
    "passengers.dtypes"
   ]
  },
  {
   "cell_type": "code",
   "execution_count": 84,
   "metadata": {
    "ExecuteTime": {
     "end_time": "2023-09-01T06:35:49.981899Z",
     "start_time": "2023-09-01T06:35:49.972114Z"
    }
   },
   "outputs": [],
   "source": [
    "passengers.Age = passengers.Age.astype(float)"
   ]
  },
  {
   "cell_type": "code",
   "execution_count": 85,
   "metadata": {
    "ExecuteTime": {
     "end_time": "2023-09-01T06:35:50.537943Z",
     "start_time": "2023-09-01T06:35:50.527048Z"
    }
   },
   "outputs": [
    {
     "data": {
      "text/plain": "PassengerId      int64\nName            object\nSex             object\nAge            float64\nSibSp            int64\nParch            int64\nAdult             bool\ndtype: object"
     },
     "execution_count": 85,
     "metadata": {},
     "output_type": "execute_result"
    }
   ],
   "source": [
    "passengers.dtypes"
   ]
  },
  {
   "cell_type": "code",
   "execution_count": null,
   "metadata": {},
   "outputs": [],
   "source": []
  },
  {
   "cell_type": "code",
   "execution_count": null,
   "metadata": {},
   "outputs": [],
   "source": []
  }
 ],
 "metadata": {
  "kernelspec": {
   "name": "python3",
   "language": "python",
   "display_name": "Python 3 (ipykernel)"
  },
  "language_info": {
   "codemirror_mode": {
    "name": "ipython",
    "version": 3
   },
   "file_extension": ".py",
   "mimetype": "text/x-python",
   "name": "python",
   "nbconvert_exporter": "python",
   "pygments_lexer": "ipython3",
   "version": "3.6.2"
  }
 },
 "nbformat": 4,
 "nbformat_minor": 1
}
