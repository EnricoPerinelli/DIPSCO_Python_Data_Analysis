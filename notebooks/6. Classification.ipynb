{
 "cells": [
  {
   "cell_type": "markdown",
   "metadata": {},
   "source": [
    "<img align=\"right\" width=\"320\" src=\"http://www.sobigdata.eu/sites/default/files/SoBigData_RI_3.png\">\n",
    "\n",
    "**Author:** [Riccardo Guidotti](http://kdd.isti.cnr.it/people/riccardo-guidotti), Salvatore Citraro  \n",
    "**Python version:**  3.x"
   ]
  },
  {
   "cell_type": "markdown",
   "metadata": {},
   "source": [
    "<img align=\"right\" width=\"250\" src=\"https://nullpointerexception1.files.wordpress.com/2017/11/decision-tree-e1513448957591.jpg?w=1400&h=9999\">\n",
    "\n",
    "# Classification with Python\n",
    "\n",
    "This notebook contains an overview of basic python functionalities for classification using the [sklearn](http://scikit-learn.org/stable/) library.  \n",
    "Note: this notebook is purposely not 100% comprehensive, it only discusses the basic things you need to get started."
   ]
  },
  {
   "cell_type": "markdown",
   "metadata": {},
   "source": [
    "Import of the basic packages to use"
   ]
  },
  {
   "cell_type": "code",
   "execution_count": 1,
   "metadata": {},
   "outputs": [],
   "source": [
    "import warnings\n",
    "warnings.filterwarnings(\"ignore\")"
   ]
  },
  {
   "cell_type": "code",
   "execution_count": 2,
   "metadata": {
    "ExecuteTime": {
     "end_time": "2023-09-01T06:42:34.410648Z",
     "start_time": "2023-09-01T06:42:32.723293Z"
    }
   },
   "outputs": [],
   "source": [
    "%matplotlib inline\n",
    "\n",
    "import numpy as np\n",
    "import pandas as pd\n",
    "import matplotlib.pyplot as plt"
   ]
  },
  {
   "cell_type": "markdown",
   "metadata": {},
   "source": [
    "\n",
    "## Glasgow Norms"
   ]
  },
  {
   "cell_type": "code",
   "execution_count": 3,
   "metadata": {
    "ExecuteTime": {
     "end_time": "2023-09-01T06:42:39.870716Z",
     "start_time": "2023-09-01T06:42:39.854557Z"
    }
   },
   "outputs": [
    {
     "data": {
      "text/html": [
       "<div>\n",
       "<style scoped>\n",
       "    .dataframe tbody tr th:only-of-type {\n",
       "        vertical-align: middle;\n",
       "    }\n",
       "\n",
       "    .dataframe tbody tr th {\n",
       "        vertical-align: top;\n",
       "    }\n",
       "\n",
       "    .dataframe thead th {\n",
       "        text-align: right;\n",
       "    }\n",
       "</style>\n",
       "<table border=\"1\" class=\"dataframe\">\n",
       "  <thead>\n",
       "    <tr style=\"text-align: right;\">\n",
       "      <th></th>\n",
       "      <th>word</th>\n",
       "      <th>length</th>\n",
       "      <th>arousal</th>\n",
       "      <th>valence</th>\n",
       "      <th>dominance</th>\n",
       "      <th>concreteness</th>\n",
       "      <th>imageability</th>\n",
       "      <th>familiarity</th>\n",
       "      <th>aoa</th>\n",
       "      <th>semsize</th>\n",
       "      <th>gender</th>\n",
       "      <th>polysemy</th>\n",
       "      <th>web_corpus_freq</th>\n",
       "    </tr>\n",
       "  </thead>\n",
       "  <tbody>\n",
       "    <tr>\n",
       "      <th>0</th>\n",
       "      <td>abattoir</td>\n",
       "      <td>8</td>\n",
       "      <td>4.200</td>\n",
       "      <td>2.864</td>\n",
       "      <td>4.333</td>\n",
       "      <td>5.455</td>\n",
       "      <td>4.391</td>\n",
       "      <td>2.382</td>\n",
       "      <td>6.760</td>\n",
       "      <td>4.652</td>\n",
       "      <td>5.391</td>\n",
       "      <td>0</td>\n",
       "      <td>160074.0</td>\n",
       "    </tr>\n",
       "    <tr>\n",
       "      <th>1</th>\n",
       "      <td>abbey</td>\n",
       "      <td>5</td>\n",
       "      <td>3.125</td>\n",
       "      <td>5.781</td>\n",
       "      <td>4.667</td>\n",
       "      <td>5.906</td>\n",
       "      <td>5.344</td>\n",
       "      <td>3.324</td>\n",
       "      <td>5.177</td>\n",
       "      <td>5.121</td>\n",
       "      <td>3.303</td>\n",
       "      <td>0</td>\n",
       "      <td>4224864.0</td>\n",
       "    </tr>\n",
       "    <tr>\n",
       "      <th>2</th>\n",
       "      <td>abbreviate</td>\n",
       "      <td>10</td>\n",
       "      <td>3.273</td>\n",
       "      <td>5.250</td>\n",
       "      <td>5.235</td>\n",
       "      <td>3.286</td>\n",
       "      <td>3.177</td>\n",
       "      <td>5.121</td>\n",
       "      <td>5.543</td>\n",
       "      <td>2.667</td>\n",
       "      <td>3.971</td>\n",
       "      <td>0</td>\n",
       "      <td>140105.0</td>\n",
       "    </tr>\n",
       "    <tr>\n",
       "      <th>3</th>\n",
       "      <td>abdicate</td>\n",
       "      <td>8</td>\n",
       "      <td>4.194</td>\n",
       "      <td>3.767</td>\n",
       "      <td>4.419</td>\n",
       "      <td>3.367</td>\n",
       "      <td>2.516</td>\n",
       "      <td>3.971</td>\n",
       "      <td>6.233</td>\n",
       "      <td>4.679</td>\n",
       "      <td>5.167</td>\n",
       "      <td>0</td>\n",
       "      <td>124123.0</td>\n",
       "    </tr>\n",
       "    <tr>\n",
       "      <th>4</th>\n",
       "      <td>abdication</td>\n",
       "      <td>10</td>\n",
       "      <td>3.846</td>\n",
       "      <td>3.880</td>\n",
       "      <td>4.800</td>\n",
       "      <td>3.292</td>\n",
       "      <td>2.571</td>\n",
       "      <td>3.097</td>\n",
       "      <td>6.407</td>\n",
       "      <td>5.083</td>\n",
       "      <td>4.571</td>\n",
       "      <td>0</td>\n",
       "      <td>128143.0</td>\n",
       "    </tr>\n",
       "  </tbody>\n",
       "</table>\n",
       "</div>"
      ],
      "text/plain": [
       "         word  length  arousal  valence  dominance  concreteness  \\\n",
       "0    abattoir       8    4.200    2.864      4.333         5.455   \n",
       "1       abbey       5    3.125    5.781      4.667         5.906   \n",
       "2  abbreviate      10    3.273    5.250      5.235         3.286   \n",
       "3    abdicate       8    4.194    3.767      4.419         3.367   \n",
       "4  abdication      10    3.846    3.880      4.800         3.292   \n",
       "\n",
       "   imageability  familiarity    aoa  semsize  gender  polysemy  \\\n",
       "0         4.391        2.382  6.760    4.652   5.391         0   \n",
       "1         5.344        3.324  5.177    5.121   3.303         0   \n",
       "2         3.177        5.121  5.543    2.667   3.971         0   \n",
       "3         2.516        3.971  6.233    4.679   5.167         0   \n",
       "4         2.571        3.097  6.407    5.083   4.571         0   \n",
       "\n",
       "   web_corpus_freq  \n",
       "0         160074.0  \n",
       "1        4224864.0  \n",
       "2         140105.0  \n",
       "3         124123.0  \n",
       "4         128143.0  "
      ]
     },
     "execution_count": 3,
     "metadata": {},
     "output_type": "execute_result"
    }
   ],
   "source": [
    "df = pd.read_csv(\"../data/words_glasgow.csv\", skipinitialspace=True, sep=',')\n",
    "df.head()"
   ]
  },
  {
   "cell_type": "code",
   "execution_count": 4,
   "metadata": {
    "ExecuteTime": {
     "end_time": "2023-09-01T06:42:42.074108Z",
     "start_time": "2023-09-01T06:42:42.068642Z"
    }
   },
   "outputs": [
    {
     "name": "stdout",
     "output_type": "stream",
     "text": [
      "<class 'pandas.core.frame.DataFrame'>\n",
      "RangeIndex: 4682 entries, 0 to 4681\n",
      "Data columns (total 13 columns):\n",
      " #   Column           Non-Null Count  Dtype  \n",
      "---  ------           --------------  -----  \n",
      " 0   word             4682 non-null   object \n",
      " 1   length           4682 non-null   int64  \n",
      " 2   arousal          4682 non-null   float64\n",
      " 3   valence          4682 non-null   float64\n",
      " 4   dominance        4682 non-null   float64\n",
      " 5   concreteness     4682 non-null   float64\n",
      " 6   imageability     4682 non-null   float64\n",
      " 7   familiarity      4682 non-null   float64\n",
      " 8   aoa              4682 non-null   float64\n",
      " 9   semsize          4682 non-null   float64\n",
      " 10  gender           4682 non-null   float64\n",
      " 11  polysemy         4682 non-null   int64  \n",
      " 12  web_corpus_freq  4668 non-null   float64\n",
      "dtypes: float64(10), int64(2), object(1)\n",
      "memory usage: 475.6+ KB\n"
     ]
    }
   ],
   "source": [
    "df.info()"
   ]
  },
  {
   "cell_type": "markdown",
   "metadata": {},
   "source": [
    "Since classification is a ***supervised*** task we are interested in knowing the distribution of the target class."
   ]
  },
  {
   "cell_type": "code",
   "execution_count": 5,
   "metadata": {
    "ExecuteTime": {
     "end_time": "2023-09-01T06:42:43.212585Z",
     "start_time": "2023-09-01T06:42:43.204388Z"
    }
   },
   "outputs": [
    {
     "data": {
      "text/plain": [
       "0    4303\n",
       "1     379\n",
       "Name: polysemy, dtype: int64"
      ]
     },
     "execution_count": 5,
     "metadata": {},
     "output_type": "execute_result"
    }
   ],
   "source": [
    "df['polysemy'].value_counts()"
   ]
  },
  {
   "cell_type": "markdown",
   "metadata": {},
   "source": [
    "Sometimes is useful to map a set of string into a set of integers."
   ]
  },
  {
   "cell_type": "markdown",
   "metadata": {},
   "source": [
    "## Classification Objective\n",
    "\n",
    "Given a collection of records called ***training set*** where each record contains a set of ***attributes*** and one of the attributes is the ***target class***. The objective of classification is to find a model for the class attribute as a function of the values of other attributes.\n",
    "\n",
    "The ***goal*** is to assign to a class previously unseen records as accurately as possible.\n",
    "A ***test set*** is used to determine the accuracy of the model. \n",
    "\n",
    "Usually, the given data set is divided into training and test sets, with training set used to build\n",
    "the model and test set used to validate it.\n",
    "\n",
    "<img align=\"center\" width=\"650\" src=\"http://images.slideplayer.com/15/4732696/slides/slide_4.jpg\"> "
   ]
  },
  {
   "cell_type": "markdown",
   "metadata": {},
   "source": [
    "## Classification Techniques\n",
    "* ***Decision Tree***\n",
    "* ***Instance-based methods***\n",
    "* Rule-based methods\n",
    "* Neural Networks\n",
    "* Naïve Bayes and Bayesian Belief Networks\n",
    "* Support Vector Machines (SVM)"
   ]
  },
  {
   "cell_type": "markdown",
   "metadata": {},
   "source": [
    "## Evaluating the Performance of a Classifier\n",
    "\n",
    "In order to evaluate the quality of classification there exist several measures: all of them built upon the concept of **Confusion Matrix**.\n",
    "\n",
    "**Confusion Matrix**\n",
    "In the field of machine learning a confusion matrix is a specific table layout that allows visualization of the performance of an algorithm. Each row of the matrix represents the instances in a predicted class while each column represents the instances in an actual class (or vice versa).\n",
    "\n",
    "<img align=\"right\" width=\"300\" src=\"https://rasbt.github.io/mlxtend/user_guide/evaluate/confusion_matrix_files/confusion_matrix_1.png\">\n",
    "\n",
    "Given a Target class:\n",
    "* ***True Positive (TP)*** represent those instances correctly predicted to be True\n",
    "* ***False Positive (FP)*** represent those instances incorrectly predicted to be True\n",
    "* ***True Negative (TN)*** represent those instances correctly predicted to be False\n",
    "* ***False Negative (FT)*** represent those instances incorrectly predicted to be False \n",
    "\n",
    "Upon such classes are built several indicators.\n",
    "Among the otehrs, two scores characterize the outcome of a predictive model: ***precision*** and ***recall***\n",
    "\n",
    "* **Precision**: how many of the instances I predict to be True are really True? $\\mathit{precision} = \\frac{TP}{TP+FP}$\n",
    "* **Recall**: how many True instances I was able to correctly predict? $\\mathit{recall} = \\frac{TP}{TP+FN}$\n",
    "\n",
    "To summarize the overall performance of a model we can also use the ***accuracy*** and the ***f1-score***: \n",
    "\n",
    "* The **accuracy** $= \\frac{TP+TN}{TP+TN+FP+FN}$ captures the number of instances correctly classified above all\n",
    "* $1-\\mathit{accuracy}$ gives the errore rate, i.e., the error committed by the classifier.\n",
    "* The **f1-score** $= \\frac{2TP}{2TP+FP+FN}$ describes the armonic mean of precision and recall.\n",
    "\n",
    "All these indicators are provided by [sklearn](http://scikit-learn.org/stable/modules/classes.html#module-sklearn.metrics)."
   ]
  },
  {
   "cell_type": "code",
   "execution_count": 6,
   "metadata": {
    "ExecuteTime": {
     "end_time": "2023-09-01T06:43:55.758763Z",
     "start_time": "2023-09-01T06:43:55.703121Z"
    }
   },
   "outputs": [],
   "source": [
    "from sklearn.metrics import confusion_matrix\n",
    "from sklearn.metrics import accuracy_score, f1_score, classification_report\n",
    "from sklearn.metrics import roc_curve, auc, roc_auc_score"
   ]
  },
  {
   "cell_type": "markdown",
   "metadata": {},
   "source": [
    "# Decision Tree"
   ]
  },
  {
   "cell_type": "markdown",
   "metadata": {
    "collapsed": true
   },
   "source": [
    "## Example of Decision Tree and Application\n",
    "<img align=\"left\" width=\"490\" src=\"http://images.slideplayer.com/15/4732696/slides/slide_10.jpg\">\n",
    "<img align=\"right\" width=\"490\" src=\"http://images.slideplayer.com/15/4732696/slides/slide_13.jpg\">"
   ]
  },
  {
   "cell_type": "markdown",
   "metadata": {},
   "source": [
    "## The Algorithm in a Nutshell\n",
    "\n",
    "**Objective:** Build the most accurate decision tree.\n",
    "\n",
    "Given a set $D$ of training records.  \n",
    "* If $D_x$ contains records that belong the same class $y$, then this is a leaf node labeled as $y$;\n",
    "* If $D_x$ contains records that belong to more than one class, use the **best attribute** to split the data into smaller subsets $D_1, \\dots D_k$.\n",
    "* Recursively apply the procedure to each subset.\n",
    "\n",
    "How to determine the best split: nodes with ***homogeneous*** class distribution are preferred.  \n",
    "Thus, a measure of node ***impurity*** is required. Example of impurity nodes:\n",
    "* Gini Index\n",
    "* Entropy\n",
    "* Misclassification error\n",
    "\n",
    "How to determine when to stop splitting: there are various ***stopping criteria***:\n",
    "* Stop expanding a node when all the records belong to the same class\n",
    "* Stop expanding a node when all the records have similar attribute values\n",
    "* Early termination (to be discussed later) \n",
    "\n",
    "> Tan, P. N. (2006). Introduction to data mining. Pearson Education India.\n",
    "\n",
    "Running [example](http://matlaspisa.isti.cnr.it:5055/Decision%20Tree)\n",
    "Wikipedia [link](https://en.wikipedia.org/wiki/Decision_tree)"
   ]
  },
  {
   "cell_type": "markdown",
   "metadata": {},
   "source": [
    "## Classification Problems\n",
    "\n",
    "* Missing values: sophisticatd techniques are required to handle missing values\n",
    "* The sklearn library does not allow missing values.\n",
    "* Overfitting: the model is too accurate on the training data but its performance are poor on the test data.\n",
    "* For a Decision Trees it means that the tree is more complex and deep than necessary."
   ]
  },
  {
   "cell_type": "markdown",
   "metadata": {},
   "source": [
    "## Decision Tree in Python  ([sklearn](http://scikit-learn.org/stable/modules/tree.html))"
   ]
  },
  {
   "cell_type": "code",
   "execution_count": 7,
   "metadata": {
    "ExecuteTime": {
     "end_time": "2023-09-01T06:44:02.211216Z",
     "start_time": "2023-09-01T06:44:02.058906Z"
    }
   },
   "outputs": [],
   "source": [
    "from sklearn.tree import DecisionTreeClassifier\n",
    "from sklearn.model_selection import train_test_split"
   ]
  },
  {
   "cell_type": "markdown",
   "metadata": {},
   "source": [
    "Split the dataset into train and test"
   ]
  },
  {
   "cell_type": "code",
   "execution_count": 8,
   "metadata": {
    "ExecuteTime": {
     "end_time": "2023-09-01T06:44:05.545315Z",
     "start_time": "2023-09-01T06:44:05.537980Z"
    }
   },
   "outputs": [],
   "source": [
    "target = 'polysemy'\n",
    "\n",
    "to_drop = [target, 'word', 'web_corpus_freq']\n",
    "attributes = [col for col in df.columns if col not in to_drop]\n",
    "\n",
    "X = df[attributes].values\n",
    "y = df[target]\n",
    "\n",
    "X_train, X_test, y_train, y_test = train_test_split(X, y, test_size=0.3, random_state=100, stratify=y)"
   ]
  },
  {
   "cell_type": "markdown",
   "metadata": {},
   "source": [
    "Build the decision tree"
   ]
  },
  {
   "cell_type": "markdown",
   "metadata": {},
   "source": [
    "Parameters:\n",
    "* **criterion** (default 'gini'): The function to measure the quality of a split. Available: gini, entropy.\n",
    "* **max_depth** (default None): The maximum depth of the tree. If None, then nodes are expanded until all leaves are pure or until all leaves contain less than min_samples_split samples.\n",
    "* **min_samples_split** (default 2): The minimum number of samples required to split an internal node.\n",
    "* **min_samples_leaf** (default 1): The minimum number of samples required to be at a leaf node."
   ]
  },
  {
   "cell_type": "code",
   "execution_count": 9,
   "metadata": {
    "ExecuteTime": {
     "end_time": "2023-09-01T06:44:10.626627Z",
     "start_time": "2023-09-01T06:44:10.619376Z"
    }
   },
   "outputs": [],
   "source": [
    "clf = DecisionTreeClassifier(criterion='gini', max_depth=None, min_samples_split=2, min_samples_leaf=1)\n",
    "clf = clf.fit(X_train, y_train)"
   ]
  },
  {
   "cell_type": "markdown",
   "metadata": {},
   "source": [
    "Output:\n",
    "* **feature\\_importances_**: The feature importances. The higher, the more important the feature.\n",
    "* **tree_**: The underlying Tree object."
   ]
  },
  {
   "cell_type": "markdown",
   "metadata": {},
   "source": [
    "Features Importance"
   ]
  },
  {
   "cell_type": "code",
   "execution_count": 10,
   "metadata": {
    "ExecuteTime": {
     "end_time": "2023-09-01T06:44:13.291850Z",
     "start_time": "2023-09-01T06:44:13.271096Z"
    }
   },
   "outputs": [
    {
     "name": "stdout",
     "output_type": "stream",
     "text": [
      "length 0.07147981196477703\n",
      "arousal 0.1130154478518323\n",
      "valence 0.07575911204335266\n",
      "dominance 0.1156165093287352\n",
      "concreteness 0.11805463182271714\n",
      "imageability 0.07623838035066727\n",
      "familiarity 0.07043963584569395\n",
      "aoa 0.13124878798854073\n",
      "semsize 0.12986505065408183\n",
      "gender 0.09828263214960206\n"
     ]
    }
   ],
   "source": [
    "for col, imp in zip(attributes, clf.feature_importances_):\n",
    "    print(col, imp)"
   ]
  },
  {
   "cell_type": "markdown",
   "metadata": {},
   "source": [
    "Visualize the decision tree"
   ]
  },
  {
   "cell_type": "code",
   "execution_count": 11,
   "metadata": {
    "ExecuteTime": {
     "end_time": "2023-09-01T06:44:54.518195Z",
     "start_time": "2023-09-01T06:44:54.504947Z"
    }
   },
   "outputs": [],
   "source": [
    "import pydotplus\n",
    "from sklearn import tree\n",
    "from IPython.display import Image"
   ]
  },
  {
   "cell_type": "code",
   "execution_count": 12,
   "metadata": {
    "ExecuteTime": {
     "end_time": "2023-09-01T06:45:00.873702Z",
     "start_time": "2023-09-01T06:45:00.721629Z"
    }
   },
   "outputs": [
    {
     "data": {
      "image/png": "[encoded data removed]",
      "text/plain": [
       "<IPython.core.display.Image object>"
      ]
     },
     "execution_count": 12,
     "metadata": {},
     "output_type": "execute_result"
    }
   ],
   "source": [
    "dot_data = tree.export_graphviz(clf, out_file=None,  feature_names=attributes,\n",
    "                                #class_names=clf.classes_,  \n",
    "                                filled=True, rounded=True,  special_characters=True, max_depth=2)  \n",
    "graph = pydotplus.graph_from_dot_data(dot_data)  \n",
    "Image(graph.create_png())"
   ]
  },
  {
   "cell_type": "markdown",
   "metadata": {},
   "source": [
    "Apply the decision tree on the training set"
   ]
  },
  {
   "cell_type": "code",
   "execution_count": 13,
   "metadata": {
    "ExecuteTime": {
     "end_time": "2023-09-01T06:45:10.278905Z",
     "start_time": "2023-09-01T06:45:10.270721Z"
    }
   },
   "outputs": [],
   "source": [
    "y_pred = clf.predict(X_train)"
   ]
  },
  {
   "cell_type": "markdown",
   "metadata": {},
   "source": [
    "Apply the decision tree on the test set and evaluate the performance"
   ]
  },
  {
   "cell_type": "code",
   "execution_count": 14,
   "metadata": {
    "ExecuteTime": {
     "end_time": "2023-09-01T06:45:22.017008Z",
     "start_time": "2023-09-01T06:45:22.011491Z"
    }
   },
   "outputs": [],
   "source": [
    "y_pred = clf.predict(X_test)"
   ]
  },
  {
   "cell_type": "code",
   "execution_count": 15,
   "metadata": {
    "ExecuteTime": {
     "end_time": "2023-09-01T06:45:22.447350Z",
     "start_time": "2023-09-01T06:45:22.435023Z"
    }
   },
   "outputs": [
    {
     "name": "stdout",
     "output_type": "stream",
     "text": [
      "Accuracy 0.8661921708185053\n",
      "F1-score [0.92713178 0.1826087 ]\n",
      "              precision    recall  f1-score   support\n",
      "\n",
      "           0       0.93      0.93      0.93      1291\n",
      "           1       0.18      0.18      0.18       114\n",
      "\n",
      "    accuracy                           0.87      1405\n",
      "   macro avg       0.55      0.56      0.55      1405\n",
      "weighted avg       0.87      0.87      0.87      1405\n",
      "\n"
     ]
    }
   ],
   "source": [
    "print('Accuracy %s' % accuracy_score(y_test, y_pred))\n",
    "print('F1-score %s' % f1_score(y_test, y_pred, average=None))\n",
    "print(classification_report(y_test, y_pred))"
   ]
  },
  {
   "cell_type": "code",
   "execution_count": 16,
   "metadata": {},
   "outputs": [
    {
     "data": {
      "text/plain": [
       "array([[1196,   95],\n",
       "       [  93,   21]], dtype=int64)"
      ]
     },
     "execution_count": 16,
     "metadata": {},
     "output_type": "execute_result"
    }
   ],
   "source": [
    "cf = confusion_matrix(y_test, y_pred)\n",
    "cf"
   ]
  },
  {
   "cell_type": "code",
   "execution_count": 17,
   "metadata": {},
   "outputs": [
    {
     "data": {
      "text/plain": [
       "(1196, 95, 93, 21)"
      ]
     },
     "execution_count": 17,
     "metadata": {},
     "output_type": "execute_result"
    }
   ],
   "source": [
    "cf[0][0], cf[0][1], cf[1][0], cf[1][1] # TN, FP, FN, TP"
   ]
  },
  {
   "cell_type": "code",
   "execution_count": 18,
   "metadata": {},
   "outputs": [
    {
     "data": {
      "text/plain": [
       "array([[  21,   93],\n",
       "       [  95, 1196]], dtype=int64)"
      ]
     },
     "execution_count": 18,
     "metadata": {},
     "output_type": "execute_result"
    }
   ],
   "source": [
    "cf = confusion_matrix(y_test, y_pred, labels=[1,0])\n",
    "cf"
   ]
  },
  {
   "cell_type": "code",
   "execution_count": 19,
   "metadata": {},
   "outputs": [
    {
     "data": {
      "text/plain": [
       "(21, 93, 95, 1196)"
      ]
     },
     "execution_count": 19,
     "metadata": {},
     "output_type": "execute_result"
    }
   ],
   "source": [
    "cf[0][0], cf[0][1], cf[1][0], cf[1][1] # TP, FN, FP, TN"
   ]
  },
  {
   "cell_type": "code",
   "execution_count": 20,
   "metadata": {},
   "outputs": [],
   "source": [
    "y_score = clf.predict_proba(X_test)"
   ]
  },
  {
   "cell_type": "code",
   "execution_count": 21,
   "metadata": {
    "ExecuteTime": {
     "end_time": "2023-09-01T06:45:35.579787Z",
     "start_time": "2023-09-01T06:45:35.568136Z"
    }
   },
   "outputs": [
    {
     "name": "stdout",
     "output_type": "stream",
     "text": [
      "0.5553120795792735\n"
     ]
    }
   ],
   "source": [
    "fpr, tpr, tresh = roc_curve(y_test, y_score[:,1])\n",
    "roc_auc = auc(fpr, tpr)\n",
    "print(roc_auc)\n",
    "\n",
    "roc_auc = roc_auc_score(y_test, y_pred)"
   ]
  },
  {
   "cell_type": "code",
   "execution_count": 22,
   "metadata": {},
   "outputs": [
    {
     "data": {
      "text/plain": [
       "array([2., 1., 0.])"
      ]
     },
     "execution_count": 22,
     "metadata": {},
     "output_type": "execute_result"
    }
   ],
   "source": [
    "tresh"
   ]
  },
  {
   "cell_type": "code",
   "execution_count": 23,
   "metadata": {},
   "outputs": [
    {
     "data": {
      "image/png": "[encoded data removed]",
      "text/plain": [
       "<Figure size 576x360 with 1 Axes>"
      ]
     },
     "metadata": {
      "needs_background": "light"
     },
     "output_type": "display_data"
    }
   ],
   "source": [
    "plt.figure(figsize=(8, 5))\n",
    "plt.plot(fpr, tpr, label='ROC curve (area = %0.2f)' % (roc_auc))\n",
    "    \n",
    "plt.plot([0, 1], [0, 1], 'k--')\n",
    "plt.xlim([0.0, 1.0])\n",
    "plt.ylim([0.0, 1.05])\n",
    "plt.xlabel('False Positive Rate', fontsize=20)\n",
    "plt.ylabel('True Positive Rate', fontsize=20) \n",
    "plt.tick_params(axis='both', which='major', labelsize=22)\n",
    "plt.legend(loc=\"lower right\", fontsize=14, frameon=False)\n",
    "plt.show()"
   ]
  },
  {
   "cell_type": "markdown",
   "metadata": {},
   "source": [
    "### Cross Validation  \n",
    "More options at [link](http://scikit-learn.org/stable/modules/cross_validation.html#)"
   ]
  },
  {
   "cell_type": "code",
   "execution_count": 24,
   "metadata": {
    "ExecuteTime": {
     "end_time": "2023-09-01T06:45:46.422381Z",
     "start_time": "2023-09-01T06:45:46.418253Z"
    }
   },
   "outputs": [],
   "source": [
    "from sklearn.model_selection import cross_val_score"
   ]
  },
  {
   "cell_type": "code",
   "execution_count": 25,
   "metadata": {
    "ExecuteTime": {
     "end_time": "2023-09-01T06:45:47.108351Z",
     "start_time": "2023-09-01T06:45:47.074687Z"
    }
   },
   "outputs": [
    {
     "name": "stdout",
     "output_type": "stream",
     "text": [
      "Accuracy: 0.8605 (+/- 0.03)\n",
      "F1-score: 0.5508 (+/- 0.09)\n"
     ]
    }
   ],
   "source": [
    "scores = cross_val_score(clf, X, y, cv=10)\n",
    "print('Accuracy: %0.4f (+/- %0.2f)' % (scores.mean(), scores.std() * 2))\n",
    "\n",
    "scores = cross_val_score(clf, X, y, cv=10, scoring='f1_macro')\n",
    "print('F1-score: %0.4f (+/- %0.2f)' % (scores.mean(), scores.std() * 2))"
   ]
  },
  {
   "cell_type": "markdown",
   "metadata": {},
   "source": [
    "### Tuning the hyper-parameters\n",
    "\n",
    "More options at [link](http://scikit-learn.org/stable/modules/grid_search.html#grid-search)"
   ]
  },
  {
   "cell_type": "code",
   "execution_count": 26,
   "metadata": {
    "ExecuteTime": {
     "end_time": "2023-09-01T06:45:49.281441Z",
     "start_time": "2023-09-01T06:45:49.277501Z"
    }
   },
   "outputs": [],
   "source": [
    "from sklearn.model_selection import GridSearchCV\n",
    "from sklearn.model_selection import RandomizedSearchCV"
   ]
  },
  {
   "cell_type": "code",
   "execution_count": 27,
   "metadata": {
    "ExecuteTime": {
     "end_time": "2023-09-01T06:45:50.161428Z",
     "start_time": "2023-09-01T06:45:50.158214Z"
    }
   },
   "outputs": [],
   "source": [
    "def report(results, n_top=3):\n",
    "    for i in range(1, n_top + 1):\n",
    "        candidates = np.flatnonzero(results['rank_test_score'] == i)\n",
    "        for candidate in candidates:\n",
    "            print(\"Model with rank: {0}\".format(i))\n",
    "            print(\"Mean validation score: {0:.3f} (std: {1:.3f})\".format(\n",
    "                  results['mean_test_score'][candidate],\n",
    "                  results['std_test_score'][candidate]))\n",
    "            print(\"Parameters: {0}\".format(results['params'][candidate]))\n",
    "            print(\"\")"
   ]
  },
  {
   "cell_type": "code",
   "execution_count": 28,
   "metadata": {
    "ExecuteTime": {
     "end_time": "2023-09-01T06:45:51.971934Z",
     "start_time": "2023-09-01T06:45:51.893528Z"
    }
   },
   "outputs": [],
   "source": [
    "param_list = {'min_samples_split': [2, 5, 10, 20],\n",
    "              'min_samples_leaf': [1, 5, 10, 20],\n",
    "             }\n",
    "\n",
    "grid_search = GridSearchCV(clf, param_grid=param_list)\n",
    "grid_search.fit(X, y)\n",
    "clf = grid_search.best_estimator_"
   ]
  },
  {
   "cell_type": "code",
   "execution_count": 29,
   "metadata": {
    "ExecuteTime": {
     "end_time": "2023-09-01T06:45:52.288534Z",
     "start_time": "2023-09-01T06:45:52.283694Z"
    }
   },
   "outputs": [
    {
     "name": "stdout",
     "output_type": "stream",
     "text": [
      "Model with rank: 1\n",
      "Mean validation score: 0.908 (std: 0.006)\n",
      "Parameters: {'min_samples_leaf': 20, 'min_samples_split': 2}\n",
      "\n",
      "Model with rank: 1\n",
      "Mean validation score: 0.908 (std: 0.006)\n",
      "Parameters: {'min_samples_leaf': 20, 'min_samples_split': 5}\n",
      "\n",
      "Model with rank: 1\n",
      "Mean validation score: 0.908 (std: 0.006)\n",
      "Parameters: {'min_samples_leaf': 20, 'min_samples_split': 10}\n",
      "\n",
      "Model with rank: 1\n",
      "Mean validation score: 0.908 (std: 0.006)\n",
      "Parameters: {'min_samples_leaf': 20, 'min_samples_split': 20}\n",
      "\n"
     ]
    }
   ],
   "source": [
    "report(grid_search.cv_results_, n_top=3)"
   ]
  },
  {
   "cell_type": "code",
   "execution_count": 30,
   "metadata": {
    "ExecuteTime": {
     "end_time": "2023-09-01T06:45:53.977840Z",
     "start_time": "2023-09-01T06:45:53.488599Z"
    }
   },
   "outputs": [],
   "source": [
    "param_list = {'max_depth': [None] + list(np.arange(2, 20)),\n",
    "              'min_samples_split': [2, 5, 10, 20, 30, 50, 100],\n",
    "              'min_samples_leaf': [1, 5, 10, 20, 30, 50, 100],\n",
    "             }\n",
    "\n",
    "random_search = RandomizedSearchCV(clf, param_distributions=param_list, n_iter=100)\n",
    "random_search.fit(X, y)\n",
    "clf = random_search.best_estimator_"
   ]
  },
  {
   "cell_type": "code",
   "execution_count": 31,
   "metadata": {
    "ExecuteTime": {
     "end_time": "2023-09-01T06:45:54.234536Z",
     "start_time": "2023-09-01T06:45:54.230277Z"
    }
   },
   "outputs": [
    {
     "name": "stdout",
     "output_type": "stream",
     "text": [
      "Model with rank: 1\n",
      "Mean validation score: 0.919 (std: 0.000)\n",
      "Parameters: {'min_samples_split': 20, 'min_samples_leaf': 20, 'max_depth': 3}\n",
      "\n",
      "Model with rank: 1\n",
      "Mean validation score: 0.919 (std: 0.000)\n",
      "Parameters: {'min_samples_split': 50, 'min_samples_leaf': 20, 'max_depth': 2}\n",
      "\n",
      "Model with rank: 1\n",
      "Mean validation score: 0.919 (std: 0.000)\n",
      "Parameters: {'min_samples_split': 30, 'min_samples_leaf': 100, 'max_depth': 9}\n",
      "\n",
      "Model with rank: 1\n",
      "Mean validation score: 0.919 (std: 0.000)\n",
      "Parameters: {'min_samples_split': 20, 'min_samples_leaf': 20, 'max_depth': 5}\n",
      "\n",
      "Model with rank: 1\n",
      "Mean validation score: 0.919 (std: 0.000)\n",
      "Parameters: {'min_samples_split': 30, 'min_samples_leaf': 100, 'max_depth': 5}\n",
      "\n",
      "Model with rank: 1\n",
      "Mean validation score: 0.919 (std: 0.000)\n",
      "Parameters: {'min_samples_split': 20, 'min_samples_leaf': 100, 'max_depth': 17}\n",
      "\n",
      "Model with rank: 1\n",
      "Mean validation score: 0.919 (std: 0.000)\n",
      "Parameters: {'min_samples_split': 2, 'min_samples_leaf': 100, 'max_depth': 3}\n",
      "\n",
      "Model with rank: 1\n",
      "Mean validation score: 0.919 (std: 0.000)\n",
      "Parameters: {'min_samples_split': 100, 'min_samples_leaf': 30, 'max_depth': 4}\n",
      "\n",
      "Model with rank: 1\n",
      "Mean validation score: 0.919 (std: 0.000)\n",
      "Parameters: {'min_samples_split': 20, 'min_samples_leaf': 100, 'max_depth': 15}\n",
      "\n",
      "Model with rank: 1\n",
      "Mean validation score: 0.919 (std: 0.000)\n",
      "Parameters: {'min_samples_split': 30, 'min_samples_leaf': 20, 'max_depth': 3}\n",
      "\n",
      "Model with rank: 1\n",
      "Mean validation score: 0.919 (std: 0.000)\n",
      "Parameters: {'min_samples_split': 50, 'min_samples_leaf': 30, 'max_depth': 4}\n",
      "\n",
      "Model with rank: 1\n",
      "Mean validation score: 0.919 (std: 0.000)\n",
      "Parameters: {'min_samples_split': 100, 'min_samples_leaf': 100, 'max_depth': 14}\n",
      "\n",
      "Model with rank: 1\n",
      "Mean validation score: 0.919 (std: 0.000)\n",
      "Parameters: {'min_samples_split': 50, 'min_samples_leaf': 50, 'max_depth': 7}\n",
      "\n",
      "Model with rank: 1\n",
      "Mean validation score: 0.919 (std: 0.000)\n",
      "Parameters: {'min_samples_split': 20, 'min_samples_leaf': 50, 'max_depth': 4}\n",
      "\n",
      "Model with rank: 1\n",
      "Mean validation score: 0.919 (std: 0.000)\n",
      "Parameters: {'min_samples_split': 10, 'min_samples_leaf': 100, 'max_depth': 11}\n",
      "\n",
      "Model with rank: 1\n",
      "Mean validation score: 0.919 (std: 0.000)\n",
      "Parameters: {'min_samples_split': 5, 'min_samples_leaf': 30, 'max_depth': 3}\n",
      "\n",
      "Model with rank: 1\n",
      "Mean validation score: 0.919 (std: 0.000)\n",
      "Parameters: {'min_samples_split': 20, 'min_samples_leaf': 30, 'max_depth': 4}\n",
      "\n",
      "Model with rank: 1\n",
      "Mean validation score: 0.919 (std: 0.000)\n",
      "Parameters: {'min_samples_split': 5, 'min_samples_leaf': 50, 'max_depth': 5}\n",
      "\n",
      "Model with rank: 1\n",
      "Mean validation score: 0.919 (std: 0.000)\n",
      "Parameters: {'min_samples_split': 30, 'min_samples_leaf': 100, 'max_depth': 16}\n",
      "\n",
      "Model with rank: 1\n",
      "Mean validation score: 0.919 (std: 0.000)\n",
      "Parameters: {'min_samples_split': 2, 'min_samples_leaf': 50, 'max_depth': 2}\n",
      "\n",
      "Model with rank: 1\n",
      "Mean validation score: 0.919 (std: 0.000)\n",
      "Parameters: {'min_samples_split': 10, 'min_samples_leaf': 5, 'max_depth': 3}\n",
      "\n",
      "Model with rank: 1\n",
      "Mean validation score: 0.919 (std: 0.000)\n",
      "Parameters: {'min_samples_split': 30, 'min_samples_leaf': 30, 'max_depth': 3}\n",
      "\n",
      "Model with rank: 1\n",
      "Mean validation score: 0.919 (std: 0.000)\n",
      "Parameters: {'min_samples_split': 10, 'min_samples_leaf': 100, 'max_depth': 10}\n",
      "\n",
      "Model with rank: 1\n",
      "Mean validation score: 0.919 (std: 0.000)\n",
      "Parameters: {'min_samples_split': 20, 'min_samples_leaf': 100, 'max_depth': 13}\n",
      "\n",
      "Model with rank: 1\n",
      "Mean validation score: 0.919 (std: 0.000)\n",
      "Parameters: {'min_samples_split': 5, 'min_samples_leaf': 100, 'max_depth': 3}\n",
      "\n",
      "Model with rank: 1\n",
      "Mean validation score: 0.919 (std: 0.000)\n",
      "Parameters: {'min_samples_split': 30, 'min_samples_leaf': 50, 'max_depth': 2}\n",
      "\n"
     ]
    }
   ],
   "source": [
    "report(random_search.cv_results_, n_top=3)"
   ]
  },
  {
   "cell_type": "code",
   "execution_count": null,
   "metadata": {
    "ExecuteTime": {
     "end_time": "2023-09-01T06:46:09.724092Z",
     "start_time": "2023-09-01T06:46:09.714305Z"
    }
   },
   "outputs": [],
   "source": []
  },
  {
   "cell_type": "markdown",
   "metadata": {},
   "source": [
    "## Any other Sklearn classifier can be used in the same way"
   ]
  },
  {
   "cell_type": "markdown",
   "metadata": {},
   "source": [
    "Let see two examples: Random Forest and K-Nearest Neighbor"
   ]
  },
  {
   "cell_type": "markdown",
   "metadata": {},
   "source": [
    "# Random Forest\n",
    "\n",
    "Sklearn [link](http://scikit-learn.org/stable/modules/generated/sklearn.ensemble.RandomForestClassifier.html) for more details."
   ]
  },
  {
   "cell_type": "code",
   "execution_count": 32,
   "metadata": {
    "ExecuteTime": {
     "end_time": "2023-09-01T06:46:11.019466Z",
     "start_time": "2023-09-01T06:46:10.642628Z"
    }
   },
   "outputs": [],
   "source": [
    "from sklearn.ensemble import RandomForestClassifier"
   ]
  },
  {
   "cell_type": "code",
   "execution_count": 33,
   "metadata": {
    "ExecuteTime": {
     "end_time": "2023-09-01T06:46:12.889330Z",
     "start_time": "2023-09-01T06:46:11.071336Z"
    }
   },
   "outputs": [
    {
     "name": "stdout",
     "output_type": "stream",
     "text": [
      "Accuracy: 0.9176 (+/- 0.00)\n",
      "F1-score: 0.4787 (+/- 0.00)\n"
     ]
    }
   ],
   "source": [
    "clf = RandomForestClassifier(n_estimators=100, criterion='gini', max_depth=None, \n",
    "                             min_samples_split=2, min_samples_leaf=1, class_weight=None)\n",
    "\n",
    "scores = cross_val_score(clf, X, y, cv=10)\n",
    "print('Accuracy: %0.4f (+/- %0.2f)' % (scores.mean(), scores.std() * 2))\n",
    "\n",
    "scores = cross_val_score(clf, X, y, cv=10, scoring='f1_macro')\n",
    "print('F1-score: %0.4f (+/- %0.2f)' % (scores.mean(), scores.std() * 2))"
   ]
  },
  {
   "cell_type": "code",
   "execution_count": null,
   "metadata": {
    "ExecuteTime": {
     "end_time": "2023-09-01T06:46:12.889554Z",
     "start_time": "2023-09-01T06:46:12.888064Z"
    }
   },
   "outputs": [],
   "source": []
  },
  {
   "cell_type": "markdown",
   "metadata": {},
   "source": [
    "# K-Nearest Neighbors\n",
    "\n",
    "Sklearn [link](http://scikit-learn.org/stable/modules/generated/sklearn.neighbors.KNeighborsClassifier.html) for more details."
   ]
  },
  {
   "cell_type": "code",
   "execution_count": 34,
   "metadata": {
    "ExecuteTime": {
     "end_time": "2023-09-01T06:46:15.292470Z",
     "start_time": "2023-09-01T06:46:15.287976Z"
    }
   },
   "outputs": [],
   "source": [
    "from sklearn.neighbors import KNeighborsClassifier"
   ]
  },
  {
   "cell_type": "code",
   "execution_count": 35,
   "metadata": {
    "ExecuteTime": {
     "end_time": "2023-09-01T06:46:15.726116Z",
     "start_time": "2023-09-01T06:46:15.676127Z"
    }
   },
   "outputs": [
    {
     "name": "stdout",
     "output_type": "stream",
     "text": [
      "Accuracy: 0.9043 (+/- 0.02)\n",
      "F1-score: 0.5262 (+/- 0.07)\n"
     ]
    }
   ],
   "source": [
    "clf = KNeighborsClassifier(n_neighbors=5)\n",
    "\n",
    "scores = cross_val_score(clf, X, y, cv=10)\n",
    "print('Accuracy: %0.4f (+/- %0.2f)' % (scores.mean(), scores.std() * 2))\n",
    "\n",
    "scores = cross_val_score(clf, X, y, cv=10, scoring='f1_macro')\n",
    "print('F1-score: %0.4f (+/- %0.2f)' % (scores.mean(), scores.std() * 2))"
   ]
  },
  {
   "cell_type": "code",
   "execution_count": null,
   "metadata": {
    "ExecuteTime": {
     "end_time": "2023-09-01T06:46:16.253341Z",
     "start_time": "2023-09-01T06:46:16.235639Z"
    }
   },
   "outputs": [],
   "source": []
  },
  {
   "cell_type": "code",
   "execution_count": null,
   "metadata": {},
   "outputs": [],
   "source": []
  }
 ],
 "metadata": {
  "kernelspec": {
   "display_name": "Python 3 (ipykernel)",
   "language": "python",
   "name": "python3"
  },
  "language_info": {
   "codemirror_mode": {
    "name": "ipython",
    "version": 3
   },
   "file_extension": ".py",
   "mimetype": "text/x-python",
   "name": "python",
   "nbconvert_exporter": "python",
   "pygments_lexer": "ipython3",
   "version": "3.7.4"
  }
 },
 "nbformat": 4,
 "nbformat_minor": 2
}
