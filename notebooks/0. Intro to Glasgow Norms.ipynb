{
 "cells": [
  {
   "cell_type": "markdown",
   "id": "4f110225",
   "metadata": {},
   "source": [
    "<img align=\"right\" width=\"320\" src=\"http://www.sobigdata.eu/sites/default/files/SoBigData_RI_3.png\">\n",
    "\n",
    "**Author:** [ìSalvatore Citraro\n",
    "**Python version:**  3.x"
   ]
  },
  {
   "cell_type": "markdown",
   "id": "a1fbb01e",
   "metadata": {},
   "source": [
    "# Introduction\n",
    "\n",
    "Reference Paper: https://link.springer.com/article/10.3758/s13428-018-1099-3\n",
    "\n",
    "The <b>Glasgow Norms</b> are a set of normative ratings for 5553 English words on nine psycholinguistic dimensions: arousal, valence, dominance, concreteness, imageability, familiarity, age of acquisition, semantic size, and gender association.\n",
    "\n",
    "<b>Arousal</b> is a measure of excitement versus calmness.\n",
    "\n",
    "<b>Valence</b> is a measure of value or worth.\n",
    "\n",
    "<b>Dominance</b> is a measure of the degree of control you feel.\n",
    "\n",
    "Arousal, Valence and Dominance are typically used to characterize a word’s emotional impact.\n",
    "\n",
    "<b> Concreteness </b>  is a measure of how concrete or abstract something is.\n",
    "\n",
    "<b>Imageability</b> is a measure of how easy or difficult something is to imagine.\n",
    "\n",
    "<b>Familiarity</b> is a measure of how familiar something is.\n",
    "\n",
    "A word’s <b>age of acquisition (aoa)</b> is the age at which that word was initially learned. In this datasets, it referes to an estimation about when an individual thinks he/she first acquired or learned each word.\n",
    "The scale is defined as a series of consecutive 2-year periods from the ages of 0 to 12 years, and a final period encompassing 13 years and older.\n",
    "\n",
    "<b>Size</b> is a measure of something’s dimensions, magnitude, or extent.\n",
    "\n",
    "A word’s <b>gender</b> is how strongly its meaning is associated with male or female behaviour.\n",
    "\n",
    "Three other variables are presented here, namely the <b>length</b> of each word and a binary attribute defining if a word is polysemous or not. <b> Web Corpus Freq </b> is the frequency of a word in the Google Newspapers Corpus. <b> Polysemy </b> is the ability of a word to convey multiple meanings. The ambiguous words identified in the Glasgow Norms were presented alone - e.g., <i>star</i> - or in disambiguated form - e.g., <i>star (celebrity)</i> or <i>star (sky)</i> - to different participants. "
   ]
  },
  {
   "cell_type": "code",
   "execution_count": 1,
   "id": "fc27657b",
   "metadata": {
    "ExecuteTime": {
     "end_time": "2023-09-01T06:52:33.564612Z",
     "start_time": "2023-09-01T06:52:31.802899Z"
    }
   },
   "outputs": [],
   "source": [
    "%matplotlib inline\n",
    "import matplotlib.pyplot as plt\n",
    "\n",
    "import pandas as pd"
   ]
  },
  {
   "cell_type": "code",
   "execution_count": 2,
   "id": "57c9c462",
   "metadata": {
    "ExecuteTime": {
     "end_time": "2023-09-01T06:52:34.571717Z",
     "start_time": "2023-09-01T06:52:34.549269Z"
    }
   },
   "outputs": [],
   "source": [
    "df = pd.read_csv('../data/words_glasgow.csv')"
   ]
  },
  {
   "cell_type": "code",
   "execution_count": 3,
   "id": "0f972988",
   "metadata": {
    "ExecuteTime": {
     "end_time": "2023-09-01T06:52:35.329312Z",
     "start_time": "2023-09-01T06:52:35.309800Z"
    }
   },
   "outputs": [
    {
     "data": {
      "text/html": [
       "<div>\n",
       "<style scoped>\n",
       "    .dataframe tbody tr th:only-of-type {\n",
       "        vertical-align: middle;\n",
       "    }\n",
       "\n",
       "    .dataframe tbody tr th {\n",
       "        vertical-align: top;\n",
       "    }\n",
       "\n",
       "    .dataframe thead th {\n",
       "        text-align: right;\n",
       "    }\n",
       "</style>\n",
       "<table border=\"1\" class=\"dataframe\">\n",
       "  <thead>\n",
       "    <tr style=\"text-align: right;\">\n",
       "      <th></th>\n",
       "      <th>word</th>\n",
       "      <th>length</th>\n",
       "      <th>arousal</th>\n",
       "      <th>valence</th>\n",
       "      <th>dominance</th>\n",
       "      <th>concreteness</th>\n",
       "      <th>imageability</th>\n",
       "      <th>familiarity</th>\n",
       "      <th>aoa</th>\n",
       "      <th>semsize</th>\n",
       "      <th>gender</th>\n",
       "      <th>polysemy</th>\n",
       "      <th>web_corpus_freq</th>\n",
       "    </tr>\n",
       "  </thead>\n",
       "  <tbody>\n",
       "    <tr>\n",
       "      <th>0</th>\n",
       "      <td>abattoir</td>\n",
       "      <td>8</td>\n",
       "      <td>4.200</td>\n",
       "      <td>2.864</td>\n",
       "      <td>4.333</td>\n",
       "      <td>5.455</td>\n",
       "      <td>4.391</td>\n",
       "      <td>2.382</td>\n",
       "      <td>6.760</td>\n",
       "      <td>4.652</td>\n",
       "      <td>5.391</td>\n",
       "      <td>0</td>\n",
       "      <td>160074.0</td>\n",
       "    </tr>\n",
       "    <tr>\n",
       "      <th>1</th>\n",
       "      <td>abbey</td>\n",
       "      <td>5</td>\n",
       "      <td>3.125</td>\n",
       "      <td>5.781</td>\n",
       "      <td>4.667</td>\n",
       "      <td>5.906</td>\n",
       "      <td>5.344</td>\n",
       "      <td>3.324</td>\n",
       "      <td>5.177</td>\n",
       "      <td>5.121</td>\n",
       "      <td>3.303</td>\n",
       "      <td>0</td>\n",
       "      <td>4224864.0</td>\n",
       "    </tr>\n",
       "    <tr>\n",
       "      <th>2</th>\n",
       "      <td>abbreviate</td>\n",
       "      <td>10</td>\n",
       "      <td>3.273</td>\n",
       "      <td>5.250</td>\n",
       "      <td>5.235</td>\n",
       "      <td>3.286</td>\n",
       "      <td>3.177</td>\n",
       "      <td>5.121</td>\n",
       "      <td>5.543</td>\n",
       "      <td>2.667</td>\n",
       "      <td>3.971</td>\n",
       "      <td>0</td>\n",
       "      <td>140105.0</td>\n",
       "    </tr>\n",
       "    <tr>\n",
       "      <th>3</th>\n",
       "      <td>abdicate</td>\n",
       "      <td>8</td>\n",
       "      <td>4.194</td>\n",
       "      <td>3.767</td>\n",
       "      <td>4.419</td>\n",
       "      <td>3.367</td>\n",
       "      <td>2.516</td>\n",
       "      <td>3.971</td>\n",
       "      <td>6.233</td>\n",
       "      <td>4.679</td>\n",
       "      <td>5.167</td>\n",
       "      <td>0</td>\n",
       "      <td>124123.0</td>\n",
       "    </tr>\n",
       "    <tr>\n",
       "      <th>4</th>\n",
       "      <td>abdication</td>\n",
       "      <td>10</td>\n",
       "      <td>3.846</td>\n",
       "      <td>3.880</td>\n",
       "      <td>4.800</td>\n",
       "      <td>3.292</td>\n",
       "      <td>2.571</td>\n",
       "      <td>3.097</td>\n",
       "      <td>6.407</td>\n",
       "      <td>5.083</td>\n",
       "      <td>4.571</td>\n",
       "      <td>0</td>\n",
       "      <td>128143.0</td>\n",
       "    </tr>\n",
       "  </tbody>\n",
       "</table>\n",
       "</div>"
      ],
      "text/plain": [
       "         word  length  arousal  valence  dominance  concreteness  \\\n",
       "0    abattoir       8    4.200    2.864      4.333         5.455   \n",
       "1       abbey       5    3.125    5.781      4.667         5.906   \n",
       "2  abbreviate      10    3.273    5.250      5.235         3.286   \n",
       "3    abdicate       8    4.194    3.767      4.419         3.367   \n",
       "4  abdication      10    3.846    3.880      4.800         3.292   \n",
       "\n",
       "   imageability  familiarity    aoa  semsize  gender  polysemy  \\\n",
       "0         4.391        2.382  6.760    4.652   5.391         0   \n",
       "1         5.344        3.324  5.177    5.121   3.303         0   \n",
       "2         3.177        5.121  5.543    2.667   3.971         0   \n",
       "3         2.516        3.971  6.233    4.679   5.167         0   \n",
       "4         2.571        3.097  6.407    5.083   4.571         0   \n",
       "\n",
       "   web_corpus_freq  \n",
       "0         160074.0  \n",
       "1        4224864.0  \n",
       "2         140105.0  \n",
       "3         124123.0  \n",
       "4         128143.0  "
      ]
     },
     "execution_count": 3,
     "metadata": {},
     "output_type": "execute_result"
    }
   ],
   "source": [
    "df.head()"
   ]
  },
  {
   "cell_type": "markdown",
   "id": "f5ebc465",
   "metadata": {},
   "source": [
    "# Bonus\n",
    "\n",
    "Each psycholinguistic value from the previous dataset refers to the response given by an individual when a word is introduced without specifying a particular meanining, e.g., <i>star</i> and not <i>star (sky)</i>.\n",
    "\n",
    "As a bonus dataset, I also provide the values when a polysemous word is presented with an unambiguous meaning. If you want, you can check the following bonus file for your data understanding task, and others."
   ]
  },
  {
   "cell_type": "code",
   "execution_count": 4,
   "id": "8bd152c6",
   "metadata": {
    "ExecuteTime": {
     "end_time": "2023-09-01T06:52:50.973090Z",
     "start_time": "2023-09-01T06:52:50.962199Z"
    }
   },
   "outputs": [],
   "source": [
    "df_poly = pd.read_csv('../data/words_polysemy_values.csv')"
   ]
  },
  {
   "cell_type": "code",
   "execution_count": 5,
   "id": "60fac2c2",
   "metadata": {
    "ExecuteTime": {
     "end_time": "2023-09-01T06:52:51.651542Z",
     "start_time": "2023-09-01T06:52:51.625203Z"
    }
   },
   "outputs": [
    {
     "data": {
      "text/html": [
       "<div>\n",
       "<style scoped>\n",
       "    .dataframe tbody tr th:only-of-type {\n",
       "        vertical-align: middle;\n",
       "    }\n",
       "\n",
       "    .dataframe tbody tr th {\n",
       "        vertical-align: top;\n",
       "    }\n",
       "\n",
       "    .dataframe thead th {\n",
       "        text-align: right;\n",
       "    }\n",
       "</style>\n",
       "<table border=\"1\" class=\"dataframe\">\n",
       "  <thead>\n",
       "    <tr style=\"text-align: right;\">\n",
       "      <th></th>\n",
       "      <th>word</th>\n",
       "      <th>length</th>\n",
       "      <th>arousal</th>\n",
       "      <th>valence</th>\n",
       "      <th>dominance</th>\n",
       "      <th>concreteness</th>\n",
       "      <th>imageability</th>\n",
       "      <th>familiarity</th>\n",
       "      <th>aoa</th>\n",
       "      <th>semsize</th>\n",
       "      <th>gender</th>\n",
       "    </tr>\n",
       "  </thead>\n",
       "  <tbody>\n",
       "    <tr>\n",
       "      <th>0</th>\n",
       "      <td>address (postal)</td>\n",
       "      <td>7</td>\n",
       "      <td>3.546</td>\n",
       "      <td>5.000</td>\n",
       "      <td>5.114</td>\n",
       "      <td>5.581</td>\n",
       "      <td>4.559</td>\n",
       "      <td>6.094</td>\n",
       "      <td>3.059</td>\n",
       "      <td>3.471</td>\n",
       "      <td>4.000</td>\n",
       "    </tr>\n",
       "    <tr>\n",
       "      <th>1</th>\n",
       "      <td>address (speak to)</td>\n",
       "      <td>7</td>\n",
       "      <td>4.000</td>\n",
       "      <td>5.559</td>\n",
       "      <td>6.182</td>\n",
       "      <td>4.114</td>\n",
       "      <td>4.200</td>\n",
       "      <td>4.857</td>\n",
       "      <td>4.800</td>\n",
       "      <td>4.171</td>\n",
       "      <td>3.824</td>\n",
       "    </tr>\n",
       "    <tr>\n",
       "      <th>2</th>\n",
       "      <td>aim (objective)</td>\n",
       "      <td>3</td>\n",
       "      <td>4.909</td>\n",
       "      <td>6.382</td>\n",
       "      <td>5.909</td>\n",
       "      <td>3.294</td>\n",
       "      <td>2.909</td>\n",
       "      <td>6.030</td>\n",
       "      <td>4.529</td>\n",
       "      <td>4.500</td>\n",
       "      <td>4.235</td>\n",
       "    </tr>\n",
       "    <tr>\n",
       "      <th>3</th>\n",
       "      <td>aim (target)</td>\n",
       "      <td>3</td>\n",
       "      <td>5.200</td>\n",
       "      <td>5.600</td>\n",
       "      <td>6.714</td>\n",
       "      <td>4.677</td>\n",
       "      <td>5.286</td>\n",
       "      <td>5.970</td>\n",
       "      <td>3.618</td>\n",
       "      <td>3.686</td>\n",
       "      <td>4.743</td>\n",
       "    </tr>\n",
       "    <tr>\n",
       "      <th>4</th>\n",
       "      <td>Apple (brand)</td>\n",
       "      <td>5</td>\n",
       "      <td>4.849</td>\n",
       "      <td>5.971</td>\n",
       "      <td>4.600</td>\n",
       "      <td>5.943</td>\n",
       "      <td>6.677</td>\n",
       "      <td>6.529</td>\n",
       "      <td>6.000</td>\n",
       "      <td>5.353</td>\n",
       "      <td>4.647</td>\n",
       "    </tr>\n",
       "  </tbody>\n",
       "</table>\n",
       "</div>"
      ],
      "text/plain": [
       "                 word  length  arousal  valence  dominance  concreteness  \\\n",
       "0    address (postal)       7    3.546    5.000      5.114         5.581   \n",
       "1  address (speak to)       7    4.000    5.559      6.182         4.114   \n",
       "2     aim (objective)       3    4.909    6.382      5.909         3.294   \n",
       "3        aim (target)       3    5.200    5.600      6.714         4.677   \n",
       "4       Apple (brand)       5    4.849    5.971      4.600         5.943   \n",
       "\n",
       "   imageability  familiarity    aoa  semsize  gender  \n",
       "0         4.559        6.094  3.059    3.471   4.000  \n",
       "1         4.200        4.857  4.800    4.171   3.824  \n",
       "2         2.909        6.030  4.529    4.500   4.235  \n",
       "3         5.286        5.970  3.618    3.686   4.743  \n",
       "4         6.677        6.529  6.000    5.353   4.647  "
      ]
     },
     "execution_count": 5,
     "metadata": {},
     "output_type": "execute_result"
    }
   ],
   "source": [
    "df_poly.head()"
   ]
  },
  {
   "cell_type": "code",
   "execution_count": 6,
   "id": "d5fb76b4",
   "metadata": {
    "ExecuteTime": {
     "end_time": "2023-09-01T06:52:55.373896Z",
     "start_time": "2023-09-01T06:52:55.343437Z"
    }
   },
   "outputs": [
    {
     "data": {
      "text/html": [
       "<div>\n",
       "<style scoped>\n",
       "    .dataframe tbody tr th:only-of-type {\n",
       "        vertical-align: middle;\n",
       "    }\n",
       "\n",
       "    .dataframe tbody tr th {\n",
       "        vertical-align: top;\n",
       "    }\n",
       "\n",
       "    .dataframe thead th {\n",
       "        text-align: right;\n",
       "    }\n",
       "</style>\n",
       "<table border=\"1\" class=\"dataframe\">\n",
       "  <thead>\n",
       "    <tr style=\"text-align: right;\">\n",
       "      <th></th>\n",
       "      <th>word</th>\n",
       "      <th>length</th>\n",
       "      <th>arousal</th>\n",
       "      <th>valence</th>\n",
       "      <th>dominance</th>\n",
       "      <th>concreteness</th>\n",
       "      <th>imageability</th>\n",
       "      <th>familiarity</th>\n",
       "      <th>aoa</th>\n",
       "      <th>semsize</th>\n",
       "      <th>gender</th>\n",
       "      <th>polysemy</th>\n",
       "      <th>web_corpus_freq</th>\n",
       "    </tr>\n",
       "  </thead>\n",
       "  <tbody>\n",
       "    <tr>\n",
       "      <th>3938</th>\n",
       "      <td>star</td>\n",
       "      <td>4</td>\n",
       "      <td>6.6</td>\n",
       "      <td>7.343</td>\n",
       "      <td>5.382</td>\n",
       "      <td>6.229</td>\n",
       "      <td>6.588</td>\n",
       "      <td>6.324</td>\n",
       "      <td>1.971</td>\n",
       "      <td>4.6</td>\n",
       "      <td>2.588</td>\n",
       "      <td>1</td>\n",
       "      <td>122498186.0</td>\n",
       "    </tr>\n",
       "  </tbody>\n",
       "</table>\n",
       "</div>"
      ],
      "text/plain": [
       "      word  length  arousal  valence  dominance  concreteness  imageability  \\\n",
       "3938  star       4      6.6    7.343      5.382         6.229         6.588   \n",
       "\n",
       "      familiarity    aoa  semsize  gender  polysemy  web_corpus_freq  \n",
       "3938        6.324  1.971      4.6   2.588         1      122498186.0  "
      ]
     },
     "execution_count": 6,
     "metadata": {},
     "output_type": "execute_result"
    }
   ],
   "source": [
    "df[df['word'] == 'star']"
   ]
  },
  {
   "cell_type": "code",
   "execution_count": 7,
   "id": "95576764",
   "metadata": {
    "ExecuteTime": {
     "end_time": "2023-09-01T06:52:56.482519Z",
     "start_time": "2023-09-01T06:52:56.479263Z"
    }
   },
   "outputs": [
    {
     "data": {
      "text/html": [
       "<div>\n",
       "<style scoped>\n",
       "    .dataframe tbody tr th:only-of-type {\n",
       "        vertical-align: middle;\n",
       "    }\n",
       "\n",
       "    .dataframe tbody tr th {\n",
       "        vertical-align: top;\n",
       "    }\n",
       "\n",
       "    .dataframe thead th {\n",
       "        text-align: right;\n",
       "    }\n",
       "</style>\n",
       "<table border=\"1\" class=\"dataframe\">\n",
       "  <thead>\n",
       "    <tr style=\"text-align: right;\">\n",
       "      <th></th>\n",
       "      <th>word</th>\n",
       "      <th>length</th>\n",
       "      <th>arousal</th>\n",
       "      <th>valence</th>\n",
       "      <th>dominance</th>\n",
       "      <th>concreteness</th>\n",
       "      <th>imageability</th>\n",
       "      <th>familiarity</th>\n",
       "      <th>aoa</th>\n",
       "      <th>semsize</th>\n",
       "      <th>gender</th>\n",
       "    </tr>\n",
       "  </thead>\n",
       "  <tbody>\n",
       "    <tr>\n",
       "      <th>731</th>\n",
       "      <td>star (celebrity)</td>\n",
       "      <td>4</td>\n",
       "      <td>5.697</td>\n",
       "      <td>5.576</td>\n",
       "      <td>5.485</td>\n",
       "      <td>4.667</td>\n",
       "      <td>5.667</td>\n",
       "      <td>5.844</td>\n",
       "      <td>3.758</td>\n",
       "      <td>4.849</td>\n",
       "      <td>2.606</td>\n",
       "    </tr>\n",
       "  </tbody>\n",
       "</table>\n",
       "</div>"
      ],
      "text/plain": [
       "                 word  length  arousal  valence  dominance  concreteness  \\\n",
       "731  star (celebrity)       4    5.697    5.576      5.485         4.667   \n",
       "\n",
       "     imageability  familiarity    aoa  semsize  gender  \n",
       "731         5.667        5.844  3.758    4.849   2.606  "
      ]
     },
     "execution_count": 7,
     "metadata": {},
     "output_type": "execute_result"
    }
   ],
   "source": [
    "df_poly[df_poly['word'] == 'star (celebrity)']"
   ]
  },
  {
   "cell_type": "code",
   "execution_count": 8,
   "id": "d919e417",
   "metadata": {
    "ExecuteTime": {
     "end_time": "2023-09-01T06:52:57.187012Z",
     "start_time": "2023-09-01T06:52:57.183446Z"
    }
   },
   "outputs": [
    {
     "data": {
      "text/html": [
       "<div>\n",
       "<style scoped>\n",
       "    .dataframe tbody tr th:only-of-type {\n",
       "        vertical-align: middle;\n",
       "    }\n",
       "\n",
       "    .dataframe tbody tr th {\n",
       "        vertical-align: top;\n",
       "    }\n",
       "\n",
       "    .dataframe thead th {\n",
       "        text-align: right;\n",
       "    }\n",
       "</style>\n",
       "<table border=\"1\" class=\"dataframe\">\n",
       "  <thead>\n",
       "    <tr style=\"text-align: right;\">\n",
       "      <th></th>\n",
       "      <th>word</th>\n",
       "      <th>length</th>\n",
       "      <th>arousal</th>\n",
       "      <th>valence</th>\n",
       "      <th>dominance</th>\n",
       "      <th>concreteness</th>\n",
       "      <th>imageability</th>\n",
       "      <th>familiarity</th>\n",
       "      <th>aoa</th>\n",
       "      <th>semsize</th>\n",
       "      <th>gender</th>\n",
       "    </tr>\n",
       "  </thead>\n",
       "  <tbody>\n",
       "    <tr>\n",
       "      <th>732</th>\n",
       "      <td>star (sky)</td>\n",
       "      <td>4</td>\n",
       "      <td>5.6</td>\n",
       "      <td>7.235</td>\n",
       "      <td>5.086</td>\n",
       "      <td>6.0</td>\n",
       "      <td>6.743</td>\n",
       "      <td>6.333</td>\n",
       "      <td>2.229</td>\n",
       "      <td>4.429</td>\n",
       "      <td>2.914</td>\n",
       "    </tr>\n",
       "  </tbody>\n",
       "</table>\n",
       "</div>"
      ],
      "text/plain": [
       "           word  length  arousal  valence  dominance  concreteness  \\\n",
       "732  star (sky)       4      5.6    7.235      5.086           6.0   \n",
       "\n",
       "     imageability  familiarity    aoa  semsize  gender  \n",
       "732         6.743        6.333  2.229    4.429   2.914  "
      ]
     },
     "execution_count": 8,
     "metadata": {},
     "output_type": "execute_result"
    }
   ],
   "source": [
    "df_poly[df_poly['word'] == 'star (sky)']"
   ]
  },
  {
   "cell_type": "code",
   "execution_count": 9,
   "id": "df64fa6d",
   "metadata": {
    "ExecuteTime": {
     "end_time": "2023-09-01T06:52:58.350529Z",
     "start_time": "2023-09-01T06:52:58.195114Z"
    }
   },
   "outputs": [
    {
     "data": {
      "image/png": "[encoded data removed]",
      "text/plain": [
       "<Figure size 640x480 with 1 Axes>"
      ]
     },
     "metadata": {},
     "output_type": "display_data"
    }
   ],
   "source": [
    "w_aggr = df[df['word'] == 'star'].values\n",
    "w_cel = df_poly[df_poly['word'] == 'star (celebrity)'].values\n",
    "w_sky = df_poly[df_poly['word'] == 'star (sky)'].values\n",
    "\n",
    "plt.plot(w_aggr[:,2:-1][0].tolist(), '.', label='star', ms=15)\n",
    "plt.plot(w_cel[:,2:-1][0].tolist(), '.', label='star (celebrity)', ms=15)\n",
    "plt.plot(w_sky[:,2:-1][0].tolist(), '.', label='star (sky)', ms=15)\n",
    "\n",
    "plt.legend(loc='best', fontsize=16)\n",
    "plt.ylabel('rating', fontsize=16)\n",
    "plt.xticks(range(len(df.columns.tolist()[2:-1])), df.columns.tolist()[2:-1], fontsize=13, rotation=45)\n",
    "plt.yticks(fontsize=16)\n",
    "plt.grid(alpha=0.3)\n",
    "plt.ylim(0,9)\n",
    "plt.tight_layout()\n",
    "\n",
    "plt.show()"
   ]
  },
  {
   "cell_type": "code",
   "execution_count": null,
   "id": "16137ff0",
   "metadata": {},
   "outputs": [],
   "source": []
  }
 ],
 "metadata": {
  "kernelspec": {
   "display_name": "Python 3 (ipykernel)",
   "language": "python",
   "name": "python3"
  },
  "language_info": {
   "codemirror_mode": {
    "name": "ipython",
    "version": 3
   },
   "file_extension": ".py",
   "mimetype": "text/x-python",
   "name": "python",
   "nbconvert_exporter": "python",
   "pygments_lexer": "ipython3",
   "version": "3.7.4"
  }
 },
 "nbformat": 4,
 "nbformat_minor": 5
}
