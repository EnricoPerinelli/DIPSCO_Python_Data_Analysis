{
 "cells": [
  {
   "cell_type": "markdown",
   "id": "dd4eaa94",
   "metadata": {},
   "source": [
    "<img align=\"right\" width=\"320\" src=\"http://www.sobigdata.eu/sites/default/files/SoBigData_RI_3.png\">\n",
    "\n",
    "**Author:** [Riccardo Guidotti](http://kdd.isti.cnr.it/people/riccardo-guidotti), Salvatore Citraro  \n",
    "**Python version:**  3.x"
   ]
  },
  {
   "cell_type": "code",
   "execution_count": 1,
   "id": "f9bd7fc8",
   "metadata": {},
   "outputs": [],
   "source": [
    "import warnings\n",
    "warnings.filterwarnings(\"ignore\")"
   ]
  },
  {
   "cell_type": "code",
   "execution_count": 2,
   "id": "fd42202a",
   "metadata": {},
   "outputs": [],
   "source": [
    "%matplotlib inline\n",
    "\n",
    "import numpy as np\n",
    "import pandas as pd\n",
    "import matplotlib.pyplot as plt\n",
    "\n",
    "from sklearn import datasets\n",
    "from sklearn.linear_model import LinearRegression, Ridge, Lasso\n",
    "from sklearn.metrics import r2_score, mean_squared_error, mean_absolute_error"
   ]
  },
  {
   "cell_type": "markdown",
   "id": "6ca84ce8",
   "metadata": {},
   "source": [
    "\n",
    "# Regression with Python\n",
    "\n",
    "This notebook contains an overview of basic python functionalities for regression using the [sklearn](http://scikit-learn.org/stable/) library.  \n",
    "Note: this notebook is purposely not 100% comprehensive, it only discusses the basic things you need to get started."
   ]
  },
  {
   "cell_type": "markdown",
   "id": "736e7f86",
   "metadata": {},
   "source": [
    "## Overview\n",
    "\n",
    "Given a dataset containing $N$ observations, <b>Regression</b> is the task of learning a target function $f$ that maps each\n",
    "input attribute set $X$ into an output $Y$.\n",
    "\n",
    "The goal is to find the target function that can fit the input data with <b>minimum error</b>.\n",
    "\n",
    "<b> Linear Regression </b> is a linear approach to modeling the relationship between a dependent variable $Y$ and one or more independent (explanatory) variables $X$. \n",
    "\n",
    "* The case of one explanatory variable is called <b>simple linear regression</b>;\n",
    "* For more than one explanatory variable, the process is called <b>multiple linear regression</b>;\n",
    "* For multiple correlated dependent variables, the process is called <b>multivariate linear regression</b>."
   ]
  },
  {
   "cell_type": "markdown",
   "id": "c6564e48",
   "metadata": {},
   "source": [
    "E.g., For simple linear regression: $Y = mX + b$, where $Y$ is the dependent variable, $X$ is the independent variable, $m$ the slope, $b$ the intercept.\n",
    "\n",
    "The goal is to find estimated values $m$ and $b$ for the parameters $m$ and $b$ which would provide the <i>best</i> fit for the data points.\n",
    "\n",
    "In general, a standard approach is to apply the <b>method of least squares</b> which attempts to find the parameters $m, b$ that minimizes the <b>sum of squared error (SSE) </b>:\n",
    "\n",
    "<br />\n",
    "\n",
    "<div align=\"center\">\n",
    "  $$SSE = \\sum_i{(y_i - f(x_i))^2} = \\sum_i{(y_i - mx_i - b))^2}$$ \n",
    "</div>\n",
    "\n",
    "\n",
    "$m = \\frac{N\\sum{xy}-\\sum{x}\\sum{y}}{N\\sum{(x^2)}-(\\sum{x})^2}$\n",
    "\n",
    "$b = \\frac{\\sum{y}-m\\sum{x}}{N}$"
   ]
  },
  {
   "cell_type": "markdown",
   "id": "f8e5bbec",
   "metadata": {},
   "source": [
    "## A Toy Example"
   ]
  },
  {
   "cell_type": "code",
   "execution_count": 3,
   "id": "2d3a284e",
   "metadata": {},
   "outputs": [
    {
     "name": "stdout",
     "output_type": "stream",
     "text": [
      "Coefficients: \n",
      " [938.23786125]\n",
      "\n",
      "\n",
      "Intercept: \n",
      " 152.91886182616167\n",
      "\n",
      "\n",
      "Evaluation:\n",
      "R2: 0.473\n",
      "MSE: 2548.072\n",
      "MAE: 41.227\n"
     ]
    },
    {
     "data": {
      "image/png": "[encoded data removed]",
      "text/plain": [
       "<Figure size 432x288 with 1 Axes>"
      ]
     },
     "metadata": {},
     "output_type": "display_data"
    }
   ],
   "source": [
    "# Code source: Jaques Grobler\n",
    "# License: BSD 3 clause\n",
    "\n",
    "# Load the diabetes dataset\n",
    "diabetes_X, diabetes_y = datasets.load_diabetes(return_X_y=True)\n",
    "\n",
    "# Use only one feature\n",
    "diabetes_X = diabetes_X[:, np.newaxis, 2]\n",
    "\n",
    "# Split the data into training/testing sets\n",
    "diabetes_X_train = diabetes_X[:-20]\n",
    "diabetes_X_test = diabetes_X[-20:]\n",
    "\n",
    "# Split the targets into training/testing sets\n",
    "diabetes_y_train = diabetes_y[:-20]\n",
    "diabetes_y_test = diabetes_y[-20:]\n",
    "\n",
    "# Create linear regression object\n",
    "regr = LinearRegression()\n",
    "\n",
    "# Train the model using the training sets\n",
    "regr.fit(diabetes_X_train, diabetes_y_train)\n",
    "\n",
    "# Make predictions using the testing set\n",
    "diabetes_y_pred = regr.predict(diabetes_X_test)\n",
    "\n",
    "print('Coefficients: \\n', regr.coef_)\n",
    "print('\\n')\n",
    "print('Intercept: \\n', regr.intercept_)\n",
    "print('\\n')\n",
    "\n",
    "print('Evaluation:')\n",
    "print('R2: %.3f' % r2_score(diabetes_y_test, diabetes_y_pred))\n",
    "print('MSE: %.3f' % mean_squared_error(diabetes_y_test, diabetes_y_pred))\n",
    "print('MAE: %.3f' % mean_absolute_error(diabetes_y_test, diabetes_y_pred))\n",
    "\n",
    "# Plot outputs\n",
    "plt.scatter(diabetes_X_test, diabetes_y_test, color=\"black\")\n",
    "plt.plot(diabetes_X_test, diabetes_y_pred, color=\"blue\", linewidth=3)\n",
    "\n",
    "plt.xticks(())\n",
    "plt.yticks(())\n",
    "\n",
    "plt.show()"
   ]
  },
  {
   "cell_type": "markdown",
   "id": "958bca80",
   "metadata": {},
   "source": [
    "# Evaluating Regression"
   ]
  },
  {
   "cell_type": "markdown",
   "id": "d692c5fd",
   "metadata": {},
   "source": [
    "* <b>Mean Absolute Error (MSE)</b>:\n",
    "\n",
    "$$ MAE = \\sum_i^N{|y_i-\\hat{y}_i}| $$\n",
    "\n",
    "\n",
    "* <b>Mean Squared Error (MSE)</b>:\n",
    "\n",
    "$$ MSE = \\sum_i^N{(y_i-\\hat{y}_i})^2 $$\n",
    "\n",
    "* <b>Total Sum of Squares (TSS)</b>:\n",
    "\n",
    "$$ TSS = \\sum_i^N{(y_i-\\bar{y}})^2 $$\n",
    "\n",
    "* <b> Coefficient of Determination ($R^2$) </b>:\n",
    "    \n",
    "$$ R^2 = 1 - \\frac{MSE}{TSS} $$\n",
    "\n",
    "\n",
    "<br />\n",
    "where $N$ are the points, $\\hat{y}_i$ is a predicted value; $\\bar{y} = \\sum_i^N{y_i}$"
   ]
  },
  {
   "cell_type": "markdown",
   "id": "fd258d7c",
   "metadata": {},
   "source": [
    "# Glasgow Norms"
   ]
  },
  {
   "cell_type": "code",
   "execution_count": 4,
   "id": "38e7cd2a",
   "metadata": {},
   "outputs": [
    {
     "data": {
      "text/html": [
       "<div>\n",
       "<style scoped>\n",
       "    .dataframe tbody tr th:only-of-type {\n",
       "        vertical-align: middle;\n",
       "    }\n",
       "\n",
       "    .dataframe tbody tr th {\n",
       "        vertical-align: top;\n",
       "    }\n",
       "\n",
       "    .dataframe thead th {\n",
       "        text-align: right;\n",
       "    }\n",
       "</style>\n",
       "<table border=\"1\" class=\"dataframe\">\n",
       "  <thead>\n",
       "    <tr style=\"text-align: right;\">\n",
       "      <th></th>\n",
       "      <th>word</th>\n",
       "      <th>length</th>\n",
       "      <th>arousal</th>\n",
       "      <th>valence</th>\n",
       "      <th>dominance</th>\n",
       "      <th>concreteness</th>\n",
       "      <th>imageability</th>\n",
       "      <th>familiarity</th>\n",
       "      <th>aoa</th>\n",
       "      <th>semsize</th>\n",
       "      <th>gender</th>\n",
       "      <th>polysemy</th>\n",
       "      <th>web_corpus_freq</th>\n",
       "    </tr>\n",
       "  </thead>\n",
       "  <tbody>\n",
       "    <tr>\n",
       "      <th>0</th>\n",
       "      <td>abattoir</td>\n",
       "      <td>8</td>\n",
       "      <td>4.200</td>\n",
       "      <td>2.864</td>\n",
       "      <td>4.333</td>\n",
       "      <td>5.455</td>\n",
       "      <td>4.391</td>\n",
       "      <td>2.382</td>\n",
       "      <td>6.760</td>\n",
       "      <td>4.652</td>\n",
       "      <td>5.391</td>\n",
       "      <td>0</td>\n",
       "      <td>160074.0</td>\n",
       "    </tr>\n",
       "    <tr>\n",
       "      <th>1</th>\n",
       "      <td>abbey</td>\n",
       "      <td>5</td>\n",
       "      <td>3.125</td>\n",
       "      <td>5.781</td>\n",
       "      <td>4.667</td>\n",
       "      <td>5.906</td>\n",
       "      <td>5.344</td>\n",
       "      <td>3.324</td>\n",
       "      <td>5.177</td>\n",
       "      <td>5.121</td>\n",
       "      <td>3.303</td>\n",
       "      <td>0</td>\n",
       "      <td>4224864.0</td>\n",
       "    </tr>\n",
       "    <tr>\n",
       "      <th>2</th>\n",
       "      <td>abbreviate</td>\n",
       "      <td>10</td>\n",
       "      <td>3.273</td>\n",
       "      <td>5.250</td>\n",
       "      <td>5.235</td>\n",
       "      <td>3.286</td>\n",
       "      <td>3.177</td>\n",
       "      <td>5.121</td>\n",
       "      <td>5.543</td>\n",
       "      <td>2.667</td>\n",
       "      <td>3.971</td>\n",
       "      <td>0</td>\n",
       "      <td>140105.0</td>\n",
       "    </tr>\n",
       "    <tr>\n",
       "      <th>3</th>\n",
       "      <td>abdicate</td>\n",
       "      <td>8</td>\n",
       "      <td>4.194</td>\n",
       "      <td>3.767</td>\n",
       "      <td>4.419</td>\n",
       "      <td>3.367</td>\n",
       "      <td>2.516</td>\n",
       "      <td>3.971</td>\n",
       "      <td>6.233</td>\n",
       "      <td>4.679</td>\n",
       "      <td>5.167</td>\n",
       "      <td>0</td>\n",
       "      <td>124123.0</td>\n",
       "    </tr>\n",
       "    <tr>\n",
       "      <th>4</th>\n",
       "      <td>abdication</td>\n",
       "      <td>10</td>\n",
       "      <td>3.846</td>\n",
       "      <td>3.880</td>\n",
       "      <td>4.800</td>\n",
       "      <td>3.292</td>\n",
       "      <td>2.571</td>\n",
       "      <td>3.097</td>\n",
       "      <td>6.407</td>\n",
       "      <td>5.083</td>\n",
       "      <td>4.571</td>\n",
       "      <td>0</td>\n",
       "      <td>128143.0</td>\n",
       "    </tr>\n",
       "  </tbody>\n",
       "</table>\n",
       "</div>"
      ],
      "text/plain": [
       "         word  length  arousal  valence  dominance  concreteness  \\\n",
       "0    abattoir       8    4.200    2.864      4.333         5.455   \n",
       "1       abbey       5    3.125    5.781      4.667         5.906   \n",
       "2  abbreviate      10    3.273    5.250      5.235         3.286   \n",
       "3    abdicate       8    4.194    3.767      4.419         3.367   \n",
       "4  abdication      10    3.846    3.880      4.800         3.292   \n",
       "\n",
       "   imageability  familiarity    aoa  semsize  gender  polysemy  \\\n",
       "0         4.391        2.382  6.760    4.652   5.391         0   \n",
       "1         5.344        3.324  5.177    5.121   3.303         0   \n",
       "2         3.177        5.121  5.543    2.667   3.971         0   \n",
       "3         2.516        3.971  6.233    4.679   5.167         0   \n",
       "4         2.571        3.097  6.407    5.083   4.571         0   \n",
       "\n",
       "   web_corpus_freq  \n",
       "0         160074.0  \n",
       "1        4224864.0  \n",
       "2         140105.0  \n",
       "3         124123.0  \n",
       "4         128143.0  "
      ]
     },
     "execution_count": 4,
     "metadata": {},
     "output_type": "execute_result"
    }
   ],
   "source": [
    "df = pd.read_csv(\"../data/words_glasgow.csv\", skipinitialspace=True, sep=',')\n",
    "df.head()"
   ]
  },
  {
   "cell_type": "code",
   "execution_count": 5,
   "id": "d5aee32d",
   "metadata": {},
   "outputs": [],
   "source": [
    "target = 'concreteness'\n",
    "\n",
    "to_drop = ['polysemy', 'word', 'web_corpus_freq', target]\n",
    "attributes = [col for col in df.columns if col not in to_drop]\n",
    "\n",
    "X = df[attributes].values\n",
    "y = df[target]"
   ]
  },
  {
   "cell_type": "code",
   "execution_count": 6,
   "id": "e55fe49f",
   "metadata": {},
   "outputs": [],
   "source": [
    "from sklearn.model_selection import train_test_split\n",
    "\n",
    "X_train, X_test, y_train, y_test = train_test_split(X, y, test_size=0.3)"
   ]
  },
  {
   "cell_type": "code",
   "execution_count": 7,
   "id": "b3738d96",
   "metadata": {},
   "outputs": [
    {
     "data": {
      "text/plain": [
       "array([6.   , 3.086, 5.059, 4.941, 4.606, 4.906, 4.829, 5.206, 4.03 ])"
      ]
     },
     "execution_count": 7,
     "metadata": {},
     "output_type": "execute_result"
    }
   ],
   "source": [
    "X_train[0]"
   ]
  },
  {
   "cell_type": "code",
   "execution_count": 8,
   "id": "60d15129",
   "metadata": {},
   "outputs": [
    {
     "data": {
      "text/plain": [
       "5.455"
      ]
     },
     "execution_count": 8,
     "metadata": {},
     "output_type": "execute_result"
    }
   ],
   "source": [
    "y_train[0]"
   ]
  },
  {
   "cell_type": "code",
   "execution_count": 9,
   "id": "7236d7fe",
   "metadata": {},
   "outputs": [
    {
     "data": {
      "text/plain": [
       "LinearRegression(copy_X=True, fit_intercept=True, n_jobs=None, normalize=False)"
      ]
     },
     "execution_count": 9,
     "metadata": {},
     "output_type": "execute_result"
    }
   ],
   "source": [
    "reg = LinearRegression()\n",
    "reg.fit(X_train, y_train)"
   ]
  },
  {
   "cell_type": "code",
   "execution_count": 10,
   "id": "e4025b4d",
   "metadata": {},
   "outputs": [
    {
     "name": "stdout",
     "output_type": "stream",
     "text": [
      "Coefficients: \n",
      " [-0.00185744 -0.19025419  0.0752856  -0.01092416  0.94311187 -0.05513723\n",
      "  0.06582839 -0.09072955  0.12998068]\n",
      "\n",
      "\n",
      "Intercept: \n",
      " 0.5476200844287051\n"
     ]
    }
   ],
   "source": [
    "print('Coefficients: \\n', reg.coef_)\n",
    "print(\"\\n\")\n",
    "print('Intercept: \\n', reg.intercept_)"
   ]
  },
  {
   "cell_type": "code",
   "execution_count": 11,
   "id": "d3557fbe",
   "metadata": {},
   "outputs": [],
   "source": [
    "y_pred = reg.predict(X_test)"
   ]
  },
  {
   "cell_type": "code",
   "execution_count": 12,
   "id": "1cf1ded8",
   "metadata": {},
   "outputs": [
    {
     "name": "stdout",
     "output_type": "stream",
     "text": [
      "R2: 0.876\n",
      "MSE: 0.255\n",
      "MAE: 0.386\n"
     ]
    }
   ],
   "source": [
    "print('R2: %.3f' % r2_score(y_test, y_pred))\n",
    "print('MSE: %.3f' % mean_squared_error(y_test, y_pred))\n",
    "print('MAE: %.3f' % mean_absolute_error(y_test, y_pred))"
   ]
  },
  {
   "cell_type": "markdown",
   "id": "c307aaa7",
   "metadata": {},
   "source": [
    "## Linear Regression in 2 dimensions"
   ]
  },
  {
   "cell_type": "code",
   "execution_count": 13,
   "id": "24d5abd0",
   "metadata": {},
   "outputs": [
    {
     "name": "stdout",
     "output_type": "stream",
     "text": [
      "R2: 0.829\n",
      "MSE: 0.351\n",
      "MAE: 0.461\n"
     ]
    }
   ],
   "source": [
    "var = 4\n",
    "\n",
    "reg = LinearRegression()\n",
    "reg.fit(X_train.T[var].reshape(-1, 1), y_train)\n",
    "y_pred = reg.predict(X_test.T[var].reshape(-1, 1))\n",
    "\n",
    "print('R2: %.3f' % r2_score(y_test, y_pred))\n",
    "print('MSE: %.3f' % mean_squared_error(y_test, y_pred))\n",
    "print('MAE: %.3f' % mean_absolute_error(y_test, y_pred))"
   ]
  },
  {
   "cell_type": "code",
   "execution_count": 14,
   "id": "10b47bf0",
   "metadata": {},
   "outputs": [],
   "source": [
    "x_values = sorted([v for v in X_test.T[var]])\n",
    "y_values = y_pred[np.argsort(X_test.T[var])]"
   ]
  },
  {
   "cell_type": "code",
   "execution_count": 15,
   "id": "45e46d87",
   "metadata": {},
   "outputs": [
    {
     "data": {
      "image/png": "[encoded data removed]",
      "text/plain": [
       "<Figure size 432x288 with 1 Axes>"
      ]
     },
     "metadata": {
      "needs_background": "light"
     },
     "output_type": "display_data"
    }
   ],
   "source": [
    "plt.scatter(X_test.T[var], y_test,  color='black')\n",
    "plt.plot(x_values, y_values, color='blue', linewidth=3)\n",
    "plt.show()"
   ]
  },
  {
   "cell_type": "code",
   "execution_count": null,
   "id": "3f6ab9df",
   "metadata": {},
   "outputs": [],
   "source": []
  },
  {
   "cell_type": "code",
   "execution_count": null,
   "id": "1c1a5de7",
   "metadata": {},
   "outputs": [],
   "source": []
  }
 ],
 "metadata": {
  "kernelspec": {
   "display_name": "Python 3 (ipykernel)",
   "language": "python",
   "name": "python3"
  },
  "language_info": {
   "codemirror_mode": {
    "name": "ipython",
    "version": 3
   },
   "file_extension": ".py",
   "mimetype": "text/x-python",
   "name": "python",
   "nbconvert_exporter": "python",
   "pygments_lexer": "ipython3",
   "version": "3.7.4"
  }
 },
 "nbformat": 4,
 "nbformat_minor": 5
}
